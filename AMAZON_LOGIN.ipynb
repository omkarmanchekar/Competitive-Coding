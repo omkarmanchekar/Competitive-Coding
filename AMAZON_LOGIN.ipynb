{
 "cells": [
  {
   "cell_type": "code",
   "execution_count": 8,
   "metadata": {},
   "outputs": [
    {
     "name": "stdout",
     "output_type": "stream",
     "text": [
      "Registered Successfully\n",
      "Registered Successfully\n",
      "Logged in Succ\n",
      "Logged in unSucc\n",
      "Logged Out Successfully\n"
     ]
    }
   ],
   "source": [
    "arr=['register david david123', 'register adam 1Adam1', 'login david david123','login adam 1adam1','logout david']\n",
    "\n",
    "def sol(requestLog):\n",
    "    regsitered={}\n",
    "    loggedin={}\n",
    "    for i in requestLog:\n",
    "        req = i.split()\n",
    "        if(req[0] == 'logout'):\n",
    "            if( req[1] in loggedin):\n",
    "                print(\"Logged Out Successfully\")\n",
    "            else:\n",
    "                print(\"Logged Out Unsuccessfully\")\n",
    "\n",
    "        elif(req[0] == 'register'):\n",
    "            if(req[1] not in regsitered):\n",
    "                regsitered[req[1]] = req[2]\n",
    "                loggedin[req[1]] = False\n",
    "                print(\"Registered Successfully\")\n",
    "            else:\n",
    "                print(\"Registered Unsuccessfully\")\n",
    "        \n",
    "        else:\n",
    "            if(req[1] in regsitered and loggedin[req[1]] == False and req[2] == regsitered[req[1]]):\n",
    "                loggedin[req[1]] = True\n",
    "                print(\"Logged in Succ\")\n",
    "            else:\n",
    "                print(\"Logged in unSucc\")\n",
    "\n",
    "            \n",
    "\n",
    "\n",
    "\n",
    "\n",
    "sol(arr)\n",
    "\n"
   ]
  },
  {
   "cell_type": "code",
   "execution_count": 4,
   "metadata": {},
   "outputs": [
    {
     "name": "stdout",
     "output_type": "stream",
     "text": [
      "['logout', 'david']\n"
     ]
    }
   ],
   "source": [
    "import collections \n",
    "\n",
    "hash=collections.defaultdict(tuple)\n",
    "\n"
   ]
  },
  {
   "cell_type": "code",
   "execution_count": null,
   "metadata": {},
   "outputs": [],
   "source": []
  }
 ],
 "metadata": {
  "interpreter": {
   "hash": "aee8b7b246df8f9039afb4144a1f6fd8d2ca17a180786b69acc140d282b71a49"
  },
  "kernelspec": {
   "display_name": "Python 3.9.7 64-bit",
   "language": "python",
   "name": "python3"
  },
  "language_info": {
   "codemirror_mode": {
    "name": "ipython",
    "version": 3
   },
   "file_extension": ".py",
   "mimetype": "text/x-python",
   "name": "python",
   "nbconvert_exporter": "python",
   "pygments_lexer": "ipython3",
   "version": "3.9.7"
  },
  "orig_nbformat": 4
 },
 "nbformat": 4,
 "nbformat_minor": 2
}
