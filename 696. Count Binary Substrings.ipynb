{
 "cells": [
  {
   "cell_type": "markdown",
   "metadata": {},
   "source": [
    "Give a binary string s, return the number of non-empty substrings that have the same number of 0's and 1's, and all the 0's and all the 1's in these substrings are grouped consecutively.\n",
    "\n",
    "Substrings that occur multiple times are counted the number of times they occur.\n",
    "\n",
    " \n",
    "\n",
    "Example 1:\n",
    "\n",
    "Input: s = \"00110011\"\n",
    "Output: 6\n",
    "Explanation: There are 6 substrings that have equal number of consecutive 1's and 0's: \"0011\", \"01\", \"1100\", \"10\", \"0011\", and \"01\".\n",
    "Notice that some of these substrings repeat and are counted the number of times they occur.\n",
    "Also, \"00110011\" is not a valid substring because all the 0's (and 1's) are not grouped together.\n"
   ]
  },
  {
   "cell_type": "code",
   "execution_count": 21,
   "metadata": {},
   "outputs": [
    {
     "data": {
      "text/plain": [
       "26361"
      ]
     },
     "execution_count": 21,
     "metadata": {},
     "output_type": "execute_result"
    }
   ],
   "source": [
    "# take a lot of time and memeory as well \n",
    "\n",
    "def binsubString(s):\n",
    "    if(len(s)<2):\n",
    "        return 0\n",
    "    x=[]\n",
    "    for i in range(len(s)-1):\n",
    "        if(s[i]!=s[i+1]):\n",
    "            left=i\n",
    "            left_value=s[i]\n",
    "            right=i+1\n",
    "            right_value=s[i+1]\n",
    "            x.append(s[left:right+1])\n",
    "            while(left>0 and right<len(s)-1 and left_value == s[left-1] and right_value == s[right+1]):\n",
    "                left-=1\n",
    "                right+=1\n",
    "                x.append(s[left:right+1])\n",
    "    return len(x)\n",
    "\n",
    "            \n",
    "\n",
    "binsubString(\"100111001\")"
   ]
  },
  {
   "cell_type": "code",
   "execution_count": 33,
   "metadata": {},
   "outputs": [
    {
     "data": {
      "text/plain": [
       "6"
      ]
     },
     "execution_count": 33,
     "metadata": {},
     "output_type": "execute_result"
    }
   ],
   "source": [
    "# Time complexity O(N)\n",
    "\n",
    "def binsubString(s):\n",
    "    \n",
    "    x=[1]\n",
    "    for i in range(len(s)-1):\n",
    "        if(s[i]!=s[i+1]):\n",
    "            x.append(1)\n",
    "        else:\n",
    "            x[-1]+=1\n",
    "    ans=0\n",
    "    for i in range(len(x)-1):\n",
    "        ans=ans+min(x[i],x[i+1])\n",
    "\n",
    "    return ans\n",
    "\n",
    "binsubString(\"100111001\")"
   ]
  },
  {
   "cell_type": "code",
   "execution_count": 29,
   "metadata": {},
   "outputs": [
    {
     "name": "stdout",
     "output_type": "stream",
     "text": [
      "0\n",
      "1\n",
      "2\n",
      "2\n",
      "5 1\n"
     ]
    }
   ],
   "source": [
    "s=\"100111001\"\n",
    "ans, prev, cur = 0, 0, 1\n",
    "for i in range(1, len(s)):\n",
    "    if s[i-1] != s[i]:\n",
    "        print(min(prev,cur))\n",
    "        ans += min(prev, cur)\n",
    "        prev, cur = cur, 1\n",
    "    else:\n",
    "        cur += 1\n",
    "print(ans,min(prev, cur))"
   ]
  },
  {
   "cell_type": "code",
   "execution_count": null,
   "metadata": {},
   "outputs": [],
   "source": []
  }
 ],
 "metadata": {
  "interpreter": {
   "hash": "aee8b7b246df8f9039afb4144a1f6fd8d2ca17a180786b69acc140d282b71a49"
  },
  "kernelspec": {
   "display_name": "Python 3.9.7 64-bit",
   "language": "python",
   "name": "python3"
  },
  "language_info": {
   "codemirror_mode": {
    "name": "ipython",
    "version": 3
   },
   "file_extension": ".py",
   "mimetype": "text/x-python",
   "name": "python",
   "nbconvert_exporter": "python",
   "pygments_lexer": "ipython3",
   "version": "3.9.7"
  },
  "orig_nbformat": 4
 },
 "nbformat": 4,
 "nbformat_minor": 2
}
