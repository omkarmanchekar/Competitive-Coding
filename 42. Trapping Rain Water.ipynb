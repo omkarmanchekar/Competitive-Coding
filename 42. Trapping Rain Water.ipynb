{
 "cells": [
  {
   "cell_type": "code",
   "execution_count": 7,
   "metadata": {},
   "outputs": [
    {
     "name": "stdout",
     "output_type": "stream",
     "text": [
      "height 0 left_max 0 right_max 3 water 0\n",
      "height 1 left_max 1 right_max 3 water 0\n",
      "height 0 left_max 1 right_max 3 water 1\n",
      "height 2 left_max 2 right_max 3 water 0\n",
      "height 1 left_max 2 right_max 3 water 1\n",
      "height 0 left_max 2 right_max 3 water 2\n",
      "height 1 left_max 2 right_max 3 water 1\n",
      "height 3 left_max 3 right_max 3 water 0\n",
      "height 2 left_max 3 right_max 2 water 0\n",
      "height 1 left_max 3 right_max 2 water 1\n",
      "height 2 left_max 3 right_max 2 water 0\n",
      "height 1 left_max 3 right_max 1 water 0\n"
     ]
    },
    {
     "data": {
      "text/plain": [
       "6"
      ]
     },
     "execution_count": 7,
     "metadata": {},
     "output_type": "execute_result"
    }
   ],
   "source": [
    "def trapingWater(heights):\n",
    "    water=0\n",
    "    for i in range(len(heights)):\n",
    "        left_max=0\n",
    "        right_max=0\n",
    "        for j in range(i,-1,-1):\n",
    "            left_max=max(heights[j],left_max)\n",
    "        for k in range(i,len(heights)):\n",
    "            right_max=max(heights[k],right_max)\n",
    "        print(\"height\",heights[i],\"left_max\",left_max,\"right_max\",right_max,\"water\",min(left_max,right_max)-heights[i])\n",
    "        water=water+min(left_max,right_max)-heights[i]\n",
    "    \n",
    "    return water\n",
    "\n",
    "            \n",
    "        \n",
    "trapingWater([0,1,0,2,1,0,1,3,2,1,2,1])"
   ]
  },
  {
   "cell_type": "code",
   "execution_count": 63,
   "metadata": {},
   "outputs": [
    {
     "data": {
      "text/plain": [
       "9"
      ]
     },
     "execution_count": 63,
     "metadata": {},
     "output_type": "execute_result"
    }
   ],
   "source": [
    "def trapingWater(height):\n",
    "    water=0\n",
    "    left_max=[]\n",
    "    right_max=[]\n",
    "    left_max.append(height[0])\n",
    "    right_max.append(height[-1])\n",
    "    for i in range(1,len(height)):\n",
    "        left_max.append(max(height[i],left_max[i-1]))\n",
    "    for j in range(len(height)-2,-1,-1):\n",
    "        right_max.append(max(height[j],right_max[-1]))\n",
    "        \n",
    "    right_max.reverse()\n",
    "    for i in range(len(height)):\n",
    "        water=water+min(left_max[i],right_max[i])-height[i]\n",
    "\n",
    "    return water\n",
    "    \n",
    "\n",
    "trapingWater()\n"
   ]
  },
  {
   "cell_type": "code",
   "execution_count": 8,
   "metadata": {},
   "outputs": [
    {
     "data": {
      "text/plain": [
       "[1, 2, 2, 3, 3, 1, 3, 0, 0, 2, 0, 0]"
      ]
     },
     "execution_count": 8,
     "metadata": {},
     "output_type": "execute_result"
    }
   ],
   "source": [
    "# using monotonic stack \n",
    "\n",
    "def trapwater(heights):\n",
    "    right_max=[0]*len(heights)\n",
    "    mono=[]\n",
    "    for i,v in enumerate(heights):\n",
    "        while(mono and v > mono[-1][1]):\n",
    "            right_max[mono[-1][0]] = v\n",
    "            mono.pop()\n",
    "        mono.append((i,v))\n",
    "\n",
    "    return right_max\n",
    "\n",
    "trapwater([0,1,0,2,1,0,1,3,2,1,2,1])"
   ]
  },
  {
   "cell_type": "code",
   "execution_count": 10,
   "metadata": {},
   "outputs": [
    {
     "data": {
      "text/plain": [
       "4.5"
      ]
     },
     "execution_count": 10,
     "metadata": {},
     "output_type": "execute_result"
    }
   ],
   "source": [
    "9/2"
   ]
  },
  {
   "cell_type": "code",
   "execution_count": 29,
   "metadata": {},
   "outputs": [
    {
     "name": "stdout",
     "output_type": "stream",
     "text": [
      "3\n",
      "1\n",
      "1\n"
     ]
    },
    {
     "data": {
      "text/plain": [
       "1"
      ]
     },
     "execution_count": 29,
     "metadata": {},
     "output_type": "execute_result"
    }
   ],
   "source": [
    "def binary(arr,x):\n",
    "    mid=len(arr)//2\n",
    "    print(mid)\n",
    "    if(arr[mid] == x and (arr[mid-1] < x or len(arr) ==1)):\n",
    "        return mid\n",
    "    if(arr[mid] < x):\n",
    "        return binary(arr[mid:],x)\n",
    "    else:\n",
    "        return binary(arr[:mid-1],x)\n",
    "\n",
    "binary([2,4,5,6,8,9],9)"
   ]
  },
  {
   "cell_type": "code",
   "execution_count": null,
   "metadata": {},
   "outputs": [],
   "source": []
  }
 ],
 "metadata": {
  "interpreter": {
   "hash": "aee8b7b246df8f9039afb4144a1f6fd8d2ca17a180786b69acc140d282b71a49"
  },
  "kernelspec": {
   "display_name": "Python 3.9.7 64-bit",
   "language": "python",
   "name": "python3"
  },
  "language_info": {
   "codemirror_mode": {
    "name": "ipython",
    "version": 3
   },
   "file_extension": ".py",
   "mimetype": "text/x-python",
   "name": "python",
   "nbconvert_exporter": "python",
   "pygments_lexer": "ipython3",
   "version": "3.9.7"
  },
  "orig_nbformat": 4
 },
 "nbformat": 4,
 "nbformat_minor": 2
}
