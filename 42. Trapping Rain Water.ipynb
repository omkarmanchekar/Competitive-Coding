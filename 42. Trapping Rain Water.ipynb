{
 "cells": [
  {
   "cell_type": "code",
   "execution_count": 3,
   "metadata": {},
   "outputs": [
    {
     "data": {
      "text/plain": [
       "9"
      ]
     },
     "execution_count": 3,
     "metadata": {},
     "output_type": "execute_result"
    }
   ],
   "source": [
    "def trapingWater(heights):\n",
    "    water=0\n",
    "    for i in range(len(heights)):\n",
    "        left_max=0\n",
    "        right_max=0\n",
    "        for j in range(i,-1,-1):\n",
    "            left_max=max(heights[j],left_max)\n",
    "        for k in range(i,len(heights)):\n",
    "            right_max=max(heights[k],right_max)\n",
    "        \n",
    "        water=water+min(left_max,right_max)-heights[i]\n",
    "    \n",
    "    return water\n",
    "\n",
    "            \n",
    "        \n",
    "trapingWater([4,2,0,3,2,5])"
   ]
  },
  {
   "cell_type": "code",
   "execution_count": 63,
   "metadata": {},
   "outputs": [
    {
     "data": {
      "text/plain": [
       "9"
      ]
     },
     "execution_count": 63,
     "metadata": {},
     "output_type": "execute_result"
    }
   ],
   "source": [
    "def trapingWater(height):\n",
    "    water=0\n",
    "    left_max=[]\n",
    "    right_max=[]\n",
    "    left_max.append(height[0])\n",
    "    right_max.append(height[-1])\n",
    "    for i in range(1,len(height)):\n",
    "        left_max.append(max(height[i],left_max[i-1]))\n",
    "    for j in range(len(height)-2,-1,-1):\n",
    "        right_max.append(max(height[j],right_max[-1]))\n",
    "        \n",
    "    right_max.reverse()\n",
    "    for i in range(len(height)):\n",
    "        water=water+min(left_max[i],right_max[i])-height[i]\n",
    "\n",
    "    return water\n",
    "    \n",
    "\n",
    "trapingWater()\n"
   ]
  },
  {
   "cell_type": "code",
   "execution_count": 44,
   "metadata": {},
   "outputs": [
    {
     "data": {
      "text/plain": [
       "[0, 0, 1]"
      ]
     },
     "execution_count": 44,
     "metadata": {},
     "output_type": "execute_result"
    }
   ],
   "source": [
    "arr=[0,1]\n",
    "arr.insert(0,0)\n",
    "arr"
   ]
  },
  {
   "cell_type": "code",
   "execution_count": null,
   "metadata": {},
   "outputs": [],
   "source": []
  }
 ],
 "metadata": {
  "interpreter": {
   "hash": "aee8b7b246df8f9039afb4144a1f6fd8d2ca17a180786b69acc140d282b71a49"
  },
  "kernelspec": {
   "display_name": "Python 3.9.7 64-bit",
   "language": "python",
   "name": "python3"
  },
  "language_info": {
   "codemirror_mode": {
    "name": "ipython",
    "version": 3
   },
   "file_extension": ".py",
   "mimetype": "text/x-python",
   "name": "python",
   "nbconvert_exporter": "python",
   "pygments_lexer": "ipython3",
   "version": "3.9.7"
  },
  "orig_nbformat": 4
 },
 "nbformat": 4,
 "nbformat_minor": 2
}
