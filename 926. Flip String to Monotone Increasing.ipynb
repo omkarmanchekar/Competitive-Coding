{
 "cells": [
  {
   "cell_type": "code",
   "execution_count": 9,
   "metadata": {},
   "outputs": [
    {
     "name": "stdout",
     "output_type": "stream",
     "text": [
      "[0, 0, 0, 0, 1, 2, 2, 2] [5, 4, 3, 3, 3, 2, 1, 0]\n",
      "mini 8\n",
      "5\n",
      "mini 5\n",
      "4\n",
      "mini 4\n",
      "3\n",
      "mini 3\n",
      "3\n",
      "mini 3\n",
      "3\n",
      "mini 3\n",
      "3\n",
      "mini 3\n",
      "3\n",
      "mini 3\n",
      "2\n"
     ]
    },
    {
     "data": {
      "text/plain": [
       "2"
      ]
     },
     "execution_count": 9,
     "metadata": {},
     "output_type": "execute_result"
    }
   ],
   "source": [
    "def sol(s):\n",
    "    # ones array calculates count of \"1\"s on the left hand side of the index\n",
    "    ones = [0] * (len(s))\n",
    "\t# zeros array calculates count of \"0\"s on the right hand side of the index\n",
    "    zeros = [0] * (len(s))\n",
    "\t\n",
    "    for i in range(1,len(s)):\n",
    "        if s[i-1] == '1':\n",
    "            ones[i] = 1 + ones[i-1]\n",
    "        else:\n",
    "            ones[i] = ones[i-1]\n",
    "    for i in range(len(s)-2,-1,-1):\n",
    "        if s[i+1] == '0':\n",
    "            zeros[i] = 1 + zeros[i+1]\n",
    "        else:\n",
    "            zeros[i] = zeros[i+1]\n",
    "\n",
    "\n",
    "    print(ones,zeros)\n",
    "\n",
    "\n",
    "\n",
    "    mini = len(s)\n",
    "    for i in range(len(s)):\n",
    "        print(\"mini\",mini)\n",
    "        print(min(mini,zeros[i] + ones[i]))\n",
    "        mini = min(mini,zeros[i] + ones[i])\n",
    "    return mini\n",
    "\n",
    "\n",
    "sol(\"00011000\")"
   ]
  },
  {
   "cell_type": "code",
   "execution_count": null,
   "metadata": {},
   "outputs": [],
   "source": []
  }
 ],
 "metadata": {
  "interpreter": {
   "hash": "aee8b7b246df8f9039afb4144a1f6fd8d2ca17a180786b69acc140d282b71a49"
  },
  "kernelspec": {
   "display_name": "Python 3.9.7 64-bit",
   "language": "python",
   "name": "python3"
  },
  "language_info": {
   "codemirror_mode": {
    "name": "ipython",
    "version": 3
   },
   "file_extension": ".py",
   "mimetype": "text/x-python",
   "name": "python",
   "nbconvert_exporter": "python",
   "pygments_lexer": "ipython3",
   "version": "3.9.7"
  },
  "orig_nbformat": 4
 },
 "nbformat": 4,
 "nbformat_minor": 2
}
