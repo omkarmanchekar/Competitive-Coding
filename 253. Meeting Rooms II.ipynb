{
 "cells": [
  {
   "cell_type": "code",
   "execution_count": 58,
   "metadata": {},
   "outputs": [
    {
     "name": "stdout",
     "output_type": "stream",
     "text": [
      "[1, 2, 3, 8, 10, 11]\n",
      "[7, 10, 12, 19, 20, 30]\n"
     ]
    },
    {
     "data": {
      "text/plain": [
       "4"
      ]
     },
     "execution_count": 58,
     "metadata": {},
     "output_type": "execute_result"
    }
   ],
   "source": [
    "intervals = [(1, 10), (2, 7), (3, 19), (8, 12), (10, 20), (11, 30)]\n",
    "\n",
    "def sol(intervals):\n",
    "    count=0\n",
    "    e=0\n",
    "    start,end=zip(*intervals)\n",
    "    new_start=sorted(list(start))\n",
    "    new_end=sorted(list(end))\n",
    "    for i in new_start:\n",
    "        if(i<new_end[e]):\n",
    "            count+=1\n",
    "        else:\n",
    "            e+=1\n",
    "    return count\n",
    "\n",
    "sol(intervals)\n"
   ]
  },
  {
   "cell_type": "code",
   "execution_count": 79,
   "metadata": {},
   "outputs": [
    {
     "name": "stdout",
     "output_type": "stream",
     "text": [
      "[(2, 7), (1, 10), (8, 12), (3, 19), (10, 20), (11, 30)]\n",
      "(2, 7)\n",
      "end 7\n",
      "(1, 10)\n",
      "end 7\n",
      "(3, 19)\n",
      "end 10\n",
      "(11, 30)\n",
      "end 12\n"
     ]
    },
    {
     "data": {
      "text/plain": [
       "4"
      ]
     },
     "execution_count": 79,
     "metadata": {},
     "output_type": "execute_result"
    }
   ],
   "source": [
    "intervals = [(1, 10), (2, 7), (3, 19), (8, 12), (10, 20), (11, 30)]\n",
    "\n",
    "def sol(intervals):\n",
    "    interval=sorted(intervals,key=lambda x:x[1])\n",
    "    print(interval)\n",
    "    j=0\n",
    "    count=0\n",
    "    for i in interval:\n",
    "        if(i[0]<interval[j][1]):\n",
    "            count+=1\n",
    "            print(i)\n",
    "            print(\"end\",interval[j][1])\n",
    "        else:\n",
    "            j+=1\n",
    "\n",
    "    return count\n",
    "\n",
    "\n",
    "\n",
    "sol(intervals)"
   ]
  },
  {
   "cell_type": "code",
   "execution_count": null,
   "metadata": {},
   "outputs": [],
   "source": []
  }
 ],
 "metadata": {
  "interpreter": {
   "hash": "aee8b7b246df8f9039afb4144a1f6fd8d2ca17a180786b69acc140d282b71a49"
  },
  "kernelspec": {
   "display_name": "Python 3.9.7 64-bit",
   "language": "python",
   "name": "python3"
  },
  "language_info": {
   "codemirror_mode": {
    "name": "ipython",
    "version": 3
   },
   "file_extension": ".py",
   "mimetype": "text/x-python",
   "name": "python",
   "nbconvert_exporter": "python",
   "pygments_lexer": "ipython3",
   "version": "3.9.7"
  },
  "orig_nbformat": 4
 },
 "nbformat": 4,
 "nbformat_minor": 2
}
