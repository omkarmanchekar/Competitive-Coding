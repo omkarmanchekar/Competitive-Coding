{
 "cells": [
  {
   "cell_type": "code",
   "execution_count": 42,
   "metadata": {},
   "outputs": [
    {
     "data": {
      "text/plain": [
       "4"
      ]
     },
     "execution_count": 42,
     "metadata": {},
     "output_type": "execute_result"
    }
   ],
   "source": [
    "board = [[-1,-1,-1,-1,-1,-1],[-1,-1,-1,-1,-1,-1],[-1,-1,-1,-1,-1,-1],[-1,35,-1,-1,13,-1],[-1,-1,-1,-1,-1,-1],[-1,15,-1,-1,-1,-1]]\n",
    "\n",
    "def sol(board):\n",
    "    direction=0\n",
    "    flatten=[]\n",
    "    for i in range(len(board)-1,-1,-1):\n",
    "        if(direction%2 == 0 ):\n",
    "            for j in range(len(board[0])):\n",
    "                flatten.append((i,j))\n",
    "        else:\n",
    "            for j in range(len(board[0])-1,-1,-1):\n",
    "                flatten.append((i,j))\n",
    "        direction+=1\n",
    "\n",
    "    queue=[]\n",
    "    visited=[]\n",
    "    queue.append((1,0))\n",
    "    visited.append(1)\n",
    "\n",
    "    while(queue):\n",
    "        position,cost=queue.pop(0)\n",
    "        if(position == len(board)*len(board)):\n",
    "            return cost\n",
    "\n",
    "\n",
    "        for i in range(1,7):\n",
    "            if(position+i <= len(board)*len(board) and  position+i not in visited):\n",
    "                r,c=flatten[position+i-1]\n",
    "                if(board[r][c] == -1):\n",
    "                    queue.append((position+i,cost+1))\n",
    "                else:\n",
    "                    queue.append((board[r][c],cost+1))\n",
    "                visited.append(position+i)\n",
    "    \n",
    "                \n",
    "\n",
    "sol(board)\n",
    "    "
   ]
  },
  {
   "cell_type": "code",
   "execution_count": null,
   "metadata": {},
   "outputs": [],
   "source": []
  }
 ],
 "metadata": {
  "interpreter": {
   "hash": "aee8b7b246df8f9039afb4144a1f6fd8d2ca17a180786b69acc140d282b71a49"
  },
  "kernelspec": {
   "display_name": "Python 3.9.7 64-bit",
   "language": "python",
   "name": "python3"
  },
  "language_info": {
   "codemirror_mode": {
    "name": "ipython",
    "version": 3
   },
   "file_extension": ".py",
   "mimetype": "text/x-python",
   "name": "python",
   "nbconvert_exporter": "python",
   "pygments_lexer": "ipython3",
   "version": "3.9.7"
  },
  "orig_nbformat": 4
 },
 "nbformat": 4,
 "nbformat_minor": 2
}
