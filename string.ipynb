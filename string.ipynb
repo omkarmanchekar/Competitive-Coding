{
 "cells": [
  {
   "cell_type": "code",
   "execution_count": 4,
   "metadata": {},
   "outputs": [
    {
     "name": "stdout",
     "output_type": "stream",
     "text": [
      "much.very.program.this.like.i\n"
     ]
    }
   ],
   "source": [
    "# given s = \"i.like.this.program.very.much\"\n",
    "# output s= \"much.very.program.this.like.i\"\n",
    "\n",
    "s = \"i.like.this.program.very.much\"\n",
    "\n",
    "def sol(s):\n",
    "    s=s.split(\".\")\n",
    "    j=\".\".join(s[::-1])\n",
    "    print(j)\n",
    "sol(s)\n",
    "\n"
   ]
  },
  {
   "cell_type": "code",
   "execution_count": 13,
   "metadata": {},
   "outputs": [
    {
     "name": "stdout",
     "output_type": "stream",
     "text": [
      "['geek', 'geeks', 'geeksforgeeks', 'geezer']\n"
     ]
    },
    {
     "data": {
      "text/plain": [
       "'gee'"
      ]
     },
     "execution_count": 13,
     "metadata": {},
     "output_type": "execute_result"
    }
   ],
   "source": [
    "\n",
    "# arr ={\"geeksforgeeks\", \"geeks\", \"geek\",\"geezer\"} find common prefix from all \n",
    "# output should be gee\n",
    "# \n",
    "# approch : sorted in ascending order (lexograhical order) first and last elemenst common prefix is answer  \n",
    "\n",
    "\n",
    "arr ={\"geeksforgeeks\", \"geeks\", \"geek\",\"geezer\"}\n",
    "\n",
    "def sol(arr):\n",
    "    arr=sorted(arr)\n",
    "    print(arr)\n",
    "    first=arr[0]\n",
    "    last=arr[-1]\n",
    "    for i in range(len(first)):\n",
    "        if(first[i] == last[i]):\n",
    "            continue\n",
    "        else:\n",
    "            if(i >0):\n",
    "                return first[:i]\n",
    "            else:\n",
    "                return -1\n",
    "\n",
    "\n",
    "sol(arr)"
   ]
  },
  {
   "cell_type": "code",
   "execution_count": 32,
   "metadata": {},
   "outputs": [
    {
     "name": "stdout",
     "output_type": "stream",
     "text": [
      "V\n",
      "I\n",
      "X\n"
     ]
    },
    {
     "data": {
      "text/plain": [
       "14"
      ]
     },
     "execution_count": 32,
     "metadata": {},
     "output_type": "execute_result"
    }
   ],
   "source": [
    "# roman to integer\n",
    "# \n",
    "# \n",
    "# approach ::: roman (left to right is descending ie XVI =10+5+1=16) but if smaller number comes from right to left subtract it XIV = 5-1+10=14 \n",
    "\n",
    "\n",
    "\n",
    "s=\"XIV\"\n",
    "\n",
    "\n",
    "def sol(s):\n",
    "    hash={\"I\":1,\"V\":5,\"X\":10,\"L\":50,\"C\":100,\"D\":500,\"M\":1000}\n",
    "    pointer=0\n",
    "    interger=0\n",
    "    for i in range(len(s)-1,-1,-1):\n",
    "        print(s[i])\n",
    "        if(hash[s[i]]>pointer):\n",
    "            interger+=hash[s[i]]\n",
    "        else:\n",
    "            interger-=hash[s[i]]\n",
    "        pointer=hash[s[i]]\n",
    "    return interger\n",
    "\n",
    "sol(s)\n"
   ]
  },
  {
   "cell_type": "code",
   "execution_count": null,
   "metadata": {},
   "outputs": [],
   "source": [
    "# INTEGER TO ROMAN \n",
    "\n"
   ]
  },
  {
   "cell_type": "code",
   "execution_count": 32,
   "metadata": {},
   "outputs": [
    {
     "data": {
      "text/plain": [
       "'badab'"
      ]
     },
     "execution_count": 32,
     "metadata": {},
     "output_type": "execute_result"
    }
   ],
   "source": [
    "# Lomgest palindrom substring   O(N^3)\n",
    "\n",
    "s = \"badab\"\n",
    "\n",
    "def checkpal(s):\n",
    "    for i in range(len(s)//2+1):\n",
    "        if(s[i-1]==s[-i]):\n",
    "            continue\n",
    "        else:\n",
    "            return False\n",
    "    return True \n",
    "\n",
    "\n",
    "def sol(s):\n",
    "    longest=s[0]\n",
    "    for i in range(len(s)):\n",
    "        for j in range(i+1,len(s)+1):\n",
    "            # print(s[i:j])\n",
    "            if(checkpal(s[i:j]) and len(s[i:j]) >= len(longest)):\n",
    "                longest=s[i:j]\n",
    "\n",
    "    return longest \n",
    "                \n",
    "\n",
    "sol(s)"
   ]
  },
  {
   "cell_type": "code",
   "execution_count": 42,
   "metadata": {},
   "outputs": [
    {
     "data": {
      "text/plain": [
       "'aaaabaaaa'"
      ]
     },
     "execution_count": 42,
     "metadata": {},
     "output_type": "execute_result"
    }
   ],
   "source": [
    "# palindrom longest substring \n",
    "\n",
    "s = \"aaaabaaaaaaa\"\n",
    "\n",
    "def expand(i,j,s):\n",
    "    while(i>=0 and j<len(s) and s[i]==s[j]):\n",
    "        i-=1\n",
    "        j+=1\n",
    "    return s[i+1:j]\n",
    "\n",
    "\n",
    "def sol(s):\n",
    "    longest=s[0]\n",
    "    for i in range(len(s)):\n",
    "        temp=expand(i,i,s)\n",
    "        if(len(temp)>len(longest)):\n",
    "            longest=temp\n",
    "        temp=expand(i,i+1,s)\n",
    "        if(len(temp)>len(longest)):\n",
    "            longest=temp\n",
    "    return longest\n",
    "\n",
    "\n",
    "\n",
    "\n",
    "\n",
    "sol(s)\n"
   ]
  },
  {
   "cell_type": "code",
   "execution_count": null,
   "metadata": {},
   "outputs": [],
   "source": []
  }
 ],
 "metadata": {
  "interpreter": {
   "hash": "aee8b7b246df8f9039afb4144a1f6fd8d2ca17a180786b69acc140d282b71a49"
  },
  "kernelspec": {
   "display_name": "Python 3.9.7 64-bit",
   "language": "python",
   "name": "python3"
  },
  "language_info": {
   "codemirror_mode": {
    "name": "ipython",
    "version": 3
   },
   "file_extension": ".py",
   "mimetype": "text/x-python",
   "name": "python",
   "nbconvert_exporter": "python",
   "pygments_lexer": "ipython3",
   "version": "3.9.7"
  },
  "orig_nbformat": 4
 },
 "nbformat": 4,
 "nbformat_minor": 2
}
