{
 "cells": [
  {
   "cell_type": "code",
   "execution_count": 8,
   "metadata": {},
   "outputs": [
    {
     "data": {
      "text/plain": [
       "'null'"
      ]
     },
     "execution_count": 8,
     "metadata": {},
     "output_type": "execute_result"
    }
   ],
   "source": [
    "# N^2 time complexity \n",
    "\n",
    "\n",
    "nums = [2,7,11,15]\n",
    "target = 9\n",
    "\n",
    "def twosum(nums,target):\n",
    "    for i in range(0,len(nums)):\n",
    "        for j in range(i,len(nums)):\n",
    "            if(nums[j]+nums[i] == target):\n",
    "                return ([i,j])\n",
    "            \n",
    "    return(\"null\")\n",
    "\n",
    "twosum(nums,target)\n"
   ]
  },
  {
   "cell_type": "code",
   "execution_count": 13,
   "metadata": {},
   "outputs": [
    {
     "name": "stdout",
     "output_type": "stream",
     "text": [
      "[1, 0]\n",
      "{7: 0, 2: 1, -2: 2, -6: 3}\n"
     ]
    }
   ],
   "source": [
    "# N time complexity \n",
    "\n",
    "nums = [2,7,11,15]\n",
    "target = 9\n",
    "\n",
    "hash={}\n",
    "\n",
    "for index,value in enumerate(nums):\n",
    "    if value in hash:\n",
    "        print([index,hash[value]])\n",
    "    hash[target-value] = index\n",
    "\n",
    "print(hash)\n"
   ]
  },
  {
   "cell_type": "code",
   "execution_count": 20,
   "metadata": {},
   "outputs": [
    {
     "data": {
      "text/plain": [
       "{3: 1}"
      ]
     },
     "execution_count": 20,
     "metadata": {},
     "output_type": "execute_result"
    }
   ],
   "source": [
    "# not proper for few test case \n",
    "\n",
    "nums = [3,3]\n",
    "target = 6\n",
    "\n",
    "hash={}\n",
    "\n",
    "for index,value in enumerate(nums):\n",
    "    hash[value] = index\n",
    "    if(target-value in hash and hash[target-value] != index):\n",
    "        print([index,hash[target-value]])\n",
    "\n",
    "hash"
   ]
  },
  {
   "cell_type": "code",
   "execution_count": 53,
   "metadata": {},
   "outputs": [
    {
     "data": {
      "text/plain": [
       "5"
      ]
     },
     "execution_count": 53,
     "metadata": {},
     "output_type": "execute_result"
    }
   ],
   "source": [
    "a = [2, 4, 7, 5, 3, 5, 8, 5, 1, 7]\n",
    "# def count(a,m,k):\n",
    "#     c=0\n",
    "#     for i in range(len(a)-m+1):\n",
    "#         arr=[]\n",
    "#         for j in range(i,i+m):\n",
    "#             arr.append(a[j])\n",
    "#         hash={}\n",
    "#         print(arr)\n",
    "#         for index,value in enumerate(arr):\n",
    "#             if value in hash:\n",
    "#                 c+=1\n",
    "#                 # print(value,hash[value])\n",
    "#             hash[k-value]=index\n",
    "#         print(c)\n",
    "#     return c\n",
    "# count(a,4,10)\n",
    "# gives all the pair count \n",
    "\n",
    "\n",
    "def abc(a,m,k):\n",
    "    main_count=0\n",
    "    for i in range(0,len(a)-m+1):\n",
    "        hash={}\n",
    "        count=0\n",
    "        for index,value in enumerate(a[i:i+m]):\n",
    "            if value in hash:\n",
    "                count+=1\n",
    "            hash[k-value]=index\n",
    "        if(count>0):\n",
    "            main_count+=1\n",
    "        \n",
    "    return main_count\n",
    "\n",
    "abc(a,4,10)\n",
    "\n",
    "\n"
   ]
  },
  {
   "cell_type": "code",
   "execution_count": 18,
   "metadata": {},
   "outputs": [
    {
     "data": {
      "text/plain": [
       "3"
      ]
     },
     "execution_count": 18,
     "metadata": {},
     "output_type": "execute_result"
    }
   ],
   "source": [
    "123%10"
   ]
  },
  {
   "cell_type": "code",
   "execution_count": 25,
   "metadata": {},
   "outputs": [
    {
     "name": "stdout",
     "output_type": "stream",
     "text": [
      "0\n",
      "0\n",
      "100\n",
      "0\n",
      "0\n",
      "10\n",
      "0\n",
      "0\n",
      "1\n",
      "1\n",
      "1\n",
      "0\n"
     ]
    },
    {
     "data": {
      "text/plain": [
       "1"
      ]
     },
     "execution_count": 25,
     "metadata": {},
     "output_type": "execute_result"
    }
   ],
   "source": [
    "def reverse(a):\n",
    "    reverseNumber=0\n",
    "    countofzero=0\n",
    "    while(a!=0):\n",
    "        digit=a%10\n",
    "        if(digit == 0):\n",
    "            countofzero+=1\n",
    "        reverseNumber=reverseNumber*10+digit\n",
    "        a=a//10\n",
    "    return reverseNumber\n",
    "\n",
    "reverse(1000)"
   ]
  },
  {
   "cell_type": "code",
   "execution_count": 27,
   "metadata": {},
   "outputs": [
    {
     "data": {
      "text/plain": [
       "'1000000000'"
      ]
     },
     "execution_count": 27,
     "metadata": {},
     "output_type": "execute_result"
    }
   ],
   "source": [
    "a='1'\n",
    "a.ljust(10,'0')"
   ]
  },
  {
   "cell_type": "code",
   "execution_count": 38,
   "metadata": {},
   "outputs": [
    {
     "name": "stdout",
     "output_type": "stream",
     "text": [
      "776100\n",
      "77610\n",
      "736859790\n",
      "844690\n",
      "8230330\n",
      "8230\n"
     ]
    },
    {
     "data": {
      "text/plain": [
       "49849410518"
      ]
     },
     "execution_count": 38,
     "metadata": {},
     "output_type": "execute_result"
    }
   ],
   "source": [
    "def solution(arr):\n",
    "    sum=0\n",
    "    for i in arr:\n",
    "        reverseNumber=0\n",
    "        countzero=0\n",
    "        while(i):\n",
    "            digit=i%10\n",
    "            if(digit == 0):\n",
    "                countzero+=1\n",
    "                print(i)\n",
    "            reverseNumber=reverseNumber*10+digit\n",
    "            i=i//10\n",
    "        if(countzero>0):\n",
    "            num=str(reverseNumber)\n",
    "            zero=\"0\"*countzero\n",
    "            reverseNumber=num+zero\n",
    "        sum+=int(reverseNumber)\n",
    "    return sum\n",
    "\n",
    "\n",
    "solution([972423194, 776100481, 736859790, 844690424, 823033042, 944853776, 971324293, 162355436])"
   ]
  },
  {
   "cell_type": "code",
   "execution_count": 50,
   "metadata": {},
   "outputs": [
    {
     "name": "stdout",
     "output_type": "stream",
     "text": [
      "491324279\n",
      "184001677\n",
      "979586370\n",
      "424096448\n",
      "240330328\n",
      "677358449\n",
      "392423179\n",
      "63455326100000\n"
     ]
    },
    {
     "data": {
      "text/plain": [
       "63458715220730"
      ]
     },
     "execution_count": 50,
     "metadata": {},
     "output_type": "execute_result"
    }
   ],
   "source": [
    "def rvere(arr):\n",
    "    sum=0\n",
    "    for i in arr:\n",
    "        zerocount=0\n",
    "        zero=True\n",
    "        reverseNumber=0\n",
    "        while(i):\n",
    "            while(i and zero and i%10==0):\n",
    "                zerocount+=1\n",
    "                i=i//10\n",
    "            zero=False\n",
    "            digit=i%10\n",
    "            reverseNumber=reverseNumber*10+digit\n",
    "            i=i//10\n",
    "        if(zerocount!=0):\n",
    "            num=str(reverseNumber)\n",
    "            zeros=\"0\"*zerocount\n",
    "            reverseNumber=int(num+zeros)\n",
    "        print(reverseNumber)\n",
    "        sum+=reverseNumber\n",
    "    return sum\n",
    "\n",
    "rvere([972423194, 776100481, 736859790, 844690424, 823033042, 944853776, 971324293, 16235543600000])\n"
   ]
  },
  {
   "cell_type": "markdown",
   "metadata": {},
   "source": [
    "You are given a 2D array a with n rows and m columns, consisting of English lowercase letters and an integer corner specifying one of the four corners of the 2D array a.\n",
    "\n",
    "corner = 1 corresponds to the top-left corner;\n",
    "corner = 2 corresponds to the top-right corner;\n",
    "corner = 3 corresponds to the bottom-right corner;\n",
    "corner = 4 corresponds to the bottom-left corner.\n",
    "\n",
    "\n",
    "Now consider the numbering of the elements of a in order from left to right and from up to down like this:\n",
    "\n",
    "\n",
    "\n",
    "Your task is to rearrange the elements of the array by consecutively putting the numbered elements diagonally starting from the corner specified by corner.\n",
    "\n",
    "For corner = 1, the following rearranging is expected:\n",
    "\n",
    "\n",
    "\n",
    "For corner = 2, the following rearranging is expected:\n",
    "\n",
    "\n",
    "For corner = 3, the following rearranging is expected:\n",
    "\n",
    "\n",
    "For corner = 4, the following rearranging is expected:\n",
    "\n",
    "\n",
    "Example\n",
    "\n",
    "For\n",
    "a = [[\"a\", \"b\", \"c\", \"d\"],\n",
    "     [\"a\", \"c\", \"d\", \"e\"],\n",
    "     [\"a\", \"e\", \"c\", \"a\"]]\n",
    "and\n",
    "corner = 1, the output should be\n",
    "\n",
    "solution(a, corner) = [[\"a\", \"c\", \"c\", \"a\"],\n",
    "                                   [\"b\", \"a\", \"e\", \"c\"],\n",
    "                                   [\"d\", \"d\", \"e\", \"a\"]]\n",
    "In this case, we have an 3x4 array and it should be numbered in this way:\n",
    "\n",
    "\n",
    "\n",
    "Now, since corner = 1 it should become a 2D array with the same dimensions, where the respective elements of the array should be put in this order(diagonally, from bottom-left to top-right).\n",
    "\n",
    "\n",
    "\n",
    "So the array a:\n",
    "\n",
    "abcd\n",
    "acde\n",
    "aeca\n",
    "should be transformed to this:\n",
    "\n",
    "acca\n",
    "baec\n",
    "ddea\n",
    "For\n",
    "a = [[\"a\", \"b\", \"a\"],\n",
    "     [\"b\", \"a\", \"b\"],\n",
    "     [\"a\", \"b\", \"a\"],\n",
    "     [\"b\", \"a\", \"b\"],\n",
    "     [\"a\", \"b\", \"a\"]]\n",
    "and\n",
    "corner = 4, the output should be\n",
    "\n",
    "solution(a, corner) = [[\"b\", \"b\", \"a\"],\n",
    "                                   [\"a\", \"a\", \"a\"],\n",
    "                                   [\"b\", \"b\", \"b\"],\n",
    "                                   [\"a\", \"a\", \"a\"],\n",
    "                                   [\"a\", \"b\", \"b\"]]\n",
    "After rearranging the new array will look as follows:\n",
    "\n",
    "bba\n",
    "aaa\n",
    "bbb\n",
    "aaa\n",
    "abb\n",
    "Input/Output\n",
    "\n",
    "[execution time limit] 4 seconds (py3)\n",
    "\n",
    "[input] array.array.char a\n",
    "\n",
    "Two-dimensional array of English lowercase letters.\n",
    "\n",
    "Guaranteed constraints:\n",
    "1 ≤ a.length ≤ 100,\n",
    "1 ≤ a[i].length ≤ 100.\n",
    "\n",
    "[input] integer corner\n",
    "\n",
    "Guaranteed constraints:\n",
    "1 ≤ corner ≤ 4.\n",
    "\n",
    "[output] array.array.char\n",
    "\n",
    "[Python 3] Syntax Tips\n",
    "\n",
    "# Prints help message to the console\n",
    "# Returns a string\n",
    "def helloWorld(name):\n",
    "    print(\"This prints to the console when you Run Tests\")\n",
    "    return \"Hello, \" + name\n"
   ]
  },
  {
   "cell_type": "markdown",
   "metadata": {},
   "source": [
    "Given an integer n and an array a of length n, your task is to apply the following mutation to a:\n",
    "\n",
    "Array a mutates into a new array b of length n.\n",
    "For each i from 0 to n - 1, b[i] = a[i - 1] + a[i] + a[i + 1].\n",
    "If some element in the sum a[i - 1] + a[i] + a[i + 1] does not exist, it should be set to 0. For example, b[0] should be equal to 0 + a[0] + a[1].\n",
    "Example\n",
    "\n",
    "For n = 5 and a = [4, 0, 1, -2, 3], the output should be solution(n, a) = [4, 5, -1, 2, 1].\n",
    "\n",
    "b[0] = 0 + a[0] + a[1] = 0 + 4 + 0 = 4\n",
    "b[1] = a[0] + a[1] + a[2] = 4 + 0 + 1 = 5\n",
    "b[2] = a[1] + a[2] + a[3] = 0 + 1 + (-2) = -1\n",
    "b[3] = a[2] + a[3] + a[4] = 1 + (-2) + 3 = 2\n",
    "b[4] = a[3] + a[4] + 0 = (-2) + 3 + 0 = 1\n",
    "So, the resulting array after the mutation will be [4, 5, -1, 2, 1].\n",
    "\n",
    "Input/Output\n",
    "\n",
    "[execution time limit] 4 seconds (py3)\n",
    "\n",
    "[input] integer n\n",
    "\n",
    "An integer representing the length of the given array.\n",
    "\n",
    "Guaranteed constraints:\n",
    "1 ≤ n ≤ 103.\n",
    "\n",
    "[input] array.integer a\n",
    "\n",
    "An array of integers that needs to be mutated.\n",
    "\n",
    "Guaranteed constraints:\n",
    "a.length = n,\n",
    "-103 ≤ a[i] ≤ 103.\n",
    "\n",
    "[output] array.integer\n",
    "\n",
    "The resulting array after the mutation.\n",
    "\n",
    "[Python 3] Syntax Tips\n",
    "\n",
    "# Prints help message to the console\n",
    "# Returns a string\n",
    "def helloWorld(name):\n",
    "    print(\"This prints to the console when you Run Tests\")\n",
    "    return \"Hello, \" + name\n",
    "\n",
    "12345678910111213141516\n",
    "def solution(n, a):\n",
    "    array_b=[]\n",
    "    for i in range(len(a)):\n",
    "        if(i==0):\n",
    "            first=0\n",
    "        else:\n",
    "            first=a[i-1]\n",
    "        if(i==len(a)-1):\n",
    "            last=0\n",
    "        else:\n",
    "\n",
    "TESTS\n",
    "CUSTOM TESTS\n",
    "MORE"
   ]
  },
  {
   "cell_type": "markdown",
   "metadata": {},
   "source": [
    "Let's define the reverse of an integer x as the number obtained by reversing the order of the digits of x and then moving any leading zeroes to the end of the resulting number.\n",
    "\n",
    "Expand to see the example video.\n",
    "\n",
    "Given an array of integers arr, your task is to calculate the sum of reverse numbers of the elements of arr.\n",
    "\n",
    "Example\n",
    "\n",
    "For arr = [7, 234, 58100], the output should be solution(arr) = 18939.\n",
    "\n",
    "The reverse of 7 is 7.\n",
    "The reverse of 234 is 432.\n",
    "The reverse of 58100 is 18500.\n",
    "So the answer is 7 + 432 + 18500 = 18939.\n",
    "For arr = [0, 100, 220], the output should be solution(arr) = 320.\n",
    "\n",
    "The reverse of 0 is 0.\n",
    "The reverse of 100 is 100.\n",
    "The reverse of 220 is 220.\n",
    "So the answer is 0 + 100 + 220 = 320.\n",
    "Input/Output\n",
    "\n",
    "[execution time limit] 4 seconds (py3)\n",
    "\n",
    "[input] array.integer arr\n",
    "\n",
    "An array of non-negative integers.\n",
    "\n",
    "Guaranteed constraints:\n",
    "1 ≤ arr.length ≤ 105,\n",
    "0 ≤ arr[i] ≤ 109.\n",
    "\n",
    "[output] integer64\n",
    "\n",
    "The sum of reverse numbers of the elements of arr.\n",
    "\n",
    "[Python 3] Syntax Tips\n",
    "\n",
    "# Prints help message to the console\n",
    "# Returns a string\n",
    "def helloWorld(name):\n",
    "    print(\"This prints to the console when you Run Tests\")\n",
    "    return \"Hello, \" + name\n"
   ]
  },
  {
   "cell_type": "markdown",
   "metadata": {},
   "source": [
    "Given an array of integers a, your task is to find how many of its contiguous subarrays of length m contain a pair of integers with a sum equal to k.\n",
    "\n",
    "More formally, given the array a, your task is to count the number of indices 0 ≤ i ≤ a.length - m such that a subarray [a[i], a[i + 1], ..., a[i + m - 1]] contains at least one pair (a[s], a[t]), where:\n",
    "\n",
    "s ≠ t\n",
    "a[s] + a[t] = k\n",
    "Example\n",
    "\n",
    "\n",
    "For a = [2, 4, 7, 5, 3, 5, 8, 5, 1, 7], m = 4, and k = 10, the output should be solution(a, m, k) = 5.\n",
    "\n",
    "Let's consider all subarrays of length m = 4 and see which fit the description conditions:\n",
    "\n",
    "Subarray a[0..3] = [2, 4, 7, 5] doesn't contain any pair of integers with a sum of k = 10. Note that although the pair (a[3], a[3]) has the sum 5 + 5 = 10, it doesn't fit the requirement s ≠ t.\n",
    "Subarray a[1..4] = [4, 7, 5, 3] contains the pair (a[2], a[4]), where a[2] + a[4] = 7 + 3 = 10.\n",
    "Subarray a[2..5] = [7, 5, 3, 5] contains two pairs (a[2], a[4]) and (a[3], a[5]), both with a sum of k = 10.\n",
    "Subarray a[3..6] = [5, 3, 5, 8] contains the pair (a[3], a[5]), where a[3] + a[5] = 5 + 5 = 10.\n",
    "Subarray a[4..7] = [3, 5, 8, 5] contains the pair (a[5], a[7]), where a[5] + a[7] = 5 + 5 = 10.\n",
    "Subarray a[5..8] = [5, 8, 5, 1] contains the pair (a[5], a[7]), where a[5] + a[7] = 5 + 5 = 10.\n",
    "Subarray a[6..9] = [8, 5, 1, 7] doesn't contain any pair with a sum of k = 10.\n",
    "So the answer is 5, because there are 5 contiguous subarrays that contain a pair with a sum of k = 10.\n",
    "\n",
    "For a = [15, 8, 8, 2, 6, 4, 1, 7], m = 2, and k = 8, the output should be solution(a, m, k) = 2.\n",
    "\n",
    "There are 2 subarrays satisfying the description conditions:\n",
    "\n",
    "a[3..4] = [2, 6], where 2 + 6 = 8\n",
    "a[6..7] = [1, 7], where 1 + 7 = 8\n",
    "Input/Output\n",
    "\n",
    "[execution time limit] 4 seconds (py3)\n",
    "\n",
    "[input] array.integer a\n",
    "\n",
    "The given array of integers.\n",
    "\n",
    "Guaranteed constraints:\n",
    "2 ≤ a.length ≤ 105,\n",
    "0 ≤ a[i] ≤ 109.\n",
    "\n",
    "[input] integer m\n",
    "\n",
    "An integer representing the length of the contiguous subarrays being considered.\n",
    "\n",
    "Guaranteed constraints:\n",
    "2 ≤ m ≤ a.length.\n",
    "\n",
    "[input] integer k\n",
    "\n",
    "An non-negative integer value representing the sum of the pairs we're trying to find within each subarray.\n",
    "\n",
    "Guaranteed constraints:\n",
    "0 ≤ k ≤ 109.\n",
    "\n",
    "[output] integer\n",
    "\n",
    "An integer representing the number of subarrays that contain a pair of integers with a sum of k.\n",
    "\n",
    "[Python 3] Syntax Tips\n",
    "\n",
    "# Prints help message to the console\n",
    "# Returns a string\n",
    "def helloWorld(name):\n",
    "    print(\"This prints to the console when you Run Tests\")\n",
    "    return \"Hello, \" + name\n",
    "\n",
    "123456789101112\n",
    "def solution(a, m, k):\n",
    "    count=0\n",
    "    for i in range(len(a)-m+1):\n",
    "        # arr=[]\n",
    "        # for j in range(i,i+m):\n",
    "        #     arr.append(a[j])\n",
    "        hash={}\n",
    "        for index,value in enumerate(a[i:i+m]):\n",
    "            if value in hash:\n",
    "                count+=1\n",
    "\n",
    "TESTS\n",
    "CUSTOM TESTS\n",
    "MORE"
   ]
  },
  {
   "cell_type": "markdown",
   "metadata": {},
   "source": [
    "\n"
   ]
  },
  {
   "cell_type": "code",
   "execution_count": 55,
   "metadata": {},
   "outputs": [],
   "source": [
    "arr=[1,1,2,3,4]\n",
    "if(5 in arr):\n",
    "    print(True)"
   ]
  },
  {
   "cell_type": "code",
   "execution_count": 60,
   "metadata": {},
   "outputs": [
    {
     "data": {
      "text/plain": [
       "False"
      ]
     },
     "execution_count": 60,
     "metadata": {},
     "output_type": "execute_result"
    }
   ],
   "source": [
    "isinstance(5/2,int)"
   ]
  },
  {
   "cell_type": "code",
   "execution_count": 69,
   "metadata": {},
   "outputs": [
    {
     "name": "stdout",
     "output_type": "stream",
     "text": [
      "8\n",
      "8.0\n",
      "False\n",
      "5\n",
      "2.5\n",
      "False\n",
      "6\n",
      "2.0\n",
      "False\n",
      "16\n",
      "4.0\n",
      "False\n",
      "5\n",
      "1.0\n",
      "False\n"
     ]
    },
    {
     "data": {
      "text/plain": [
       "['false', 'false', 'false', 'false', 'false']"
      ]
     },
     "execution_count": 69,
     "metadata": {},
     "output_type": "execute_result"
    }
   ],
   "source": [
    "def sol(a, l, r):\n",
    "    b=[]\n",
    "    for i in range(len(a)):\n",
    "        print(a[i])\n",
    "        x=a[i]/(i+1)\n",
    "        print(x)\n",
    "        istrue=isinstance(x,int)\n",
    "        print(istrue)\n",
    "        if(x>=l and x<=r and istrue):\n",
    "            b.append('true')\n",
    "        else:\n",
    "            b.append('false')\n",
    "    return b\n",
    "\n",
    "sol([8, 5, 6, 16, 5],1,3)"
   ]
  },
  {
   "cell_type": "code",
   "execution_count": 2,
   "metadata": {},
   "outputs": [
    {
     "data": {
      "text/plain": [
       "0"
      ]
     },
     "execution_count": 2,
     "metadata": {},
     "output_type": "execute_result"
    }
   ],
   "source": [
    "2%2"
   ]
  },
  {
   "cell_type": "code",
   "execution_count": 18,
   "metadata": {},
   "outputs": [
    {
     "name": "stdout",
     "output_type": "stream",
     "text": [
      "-2\n",
      "3\n"
     ]
    },
    {
     "data": {
      "text/plain": [
       "(3, 3, -2, -2)"
      ]
     },
     "execution_count": 18,
     "metadata": {},
     "output_type": "execute_result"
    }
   ],
   "source": [
    "def solution(lamps):\n",
    "    low=lamps[0][0]\n",
    "    low_high=lamps[0][1]\n",
    "    high=lamps[0][1]\n",
    "    high_low=lamps[0][0]\n",
    "    for i in range(len(lamps)):\n",
    "        if(lamps[i][0]<low):\n",
    "            low=lamps[i][0]\n",
    "            print(low)\n",
    "        elif(lamps[i][0]<low_high):\n",
    "            low_high=lamps[i][0]\n",
    "            print(low_high)\n",
    "        if(lamps[i][1]>high):\n",
    "            high=lamps[i][1]\n",
    "            print(high)\n",
    "        elif(lamps[i][1]>high_low):\n",
    "            high_low=lamps[i][1]\n",
    "            print(high_low)\n",
    "    return high,high_low,low,low_high\n",
    "\n",
    "solution([[-2, 3], [2, 3], [2, 1]])"
   ]
  },
  {
   "cell_type": "code",
   "execution_count": 14,
   "metadata": {},
   "outputs": [
    {
     "data": {
      "text/plain": [
       "1"
      ]
     },
     "execution_count": 14,
     "metadata": {},
     "output_type": "execute_result"
    }
   ],
   "source": [
    "from collections import defaultdict\n",
    "def sol(lamps):\n",
    "    dic = defaultdict(int)\n",
    "    res = [float('inf'), 0]\n",
    "\n",
    "    for lamp in lamps:\n",
    "        for pos in range(lamp[0] - lamp[1], lamp[0] + lamp[1] + 1):\n",
    "            dic[pos] += 1\n",
    "            if dic[pos] > res[1]:\n",
    "                res = [pos, dic[pos]]\n",
    "            elif dic[pos] == res[1] and pos < res[0]:\n",
    "                res = [pos, dic[pos]]\n",
    "\n",
    "    return res[0]\n",
    "    \n",
    "sol([[-2, 3], [2, 3], [2, 1]])"
   ]
  },
  {
   "cell_type": "code",
   "execution_count": 43,
   "metadata": {},
   "outputs": [
    {
     "name": "stdout",
     "output_type": "stream",
     "text": [
      "['des', 'co', 'gna', 'i', 'l']\n",
      "0\n",
      "codes\n",
      "2\n",
      "igna\n"
     ]
    },
    {
     "data": {
      "text/plain": [
       "'codesignal'"
      ]
     },
     "execution_count": 43,
     "metadata": {},
     "output_type": "execute_result"
    }
   ],
   "source": [
    "def solution(s, sizes):\n",
    "    array=[]\n",
    "    start=0\n",
    "    string=''\n",
    "    for i in sizes:\n",
    "        array.append(s[start:start+i])\n",
    "        start=start+i\n",
    "    for i in range(0,len(array)-(len(array)%2),2):\n",
    "        temp=array[i+1]+array[i]\n",
    "        string+=temp\n",
    "    if(len(array)%2!=0):\n",
    "        string+=array[-1]\n",
    "    return string \n",
    "\n",
    "\n",
    "solution(\"descognail\",[3, 2, 3, 1, 1])"
   ]
  },
  {
   "cell_type": "code",
   "execution_count": 25,
   "metadata": {},
   "outputs": [
    {
     "data": {
      "text/plain": [
       "1"
      ]
     },
     "execution_count": 25,
     "metadata": {},
     "output_type": "execute_result"
    }
   ],
   "source": [
    "7%2"
   ]
  },
  {
   "cell_type": "code",
   "execution_count": 51,
   "metadata": {},
   "outputs": [
    {
     "ename": "TypeError",
     "evalue": "list indices must be integers or slices, not list",
     "output_type": "error",
     "traceback": [
      "\u001b[0;31m---------------------------------------------------------------------------\u001b[0m",
      "\u001b[0;31mTypeError\u001b[0m                                 Traceback (most recent call last)",
      "\u001b[0;32m/var/folders/2h/3hfmsdps1x3fnygx76hyh9pw0000gn/T/ipykernel_11418/2131456152.py\u001b[0m in \u001b[0;36m<module>\u001b[0;34m\u001b[0m\n\u001b[1;32m     15\u001b[0m     \u001b[0;32mreturn\u001b[0m \u001b[0mhigh\u001b[0m\u001b[0;34m,\u001b[0m\u001b[0mhigh_low\u001b[0m\u001b[0;34m,\u001b[0m\u001b[0mlow\u001b[0m\u001b[0;34m,\u001b[0m\u001b[0mlow_high\u001b[0m\u001b[0;34m\u001b[0m\u001b[0;34m\u001b[0m\u001b[0m\n\u001b[1;32m     16\u001b[0m \u001b[0;34m\u001b[0m\u001b[0m\n\u001b[0;32m---> 17\u001b[0;31m \u001b[0msolution\u001b[0m\u001b[0;34m(\u001b[0m\u001b[0;34m[\u001b[0m\u001b[0;34m[\u001b[0m\u001b[0;34m-\u001b[0m\u001b[0;36m2\u001b[0m\u001b[0;34m,\u001b[0m \u001b[0;36m1\u001b[0m\u001b[0;34m]\u001b[0m\u001b[0;34m,\u001b[0m \u001b[0;34m[\u001b[0m\u001b[0;36m2\u001b[0m\u001b[0;34m,\u001b[0m \u001b[0;36m1\u001b[0m\u001b[0;34m]\u001b[0m\u001b[0;34m]\u001b[0m\u001b[0;34m)\u001b[0m\u001b[0;34m\u001b[0m\u001b[0;34m\u001b[0m\u001b[0m\n\u001b[0m",
      "\u001b[0;32m/var/folders/2h/3hfmsdps1x3fnygx76hyh9pw0000gn/T/ipykernel_11418/2131456152.py\u001b[0m in \u001b[0;36msolution\u001b[0;34m(lamps)\u001b[0m\n\u001b[1;32m      5\u001b[0m     \u001b[0mhigh_low\u001b[0m\u001b[0;34m=\u001b[0m\u001b[0mlamps\u001b[0m\u001b[0;34m[\u001b[0m\u001b[0;36m0\u001b[0m\u001b[0;34m]\u001b[0m\u001b[0;34m[\u001b[0m\u001b[0;36m0\u001b[0m\u001b[0;34m]\u001b[0m\u001b[0;34m-\u001b[0m\u001b[0mlamps\u001b[0m\u001b[0;34m[\u001b[0m\u001b[0;36m0\u001b[0m\u001b[0;34m]\u001b[0m\u001b[0;34m[\u001b[0m\u001b[0;36m1\u001b[0m\u001b[0;34m]\u001b[0m\u001b[0;34m\u001b[0m\u001b[0;34m\u001b[0m\u001b[0m\n\u001b[1;32m      6\u001b[0m     \u001b[0;32mfor\u001b[0m \u001b[0mi\u001b[0m \u001b[0;32min\u001b[0m \u001b[0mlamps\u001b[0m\u001b[0;34m:\u001b[0m\u001b[0;34m\u001b[0m\u001b[0;34m\u001b[0m\u001b[0m\n\u001b[0;32m----> 7\u001b[0;31m         \u001b[0;32mif\u001b[0m\u001b[0;34m(\u001b[0m\u001b[0mlamps\u001b[0m\u001b[0;34m[\u001b[0m\u001b[0mi\u001b[0m\u001b[0;34m]\u001b[0m\u001b[0;34m[\u001b[0m\u001b[0;36m0\u001b[0m\u001b[0;34m]\u001b[0m\u001b[0;34m-\u001b[0m\u001b[0mlamps\u001b[0m\u001b[0;34m[\u001b[0m\u001b[0mi\u001b[0m\u001b[0;34m]\u001b[0m\u001b[0;34m[\u001b[0m\u001b[0;36m1\u001b[0m\u001b[0;34m]\u001b[0m\u001b[0;34m<\u001b[0m\u001b[0mlow\u001b[0m\u001b[0;34m)\u001b[0m\u001b[0;34m:\u001b[0m\u001b[0;34m\u001b[0m\u001b[0;34m\u001b[0m\u001b[0m\n\u001b[0m\u001b[1;32m      8\u001b[0m             \u001b[0mlow\u001b[0m\u001b[0;34m=\u001b[0m\u001b[0mlamps\u001b[0m\u001b[0;34m[\u001b[0m\u001b[0mi\u001b[0m\u001b[0;34m]\u001b[0m\u001b[0;34m[\u001b[0m\u001b[0;36m0\u001b[0m\u001b[0;34m]\u001b[0m\u001b[0;34m-\u001b[0m\u001b[0mlamps\u001b[0m\u001b[0;34m[\u001b[0m\u001b[0mi\u001b[0m\u001b[0;34m]\u001b[0m\u001b[0;34m[\u001b[0m\u001b[0;36m1\u001b[0m\u001b[0;34m]\u001b[0m\u001b[0;34m\u001b[0m\u001b[0;34m\u001b[0m\u001b[0m\n\u001b[1;32m      9\u001b[0m         \u001b[0;32mif\u001b[0m\u001b[0;34m(\u001b[0m\u001b[0mlamps\u001b[0m\u001b[0;34m[\u001b[0m\u001b[0mi\u001b[0m\u001b[0;34m]\u001b[0m\u001b[0;34m[\u001b[0m\u001b[0;36m0\u001b[0m\u001b[0;34m]\u001b[0m\u001b[0;34m-\u001b[0m\u001b[0mlamps\u001b[0m\u001b[0;34m[\u001b[0m\u001b[0mi\u001b[0m\u001b[0;34m]\u001b[0m\u001b[0;34m[\u001b[0m\u001b[0;36m1\u001b[0m\u001b[0;34m]\u001b[0m\u001b[0;34m<\u001b[0m\u001b[0mlow_high\u001b[0m\u001b[0;34m)\u001b[0m\u001b[0;34m:\u001b[0m\u001b[0;34m\u001b[0m\u001b[0;34m\u001b[0m\u001b[0m\n",
      "\u001b[0;31mTypeError\u001b[0m: list indices must be integers or slices, not list"
     ]
    }
   ],
   "source": [
    "def solution(lamps):\n",
    "    low=lamps[0][0]-lamps[0][1]\n",
    "    low_high=lamps[0][1]+lamps[0][0]\n",
    "    high=lamps[0][1]+lamps[0][0]\n",
    "    high_low=lamps[0][0]-lamps[0][1]\n",
    "    for i in lamps:\n",
    "        if(lamps[i][0]-lamps[i][1]<low):\n",
    "            low=lamps[i][0]-lamps[i][1]\n",
    "        if(lamps[i][0]-lamps[i][1]<low_high):\n",
    "            low_high=lamps[i][0]+lamps[i][1]\n",
    "        if(lamps[i][1]+lamps[i][0]>high):\n",
    "            high=lamps[i][1]+lamps[i][0]\n",
    "        if(lamps[i][1]+lamps[i][0]>high_low):\n",
    "            high_low=lamps[i][1]+lamps[i][0]\n",
    "    return high,high_low,low,low_high\n",
    "\n",
    "solution([[-2, 1], [2, 1]])"
   ]
  },
  {
   "cell_type": "code",
   "execution_count": null,
   "metadata": {},
   "outputs": [],
   "source": []
  }
 ],
 "metadata": {
  "interpreter": {
   "hash": "aee8b7b246df8f9039afb4144a1f6fd8d2ca17a180786b69acc140d282b71a49"
  },
  "kernelspec": {
   "display_name": "Python 3.9.7 64-bit",
   "language": "python",
   "name": "python3"
  },
  "language_info": {
   "codemirror_mode": {
    "name": "ipython",
    "version": 3
   },
   "file_extension": ".py",
   "mimetype": "text/x-python",
   "name": "python",
   "nbconvert_exporter": "python",
   "pygments_lexer": "ipython3",
   "version": "3.9.7"
  },
  "orig_nbformat": 4
 },
 "nbformat": 4,
 "nbformat_minor": 2
}
