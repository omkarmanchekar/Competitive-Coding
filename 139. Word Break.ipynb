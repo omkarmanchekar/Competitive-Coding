{
 "cells": [
  {
   "cell_type": "code",
   "execution_count": 63,
   "metadata": {},
   "outputs": [
    {
     "name": "stdout",
     "output_type": "stream",
     "text": [
      "0\n",
      "3\n",
      "\n",
      "3\n",
      "7\n",
      "\n"
     ]
    },
    {
     "data": {
      "text/plain": [
       "False"
      ]
     },
     "execution_count": 63,
     "metadata": {},
     "output_type": "execute_result"
    }
   ],
   "source": [
    "s = \"catsandog\"\n",
    "wordDict = [\"cats\",\"dog\",\"sand\",\"and\",\"cat\"]\n",
    "\n",
    "\n",
    "def sol(s,wordDict):\n",
    "    start=0\n",
    "    for i in range(len(s)):\n",
    "        if(s[start:i+1] in set(wordDict)):\n",
    "            print(start)\n",
    "            start=i+1\n",
    "            print(start)\n",
    "            print(s[start:i+1])\n",
    "    if(start==len(s)):\n",
    "        return True\n",
    "    else:\n",
    "        return False\n",
    "        \n",
    "        \n",
    "sol(s,wordDict)\n",
    "\n",
    "\n"
   ]
  },
  {
   "cell_type": "code",
   "execution_count": 64,
   "metadata": {},
   "outputs": [
    {
     "name": "stdout",
     "output_type": "stream",
     "text": [
      "[True, False, False, True, True, False, False, True, False, False] False\n"
     ]
    }
   ],
   "source": [
    "word_set = set(wordDict)\n",
    "dp = [False] * (len(s) + 1)\n",
    "dp[0] = True\n",
    "\n",
    "for i in range(1, len(s) + 1):\n",
    "    for j in range(i):\n",
    "        if dp[j] and s[j:i] in word_set:\n",
    "            dp[i] = True\n",
    "            break\n",
    "\n",
    "print(dp,dp[len(s)])"
   ]
  },
  {
   "cell_type": "code",
   "execution_count": 66,
   "metadata": {},
   "outputs": [
    {
     "name": "stdout",
     "output_type": "stream",
     "text": [
      "[False, False, True, True, False, False, True, False, True]\n"
     ]
    }
   ],
   "source": [
    "def sol(s,wordDict):\n",
    "    dp=[False]*len(s)\n",
    "    for i in range(1,len(s)+1):\n",
    "        for j in range(i):\n",
    "             if(s[j:i] in set(wordDict)):\n",
    "                 dp[i-1]=True\n",
    "    print(dp)\n",
    "\n",
    "\n",
    "sol(s,wordDict)"
   ]
  },
  {
   "cell_type": "code",
   "execution_count": 69,
   "metadata": {},
   "outputs": [
    {
     "data": {
      "text/plain": [
       "2"
      ]
     },
     "execution_count": 69,
     "metadata": {},
     "output_type": "execute_result"
    }
   ],
   "source": [
    "s=\"hot\"\n",
    "d=\"hit\"\n",
    "len(set(s).intersection(d))"
   ]
  },
  {
   "cell_type": "code",
   "execution_count": null,
   "metadata": {},
   "outputs": [],
   "source": []
  }
 ],
 "metadata": {
  "interpreter": {
   "hash": "aee8b7b246df8f9039afb4144a1f6fd8d2ca17a180786b69acc140d282b71a49"
  },
  "kernelspec": {
   "display_name": "Python 3.9.7 64-bit",
   "language": "python",
   "name": "python3"
  },
  "language_info": {
   "codemirror_mode": {
    "name": "ipython",
    "version": 3
   },
   "file_extension": ".py",
   "mimetype": "text/x-python",
   "name": "python",
   "nbconvert_exporter": "python",
   "pygments_lexer": "ipython3",
   "version": "3.9.7"
  },
  "orig_nbformat": 4
 },
 "nbformat": 4,
 "nbformat_minor": 2
}
