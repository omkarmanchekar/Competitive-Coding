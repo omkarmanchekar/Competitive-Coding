{
 "cells": [
  {
   "cell_type": "code",
   "execution_count": 11,
   "metadata": {},
   "outputs": [
    {
     "data": {
      "text/plain": [
       "['900 google.mail.com',\n",
       " '901 mail.com',\n",
       " '951 com',\n",
       " '50 yahoo.com',\n",
       " '1 intel.mail.com',\n",
       " '5 wiki.org',\n",
       " '5 org']"
      ]
     },
     "execution_count": 11,
     "metadata": {},
     "output_type": "execute_result"
    }
   ],
   "source": [
    "cpdomains = [\"900 google.mail.com\", \"50 yahoo.com\", \"1 intel.mail.com\", \"5 wiki.org\"]\n",
    "\n",
    "\n",
    "def sol(cpdomains):\n",
    "    hash={}\n",
    "    new_array=[]\n",
    "    for i in range(len(cpdomains)):\n",
    "        s=cpdomains[i].split(' ')\n",
    "        strin=s[1].split('.')\n",
    "        for j in range(len(strin)):\n",
    "            k='.'.join(strin[j:len(strin)])\n",
    "            if(k not in hash):\n",
    "                hash[k]=s[0]\n",
    "            else:\n",
    "                hash[k]=int(hash[k])+int(s[0])\n",
    "\n",
    "    for i in hash:\n",
    "        new_array.append(str(hash[i])+\" \"+i)\n",
    "    \n",
    "    return new_array\n",
    "\n",
    "\n",
    "sol(cpdomains)"
   ]
  },
  {
   "cell_type": "code",
   "execution_count": null,
   "metadata": {},
   "outputs": [],
   "source": []
  }
 ],
 "metadata": {
  "interpreter": {
   "hash": "aee8b7b246df8f9039afb4144a1f6fd8d2ca17a180786b69acc140d282b71a49"
  },
  "kernelspec": {
   "display_name": "Python 3.9.7 64-bit",
   "language": "python",
   "name": "python3"
  },
  "language_info": {
   "codemirror_mode": {
    "name": "ipython",
    "version": 3
   },
   "file_extension": ".py",
   "mimetype": "text/x-python",
   "name": "python",
   "nbconvert_exporter": "python",
   "pygments_lexer": "ipython3",
   "version": "3.9.7"
  },
  "orig_nbformat": 4
 },
 "nbformat": 4,
 "nbformat_minor": 2
}
