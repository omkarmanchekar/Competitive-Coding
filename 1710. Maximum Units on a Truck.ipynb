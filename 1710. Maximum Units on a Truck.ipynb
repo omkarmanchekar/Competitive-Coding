{
 "cells": [
  {
   "cell_type": "code",
   "execution_count": 31,
   "metadata": {},
   "outputs": [
    {
     "name": "stdout",
     "output_type": "stream",
     "text": [
      "[[5, 5], [2, 5], [2, 5], [1, 3], [1, 3], [4, 2], [2, 2], [3, 2], [4, 1], [3, 1]]\n"
     ]
    },
    {
     "data": {
      "text/plain": [
       "76"
      ]
     },
     "execution_count": 31,
     "metadata": {},
     "output_type": "execute_result"
    }
   ],
   "source": [
    "boxTypes = [[1,3],[5,5],[2,5],[4,2],[4,1],[3,1],[2,2],[1,3],[2,5],[3,2]]\n",
    "truckSize = 35\n",
    "\n",
    "\n",
    "\n",
    "def sol(boxTypes,truckSize):\n",
    "    new_array= sorted(boxTypes,key = lambda x : x[1],reverse=True)\n",
    "    print(new_array)\n",
    "    result=0\n",
    "    i=0\n",
    "    while(truckSize>0 and i< len(new_array)):\n",
    "        if(truckSize-new_array[i][0] > 0):\n",
    "            result+=(new_array[i][0]*new_array[i][1])\n",
    "        else:\n",
    "            result+=((truckSize)*new_array[i][1])\n",
    "        truckSize-=new_array[i][0]\n",
    "        i+=1\n",
    "    return result\n",
    "\n",
    "sol(boxTypes,truckSize)"
   ]
  },
  {
   "cell_type": "code",
   "execution_count": null,
   "metadata": {},
   "outputs": [],
   "source": []
  },
  {
   "cell_type": "code",
   "execution_count": null,
   "metadata": {},
   "outputs": [],
   "source": []
  }
 ],
 "metadata": {
  "interpreter": {
   "hash": "aee8b7b246df8f9039afb4144a1f6fd8d2ca17a180786b69acc140d282b71a49"
  },
  "kernelspec": {
   "display_name": "Python 3.9.7 64-bit",
   "language": "python",
   "name": "python3"
  },
  "language_info": {
   "codemirror_mode": {
    "name": "ipython",
    "version": 3
   },
   "file_extension": ".py",
   "mimetype": "text/x-python",
   "name": "python",
   "nbconvert_exporter": "python",
   "pygments_lexer": "ipython3",
   "version": "3.9.7"
  },
  "orig_nbformat": 4
 },
 "nbformat": 4,
 "nbformat_minor": 2
}
