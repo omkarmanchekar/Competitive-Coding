{
 "cells": [
  {
   "cell_type": "code",
   "execution_count": 56,
   "metadata": {},
   "outputs": [
    {
     "name": "stdout",
     "output_type": "stream",
     "text": [
      "(0, 0) 1 -1\n"
     ]
    },
    {
     "data": {
      "text/plain": [
       "-1"
      ]
     },
     "execution_count": 56,
     "metadata": {},
     "output_type": "execute_result"
    }
   ],
   "source": [
    "# import collections\n",
    "# import itertools\n",
    "\n",
    "# grid = [[1,2]]\n",
    "\n",
    "\n",
    "# def BFS(visited,queue,grid,row,col,level):\n",
    "#     track=[]\n",
    "#     for rowOff,colOff,levelOff in [(1,0,1),(0,1,1),(-1,0,-1),(0,-1,-1)]:\n",
    "#         if(row+rowOff in range(len(grid)) and col+colOff in range(len(grid[0])) and grid[row+rowOff][col+colOff] == 1 and (row+rowOff,col+colOff,level+levelOff) not in visited):\n",
    "#             visited.append((row+rowOff,col+colOff,level+levelOff))\n",
    "#             queue.append((row+rowOff,col+colOff,level+levelOff))\n",
    "#             track.append((row+rowOff,col+colOff,level+levelOff))\n",
    "#             print((row+rowOff,col+colOff),grid[row+rowOff][col+colOff],levelOff+level)\n",
    "\n",
    "#     if(len(track)):\n",
    "#         return 1\n",
    "#     else:\n",
    "#         return 0\n",
    "    \n",
    "\n",
    "\n",
    "# def sol(grid):\n",
    "#     visited=[]\n",
    "#     queue=[]\n",
    "#     total_oranges=0\n",
    "#     rotten=False\n",
    "    \n",
    "#     counter=collections.Counter(list(itertools.chain.from_iterable(grid)))\n",
    "#     if(counter[0] and not(counter[2]) and not(counter[1])):\n",
    "#         return 0\n",
    "#     if(counter[0] and not(counter[2]) and (counter[1])):\n",
    "#         return -1\n",
    "#     if(not(counter[0]) and not(counter[2]) and (counter[1])):\n",
    "#         return 0\n",
    "        \n",
    "\n",
    "#     for i in range(len(grid)):\n",
    "#         for j in range(len(grid[0])):\n",
    "#             if(grid[i][j]==1 or grid[i][j]==2):\n",
    "#                 total_oranges+=1\n",
    "\n",
    "#     for i in range(len(grid)):\n",
    "#         for j in range(len(grid[0])):\n",
    "#             if(grid[i][j]==2):\n",
    "#                 rotten=(i,j,0)\n",
    "#             # if(not(rotten)):\n",
    "#             #     return -1\n",
    "\n",
    "\n",
    "\n",
    "#     visited.append(rotten)\n",
    "#     queue.append(rotten)\n",
    "\n",
    "#     while(queue):\n",
    "#         r,c,level=queue.pop(0)\n",
    "#         BFS(visited,queue,grid,r,c,level)\n",
    "\n",
    "#     if(len(visited) == total_oranges):\n",
    "#         return visited[-1][2]\n",
    "#     else:\n",
    "#         print(visited,total_oranges)\n",
    "#         return -1\n",
    "\n",
    "\n",
    "\n",
    "\n",
    "# sol(grid)"
   ]
  },
  {
   "cell_type": "code",
   "execution_count": 73,
   "metadata": {},
   "outputs": [
    {
     "name": "stdout",
     "output_type": "stream",
     "text": [
      "[(0, 1), (0, 2), (-1, -1)]\n",
      "[(0, 2), (-1, -1)]\n",
      "[(-1, -1)]\n"
     ]
    },
    {
     "data": {
      "text/plain": [
       "0"
      ]
     },
     "execution_count": 73,
     "metadata": {},
     "output_type": "execute_result"
    }
   ],
   "source": [
    "grid = [[0,2,2]]\n",
    "\n",
    "\n",
    "def BFS(grid,visited,queue,row,col):\n",
    "    track=[]\n",
    "    for rowOff,collOff in [(0,1),(1,0),(-1,0),(0,-1)]:\n",
    "        if(row+rowOff in range(len(grid)) and col+collOff in range(len(grid[0])) and  (row+rowOff,col+collOff) not in visited and grid[row+rowOff][col+collOff] == 1):\n",
    "            track.append((row+rowOff,col+collOff))\n",
    "            visited.append((row+rowOff,col+collOff))\n",
    "            queue.append((row+rowOff,col+collOff))\n",
    "\n",
    "    return len(track)\n",
    "\n",
    "def sol(grid):\n",
    "    count=-1\n",
    "    visited=[]\n",
    "    queue=[]\n",
    "    total_oranges=0\n",
    "\n",
    "\n",
    "\n",
    "    for i in range(len(grid)):\n",
    "        for j in range(len(grid[0])):\n",
    "            if(grid[i][j]==2):\n",
    "                visited.append((i,j))\n",
    "                queue.append((i,j))\n",
    "            elif(grid[i][j] == 1):\n",
    "                total_oranges+=1\n",
    "\n",
    "    queue.append((-1,-1))\n",
    "    if(len(visited)==0 and total_oranges==0):\n",
    "        return 0\n",
    "\n",
    "    while(queue):\n",
    "        print(queue)\n",
    "        r,c=queue.pop(0)\n",
    "        if(r==-1 and c==-1):\n",
    "            \n",
    "            count+=1\n",
    "            if(queue):\n",
    "                queue.append((-1,-1))\n",
    "\n",
    "        else:\n",
    "            bfs=BFS(grid,visited,queue,r,c)\n",
    "            total_oranges-=bfs\n",
    "\n",
    "\n",
    "    return count if total_oranges==0 else -1\n",
    "\n",
    "\n",
    "sol(grid)\n",
    "\n",
    "\n",
    "\n",
    "\n",
    "\n"
   ]
  },
  {
   "cell_type": "code",
   "execution_count": null,
   "metadata": {},
   "outputs": [],
   "source": []
  }
 ],
 "metadata": {
  "interpreter": {
   "hash": "aee8b7b246df8f9039afb4144a1f6fd8d2ca17a180786b69acc140d282b71a49"
  },
  "kernelspec": {
   "display_name": "Python 3.9.7 64-bit",
   "language": "python",
   "name": "python3"
  },
  "language_info": {
   "codemirror_mode": {
    "name": "ipython",
    "version": 3
   },
   "file_extension": ".py",
   "mimetype": "text/x-python",
   "name": "python",
   "nbconvert_exporter": "python",
   "pygments_lexer": "ipython3",
   "version": "3.9.7"
  },
  "orig_nbformat": 4
 },
 "nbformat": 4,
 "nbformat_minor": 2
}
