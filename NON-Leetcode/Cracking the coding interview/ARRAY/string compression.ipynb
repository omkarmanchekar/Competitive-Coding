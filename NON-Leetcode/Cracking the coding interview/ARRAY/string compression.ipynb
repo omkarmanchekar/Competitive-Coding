{
 "cells": [
  {
   "cell_type": "code",
   "execution_count": 7,
   "metadata": {},
   "outputs": [
    {
     "data": {
      "text/plain": [
       "'a5A1N2K2S2b3s3'"
      ]
     },
     "execution_count": 7,
     "metadata": {},
     "output_type": "execute_result"
    }
   ],
   "source": [
    "from collections import Counter\n",
    "def com(s):\n",
    "    string=\"\"\n",
    "    hash=Counter(s)\n",
    "    for i in hash:\n",
    "        string=string+str(i)+str(hash[i])\n",
    "    return string\n",
    "\n",
    "com(\"aaaaANKSNKSabbbsss\")"
   ]
  },
  {
   "cell_type": "code",
   "execution_count": 17,
   "metadata": {},
   "outputs": [
    {
     "name": "stdout",
     "output_type": "stream",
     "text": [
      "[0, 1, 1]\n",
      "{1: 4}\n",
      "[1, 1, 5]\n",
      "{1: 0}\n"
     ]
    },
    {
     "data": {
      "text/plain": [
       "0"
      ]
     },
     "execution_count": 17,
     "metadata": {},
     "output_type": "execute_result"
    }
   ],
   "source": [
    "def numberOfTokens(expiryLimit, commands):\n",
    "    # Write your code here\n",
    "    hash={}\n",
    "    count=0\n",
    "    for i in commands:\n",
    "        set,id,time=i\n",
    "        print(i)\n",
    "        if(set==0):\n",
    "            if(id not in hash):\n",
    "                hash[id]=time+expiryLimit\n",
    "            print(hash)\n",
    "        else:\n",
    "            if(id in hash):\n",
    "                if(hash[id]>=time):\n",
    "                    print(hash[id])\n",
    "                    hash[id]=time+expiryLimit\n",
    "                else:\n",
    "                    hash[id]=0\n",
    "    for i in hash:\n",
    "        if(hash[i]>0):\n",
    "            count+=1\n",
    "    print(hash)\n",
    "    return count\n",
    "    \n",
    "\n",
    "numberOfTokens(3,[[0,1,1],[1,1,5]])"
   ]
  },
  {
   "cell_type": "code",
   "execution_count": null,
   "metadata": {},
   "outputs": [],
   "source": []
  }
 ],
 "metadata": {
  "interpreter": {
   "hash": "aee8b7b246df8f9039afb4144a1f6fd8d2ca17a180786b69acc140d282b71a49"
  },
  "kernelspec": {
   "display_name": "Python 3.9.7 64-bit",
   "language": "python",
   "name": "python3"
  },
  "language_info": {
   "codemirror_mode": {
    "name": "ipython",
    "version": 3
   },
   "file_extension": ".py",
   "mimetype": "text/x-python",
   "name": "python",
   "nbconvert_exporter": "python",
   "pygments_lexer": "ipython3",
   "version": "3.9.7"
  },
  "orig_nbformat": 4
 },
 "nbformat": 4,
 "nbformat_minor": 2
}
