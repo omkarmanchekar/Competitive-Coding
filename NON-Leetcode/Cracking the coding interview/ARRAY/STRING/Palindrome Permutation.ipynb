{
 "cells": [
  {
   "cell_type": "code",
   "execution_count": 14,
   "metadata": {},
   "outputs": [
    {
     "data": {
      "text/plain": [
       "True"
      ]
     },
     "execution_count": 14,
     "metadata": {},
     "output_type": "execute_result"
    }
   ],
   "source": [
    "from collections import Counter\n",
    "\n",
    "def palper(s):\n",
    "    s=\"\".join(s.split())\n",
    "    n=len(s)\n",
    "    hash=Counter(s)\n",
    "    count_odd=0\n",
    "    if(n%2==0):\n",
    "        if(1 in list(hash.values())):\n",
    "            return False\n",
    "    else:\n",
    "        for i in (list(hash.values())):\n",
    "            if(i%2!=0):\n",
    "                count_odd+=1\n",
    "        if(count_odd>1):\n",
    "            return False\n",
    "    return True \n",
    "\n",
    "palper(\"a a a a abaa a\")\n",
    "\n",
    "\n",
    "    "
   ]
  }
 ],
 "metadata": {
  "interpreter": {
   "hash": "aee8b7b246df8f9039afb4144a1f6fd8d2ca17a180786b69acc140d282b71a49"
  },
  "kernelspec": {
   "display_name": "Python 3.9.7 64-bit",
   "language": "python",
   "name": "python3"
  },
  "language_info": {
   "codemirror_mode": {
    "name": "ipython",
    "version": 3
   },
   "file_extension": ".py",
   "mimetype": "text/x-python",
   "name": "python",
   "nbconvert_exporter": "python",
   "pygments_lexer": "ipython3",
   "version": "3.9.7"
  },
  "orig_nbformat": 4
 },
 "nbformat": 4,
 "nbformat_minor": 2
}
