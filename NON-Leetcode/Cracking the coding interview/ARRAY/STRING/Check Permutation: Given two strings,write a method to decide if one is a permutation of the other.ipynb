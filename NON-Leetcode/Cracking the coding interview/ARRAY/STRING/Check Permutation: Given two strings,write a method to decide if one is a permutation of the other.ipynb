{
 "cells": [
  {
   "cell_type": "markdown",
   "metadata": {},
   "source": [
    "Check Permutation: Given two strings,write a method to decide if one is a permutation of the\n",
    "other."
   ]
  },
  {
   "cell_type": "code",
   "execution_count": null,
   "metadata": {},
   "outputs": [],
   "source": [
    "# method 1 : sort both if they are same than true take O(NLogN) time complexity \n",
    "# methpd2 : create a hash of one string and sub other from that if sum is zero than treu else false time complexity is O(N)\n",
    "\n",
    "# test case if any string len(0) than fa;se \n"
   ]
  },
  {
   "cell_type": "code",
   "execution_count": 16,
   "metadata": {},
   "outputs": [
    {
     "data": {
      "text/plain": [
       "True"
      ]
     },
     "execution_count": 16,
     "metadata": {},
     "output_type": "execute_result"
    }
   ],
   "source": [
    "def permutaion(a,b):\n",
    "    if(len(a)!=len(b) or len(a)==0 or len(b) == 0):\n",
    "        return False\n",
    "    array_a=[0]*256\n",
    "    array_b=[0]*256\n",
    "    for i in a:\n",
    "        array_a[ord(i)]+=1\n",
    "    for i in b:\n",
    "        array_b[ord(i)]+=1\n",
    "    if(array_a==array_b):\n",
    "        return True\n",
    "    else:\n",
    "        return False\n",
    "\n",
    "permutaion(\"God\",\"God\")"
   ]
  },
  {
   "cell_type": "code",
   "execution_count": 8,
   "metadata": {},
   "outputs": [
    {
     "name": "stdout",
     "output_type": "stream",
     "text": [
      "[0, 0, 0, 0, 0]\n"
     ]
    }
   ],
   "source": []
  },
  {
   "cell_type": "code",
   "execution_count": 47,
   "metadata": {},
   "outputs": [
    {
     "name": "stdout",
     "output_type": "stream",
     "text": [
      "1\n"
     ]
    },
    {
     "data": {
      "text/plain": [
       "1"
      ]
     },
     "execution_count": 47,
     "metadata": {},
     "output_type": "execute_result"
    }
   ],
   "source": [
    "\n",
    "\n",
    "\n",
    "\n",
    "def minCost(rows, cols, initR, initC, finalR, finalC, costRows, costCols):\n",
    "    cost=0\n",
    "    if(initR<finalR):\n",
    "        if(initC<finalC):\n",
    "            prev_row=initR\n",
    "            prev_col=initC\n",
    "            while(prev_row!=finalR):\n",
    "                cost+=costRows[(prev_row+1)-1]\n",
    "                prev_row+=1\n",
    "            while(prev_col!=finalC):\n",
    "                cost+=costCols[(prev_col+1)-1]\n",
    "                prev_col+=1\n",
    "        else:\n",
    "            prev_row=initR\n",
    "            prev_col=initC\n",
    "            while(prev_row!=finalR):\n",
    "                cost+=costRows[(prev_row+1)-1]\n",
    "                prev_row+=1\n",
    "            while(prev_col!=finalC):\n",
    "                cost+=costCols[(prev_col+1)-1]\n",
    "                prev_col+=1\n",
    "\n",
    "\n",
    "    else:\n",
    "\n",
    "    \n",
    "    return cost\n",
    "        \n",
    "\n",
    "\n",
    "minCost(3,3,0,0,1,2,[2,5],[6,1])"
   ]
  },
  {
   "cell_type": "code",
   "execution_count": 34,
   "metadata": {},
   "outputs": [
    {
     "data": {
      "text/plain": [
       "0"
      ]
     },
     "execution_count": 34,
     "metadata": {},
     "output_type": "execute_result"
    }
   ],
   "source": [
    "from collections import Counter\n",
    "def coutPair(numbers,k):\n",
    "    \n",
    "    distinct_numbers=sorted(list(Counter(numbers).keys()))\n",
    "    hash={}\n",
    "    count=0\n",
    "    for i in range(len(distinct_numbers)):\n",
    "        if(distinct_numbers[i] in hash):\n",
    "            count+=1\n",
    "        hash[distinct_numbers[i]+k]=i\n",
    "    return count\n",
    "\n",
    "coutPair([5,2,3,4,1,6],0)"
   ]
  },
  {
   "cell_type": "code",
   "execution_count": null,
   "metadata": {},
   "outputs": [],
   "source": []
  }
 ],
 "metadata": {
  "interpreter": {
   "hash": "aee8b7b246df8f9039afb4144a1f6fd8d2ca17a180786b69acc140d282b71a49"
  },
  "kernelspec": {
   "display_name": "Python 3.9.7 64-bit",
   "language": "python",
   "name": "python3"
  },
  "language_info": {
   "codemirror_mode": {
    "name": "ipython",
    "version": 3
   },
   "file_extension": ".py",
   "mimetype": "text/x-python",
   "name": "python",
   "nbconvert_exporter": "python",
   "pygments_lexer": "ipython3",
   "version": "3.9.7"
  },
  "orig_nbformat": 4
 },
 "nbformat": 4,
 "nbformat_minor": 2
}
