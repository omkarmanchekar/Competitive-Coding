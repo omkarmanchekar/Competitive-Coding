{
 "cells": [
  {
   "cell_type": "code",
   "execution_count": 5,
   "metadata": {},
   "outputs": [
    {
     "data": {
      "text/plain": [
       "False"
      ]
     },
     "execution_count": 5,
     "metadata": {},
     "output_type": "execute_result"
    }
   ],
   "source": [
    "# considering only ASCII 256 characters\n",
    "# what if more tham 256 retrun false\n",
    "# TIME COMPLEXITY O(N)\n",
    "# Space complexit is O(1)\n",
    "\n",
    "\n",
    "def uniquecharacters(a):\n",
    "    if(len(a)>255):\n",
    "        return False\n",
    "    array=[0]*256\n",
    "    for i in a:\n",
    "        if(array[ord(i)]>0):\n",
    "            return False\n",
    "        if(array[ord(i)]==0):\n",
    "            array[ord(i)]+=1\n",
    "    return True \n",
    "\n",
    "uniquecharacters(\"abncos@#$%^&#*(\")\n",
    "\n",
    "\n"
   ]
  },
  {
   "cell_type": "code",
   "execution_count": null,
   "metadata": {},
   "outputs": [],
   "source": []
  }
 ],
 "metadata": {
  "interpreter": {
   "hash": "aee8b7b246df8f9039afb4144a1f6fd8d2ca17a180786b69acc140d282b71a49"
  },
  "kernelspec": {
   "display_name": "Python 3.9.7 64-bit",
   "language": "python",
   "name": "python3"
  },
  "language_info": {
   "codemirror_mode": {
    "name": "ipython",
    "version": 3
   },
   "file_extension": ".py",
   "mimetype": "text/x-python",
   "name": "python",
   "nbconvert_exporter": "python",
   "pygments_lexer": "ipython3",
   "version": "3.9.7"
  },
  "orig_nbformat": 4
 },
 "nbformat": 4,
 "nbformat_minor": 2
}
