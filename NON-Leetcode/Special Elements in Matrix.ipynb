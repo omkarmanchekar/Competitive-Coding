{
 "cells": [
  {
   "cell_type": "markdown",
   "metadata": {},
   "source": [
    "Problem Statement: Special Elements in Matrix\n",
    "\n",
    "Given a matrix of size m*n, m denotes the row starting with index 0 and n denotes the column starting with index 0.\n",
    "\n",
    "The matrix will hold distinct integers as elements.\n",
    "\n",
    "We need to find a distinct number of positional elements which are either the minimum or maximum in their corresponding row or column.\n",
    "\n",
    "Please return -1 if any row or any column has multiple minimum or maximum elements.\n",
    "\n",
    "For example, given a matrix of size 3*3, the elements are stored as follows.\n",
    "\n",
    "1  3  4\n",
    "5  2  9\n",
    "8  7  6\n",
    "The expected output is 7.\n",
    "\n",
    "In the above example, we identified the output as 7 based on below.\n",
    "\n",
    "1 - minimum in row and column\n",
    "4 - Maximum in row\n",
    "2 - Minimum in column and row\n",
    "9 - Maximum in row and column\n",
    "8 - Maximum in row and column\n",
    "7 - Maximum in column\n",
    "6 - Minimum in row\n",
    "Input:\n",
    "\n",
    "m - integer - number of rows\n",
    "n - integer - number of columns\n",
    "m * n matrix\n",
    "Output:\n",
    "\n",
    "r - integer - result\n",
    "Constraints:\n",
    "\n",
    "0<m,n<100\n",
    "Elements in the matrix are positive integers."
   ]
  },
  {
   "cell_type": "code",
   "execution_count": 4,
   "metadata": {},
   "outputs": [
    {
     "data": {
      "text/plain": [
       "7"
      ]
     },
     "execution_count": 4,
     "metadata": {},
     "output_type": "execute_result"
    }
   ],
   "source": [
    "def countspecial(matrix):\n",
    "    rows=len(matrix)\n",
    "    count=0\n",
    "\n",
    "    for row in matrix:\n",
    "        for index,value in enumerate(row):\n",
    "            if((value==min(row) or value==max(row)) and row.count(value)==1 ):\n",
    "                count+=1\n",
    "            else:\n",
    "                column=[]\n",
    "                for i in range(rows):\n",
    "                    column.append(matrix[i][index])\n",
    "                if((value==min(column) or value==max(column))and column.count(value)==1):\n",
    "                    count+=1\n",
    "    \n",
    "    return count\n",
    "                \n",
    "countspecial([[1,3,4],[5,2,9],[8,7,6]])\n"
   ]
  },
  {
   "cell_type": "code",
   "execution_count": null,
   "metadata": {},
   "outputs": [],
   "source": []
  }
 ],
 "metadata": {
  "interpreter": {
   "hash": "aee8b7b246df8f9039afb4144a1f6fd8d2ca17a180786b69acc140d282b71a49"
  },
  "kernelspec": {
   "display_name": "Python 3.9.7 64-bit",
   "language": "python",
   "name": "python3"
  },
  "language_info": {
   "codemirror_mode": {
    "name": "ipython",
    "version": 3
   },
   "file_extension": ".py",
   "mimetype": "text/x-python",
   "name": "python",
   "nbconvert_exporter": "python",
   "pygments_lexer": "ipython3",
   "version": "3.9.7"
  },
  "orig_nbformat": 4
 },
 "nbformat": 4,
 "nbformat_minor": 2
}
