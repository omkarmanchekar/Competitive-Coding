{
 "cells": [
  {
   "cell_type": "code",
   "execution_count": 17,
   "metadata": {},
   "outputs": [
    {
     "name": "stdout",
     "output_type": "stream",
     "text": [
      "[1, 1, 2, 1]\n",
      "[1, 2, 1, 1]\n"
     ]
    },
    {
     "data": {
      "text/plain": [
       "2"
      ]
     },
     "execution_count": 17,
     "metadata": {},
     "output_type": "execute_result"
    }
   ],
   "source": [
    "# O(N^2)\n",
    "\n",
    "import collections\n",
    "nums = [1,1,2,1,1]\n",
    "k = 3\n",
    "def sol(nums,k):\n",
    "    odd_even=[False]*len(nums)\n",
    "    for i in range(len(nums)):\n",
    "        if(nums[i]%2!=0):\n",
    "            odd_even[i]=True\n",
    "\n",
    "    rsult=0\n",
    "    for i in range(len(nums)-k+1):\n",
    "        for j in range(i+k,len(nums)+1):\n",
    "            count=collections.Counter(odd_even[i:j])\n",
    "            if(count[True] == k):\n",
    "                rsult+=1\n",
    "                print(nums[i:j])\n",
    "\n",
    "    return rsult\n",
    "\n",
    "\n",
    "sol(nums,k)\n"
   ]
  },
  {
   "cell_type": "code",
   "execution_count": 21,
   "metadata": {},
   "outputs": [
    {
     "name": "stdout",
     "output_type": "stream",
     "text": [
      "defaultdict(<class 'int'>, {})\n",
      "defaultdict(<class 'int'>, {0: 1})\n",
      "defaultdict(<class 'int'>, {0: 1, 1: 1})\n",
      "defaultdict(<class 'int'>, {0: 1, 1: 1, 2: 1})\n",
      "defaultdict(<class 'int'>, {0: 1, 1: 1, 2: 2})\n",
      "1\n",
      "defaultdict(<class 'int'>, {0: 1, 1: 1, 2: 2, 3: 1})\n",
      "1\n"
     ]
    },
    {
     "data": {
      "text/plain": [
       "2"
      ]
     },
     "execution_count": 21,
     "metadata": {},
     "output_type": "execute_result"
    }
   ],
   "source": [
    "from collections import defaultdict\n",
    "\n",
    "def numberOfSubarrays(nums,k):\n",
    "    result, countOddNum = 0,0\n",
    "    prefixOddCount = defaultdict(int)\n",
    "    print(prefixOddCount)\n",
    "\n",
    "    # Time - O(n), Space O(n)\n",
    "    for num in nums:\n",
    "\n",
    "        prefixOddCount[countOddNum] += 1\n",
    "        print(prefixOddCount)\n",
    "\n",
    "        # if current num is odd increase countOddNum\n",
    "        if num % 2:\n",
    "            countOddNum += 1\n",
    "\n",
    "        # if countOddNum is greater than or equal to k, \n",
    "        # that means we have previous subarray with K odd numbers\n",
    "        if countOddNum >= k:\n",
    "            subArraywithOddNum = countOddNum - k\n",
    "            print(prefixOddCount[subArraywithOddNum])\n",
    "            result += prefixOddCount[subArraywithOddNum]\n",
    "            \n",
    "    return result\n",
    "\n",
    "numberOfSubarrays(nums,k)"
   ]
  },
  {
   "cell_type": "code",
   "execution_count": 36,
   "metadata": {},
   "outputs": [
    {
     "name": "stdout",
     "output_type": "stream",
     "text": [
      "0 1\n",
      "counter 1\n",
      "res 0\n",
      "cnt 1\n",
      "dict {0: 1, 1: 1}\n",
      "===================\n",
      "1 2\n",
      "res 0\n",
      "cnt 1\n",
      "dict {0: 1, 1: 2}\n",
      "===================\n",
      "2 2\n",
      "res 0\n",
      "cnt 1\n",
      "dict {0: 1, 1: 3}\n",
      "===================\n",
      "3 2\n",
      "res 0\n",
      "cnt 1\n",
      "dict {0: 1, 1: 4}\n",
      "===================\n",
      "4 1\n",
      "counter 2\n",
      "cnt-k 0\n",
      "1\n",
      "res 1\n",
      "cnt 2\n",
      "dict {0: 1, 1: 4, 2: 1}\n",
      "===================\n",
      "5 2\n",
      "cnt-k 0\n",
      "1\n",
      "res 2\n",
      "cnt 2\n",
      "dict {0: 1, 1: 4, 2: 2}\n",
      "===================\n",
      "6 2\n",
      "cnt-k 0\n",
      "1\n",
      "res 3\n",
      "cnt 2\n",
      "dict {0: 1, 1: 4, 2: 3}\n",
      "===================\n",
      "7 1\n",
      "counter 3\n",
      "cnt-k 1\n",
      "4\n",
      "res 7\n",
      "cnt 3\n",
      "dict {0: 1, 1: 4, 2: 3, 3: 1}\n",
      "===================\n",
      "8 2\n",
      "cnt-k 1\n",
      "4\n",
      "res 11\n",
      "cnt 3\n",
      "dict {0: 1, 1: 4, 2: 3, 3: 2}\n",
      "===================\n",
      "9 2\n",
      "cnt-k 1\n",
      "4\n",
      "res 15\n",
      "cnt 3\n",
      "dict {0: 1, 1: 4, 2: 3, 3: 3}\n",
      "===================\n",
      "10 2\n",
      "cnt-k 1\n",
      "4\n",
      "res 19\n",
      "cnt 3\n",
      "dict {0: 1, 1: 4, 2: 3, 3: 4}\n",
      "===================\n"
     ]
    },
    {
     "data": {
      "text/plain": [
       "19"
      ]
     },
     "execution_count": 36,
     "metadata": {},
     "output_type": "execute_result"
    }
   ],
   "source": [
    "nums = [1,2,2,2,1,2,2,1,2,2,2]\n",
    "k = 2\n",
    "\n",
    "\n",
    "def sol(nums,k):\n",
    "    dic = { 0: 1 }\n",
    "    cnt = res = 0\n",
    "    for idx, num in enumerate(nums):\n",
    "        print(idx,num)\n",
    "        if num % 2 == 1: #if odd counter ++\n",
    "            cnt += 1\n",
    "            print(\"counter\",cnt)\n",
    "        if cnt - k in dic:  \n",
    "            print(\"cnt-k\",cnt-k)\n",
    "            print(dic[cnt-k])\n",
    "            res += dic[cnt-k]\n",
    "\n",
    "        dic[cnt] = dic.get(cnt, 0) + 1\n",
    "        print(\"res\",res)\n",
    "        print(\"cnt\",cnt)\n",
    "        print(\"dict\",dic)\n",
    "        print(\"===================\")\n",
    "\n",
    "    return res\n",
    "\n",
    "\n",
    "\n",
    "sol(nums,k)"
   ]
  },
  {
   "cell_type": "code",
   "execution_count": 39,
   "metadata": {},
   "outputs": [
    {
     "name": "stdout",
     "output_type": "stream",
     "text": [
      "odd/even 0\n",
      "number of odd 0\n",
      "{0: 1}\n",
      "==========\n",
      "odd/even 0\n",
      "number of odd 0\n",
      "{0: 2}\n",
      "==========\n",
      "odd/even 0\n",
      "number of odd 0\n",
      "{0: 3}\n",
      "==========\n",
      "odd/even 1\n",
      "number of odd 1\n",
      "{0: 3, 1: 1}\n",
      "==========\n",
      "odd/even 0\n",
      "number of odd 1\n",
      "{0: 3, 1: 2}\n",
      "==========\n",
      "odd/even 0\n",
      "number of odd 1\n",
      "{0: 3, 1: 3}\n",
      "==========\n",
      "odd/even 1\n",
      "number of odd 2\n",
      "odd=k 1\n",
      "3\n",
      "4\n",
      "{0: 3, 1: 3, 2: 1}\n",
      "==========\n",
      "odd/even 0\n",
      "number of odd 2\n",
      "odd=k 5\n",
      "3\n",
      "8\n",
      "{0: 3, 1: 3, 2: 2}\n",
      "==========\n",
      "odd/even 0\n",
      "number of odd 2\n",
      "odd=k 9\n",
      "3\n",
      "12\n",
      "{0: 3, 1: 3, 2: 3}\n",
      "==========\n",
      "odd/even 0\n",
      "number of odd 2\n",
      "odd=k 13\n",
      "3\n",
      "16\n",
      "{0: 3, 1: 3, 2: 4}\n",
      "==========\n"
     ]
    },
    {
     "data": {
      "text/plain": [
       "16"
      ]
     },
     "execution_count": 39,
     "metadata": {},
     "output_type": "execute_result"
    }
   ],
   "source": [
    "\n",
    "\n",
    "nums = [2,2,2,1,2,2,1,2,2,2]\n",
    "k = 2\n",
    "def sol(nums,k):\n",
    "    for i in range(len(nums)):\n",
    "            \n",
    "            if nums[i] % 2 == 0:\n",
    "                nums[i] = 0\n",
    "            else:\n",
    "                nums[i] = 1\n",
    "                \n",
    "        # Then doing exactly the same thing as subarray sum equal k problem\n",
    "                \n",
    "    currsum = 0\n",
    "    subarray = 0\n",
    "    hashmap = {}\n",
    "    \n",
    "    for num in nums:\n",
    "        print(\"odd/even\",num)\n",
    "        currsum += num\n",
    "        print(\"number of odd\",currsum)\n",
    "        \n",
    "        if currsum == k:\n",
    "            subarray += 1\n",
    "            print(\"odd=k\",subarray)\n",
    "        \n",
    "        if currsum - k in hashmap:\n",
    "            print(hashmap[currsum - k])\n",
    "            subarray += hashmap[currsum - k]\n",
    "            print(subarray)\n",
    "        \n",
    "        if currsum in hashmap:\n",
    "            hashmap[currsum] += 1\n",
    "        \n",
    "        else:\n",
    "            hashmap[currsum] = 1\n",
    "        \n",
    "        print(hashmap)\n",
    "        print(\"==========\")\n",
    "    \n",
    "    return subarray\n",
    "\n",
    "sol(nums,k)"
   ]
  },
  {
   "cell_type": "code",
   "execution_count": 41,
   "metadata": {},
   "outputs": [
    {
     "data": {
      "text/plain": [
       "16"
      ]
     },
     "execution_count": 41,
     "metadata": {},
     "output_type": "execute_result"
    }
   ],
   "source": [
    "nums = [2,2,2,1,2,2,1,2,2,2]\n",
    "k = 2\n",
    "def sol(nums,k):\n",
    "    for i in range(len(nums)):\n",
    "        if(nums[i]%2==0):\n",
    "            nums[i]=0\n",
    "        else:\n",
    "            nums[i]=1\n",
    "\n",
    "    dict={}\n",
    "    odd_count=0\n",
    "    nice_array=0\n",
    "    for i in nums:\n",
    "        odd_count+=i\n",
    "\n",
    "        if(odd_count == k):\n",
    "            nice_array+=1\n",
    "        if(odd_count-k in dict):\n",
    "            nice_array+=dict[odd_count-k]\n",
    "        if(odd_count in dict):\n",
    "            dict[odd_count]+=1\n",
    "        else:\n",
    "            dict[odd_count]=1\n",
    "\n",
    "    return nice_array\n",
    "\n",
    "\n",
    "sol(nums,k)\n",
    "\n"
   ]
  },
  {
   "cell_type": "code",
   "execution_count": null,
   "metadata": {},
   "outputs": [],
   "source": []
  }
 ],
 "metadata": {
  "interpreter": {
   "hash": "aee8b7b246df8f9039afb4144a1f6fd8d2ca17a180786b69acc140d282b71a49"
  },
  "kernelspec": {
   "display_name": "Python 3.9.7 64-bit",
   "language": "python",
   "name": "python3"
  },
  "language_info": {
   "codemirror_mode": {
    "name": "ipython",
    "version": 3
   },
   "file_extension": ".py",
   "mimetype": "text/x-python",
   "name": "python",
   "nbconvert_exporter": "python",
   "pygments_lexer": "ipython3",
   "version": "3.9.7"
  },
  "orig_nbformat": 4
 },
 "nbformat": 4,
 "nbformat_minor": 2
}
