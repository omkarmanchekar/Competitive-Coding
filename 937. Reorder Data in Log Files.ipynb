{
 "cells": [
  {
   "cell_type": "code",
   "execution_count": 129,
   "metadata": {},
   "outputs": [
    {
     "data": {
      "text/plain": [
       "['let1 art can',\n",
       " 'let3 art zero',\n",
       " 'let2 own kit dig',\n",
       " 'dig1 8 1 5 1',\n",
       " 'dig2 3 6']"
      ]
     },
     "execution_count": 129,
     "metadata": {},
     "output_type": "execute_result"
    }
   ],
   "source": [
    "logs = [\"dig1 8 1 5 1\",\"let1 art can\",\"dig2 3 6\",\"let2 own kit dig\",\"let3 art zero\"]\n",
    "\n",
    "def getkeys(log):\n",
    "    identifier,remaining= log.split(\" \",maxsplit=1)\n",
    "    # return (0 if log.split(\" \",maxsplit=1)[1].replace(\" \",'').isalpha() else 1, log.split(\" \",maxsplit=1)[1],log.split(\" \",maxsplit=1)[0])\n",
    "    return (0, remaining,identifier) if remaining.replace(\" \",'').isalpha() else (1, )\n",
    "\n",
    "sorted(logs,key=getkeys)\n"
   ]
  },
  {
   "cell_type": "code",
   "execution_count": 128,
   "metadata": {},
   "outputs": [
    {
     "data": {
      "text/plain": [
       "['let1 art can',\n",
       " 'let3 art zero',\n",
       " 'let2 own kit dig',\n",
       " 'dig2 3 6',\n",
       " 'dig1 8 1 5 1']"
      ]
     },
     "execution_count": 128,
     "metadata": {},
     "output_type": "execute_result"
    }
   ],
   "source": [
    "logs = [\"let1 art can\",\"dig2 3 6\",\"let2 own kit dig\",\"let3 art zero\",\"dig1 8 1 5 1\"]\n",
    "\n",
    "\n",
    "def get_key(log):\n",
    "# for log in logs:\n",
    "    _id, rest = log.split(\" \", maxsplit=1)\n",
    "    return (0, rest, _id) if rest[0].isalpha() else (1, )\n",
    "\n",
    "sorted(logs, key=get_key)"
   ]
  },
  {
   "cell_type": "code",
   "execution_count": null,
   "metadata": {},
   "outputs": [],
   "source": []
  }
 ],
 "metadata": {
  "interpreter": {
   "hash": "aee8b7b246df8f9039afb4144a1f6fd8d2ca17a180786b69acc140d282b71a49"
  },
  "kernelspec": {
   "display_name": "Python 3.9.7 64-bit",
   "language": "python",
   "name": "python3"
  },
  "language_info": {
   "name": "python",
   "version": "3.9.7"
  },
  "orig_nbformat": 4
 },
 "nbformat": 4,
 "nbformat_minor": 2
}
