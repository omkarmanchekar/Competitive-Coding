{
 "cells": [
  {
   "cell_type": "code",
   "execution_count": null,
   "metadata": {},
   "outputs": [],
   "source": [
    "# O(N) \n",
    "# approach len(set(a))= len(set(b)) \n",
    "# hash map with each oyher \n",
    "\n",
    "\n",
    "def isIsomorphic(self, s: str, t: str) -> bool:\n",
    "    hash={}\n",
    "    if(len(set(s))!=len(set(t))):\n",
    "        return False\n",
    "    for i in range(len(s)):\n",
    "        if(s[i] in hash):\n",
    "            if(hash[s[i]] != t[i] ):\n",
    "                return False\n",
    "        else:\n",
    "            hash[s[i]] = t[i]\n",
    "    return True\n",
    "\n"
   ]
  }
 ],
 "metadata": {
  "language_info": {
   "name": "python"
  },
  "orig_nbformat": 4
 },
 "nbformat": 4,
 "nbformat_minor": 2
}
