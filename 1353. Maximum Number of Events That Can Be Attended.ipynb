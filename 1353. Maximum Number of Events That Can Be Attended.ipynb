{
 "cells": [
  {
   "cell_type": "code",
   "execution_count": 15,
   "metadata": {},
   "outputs": [
    {
     "data": {
      "text/plain": [
       "5"
      ]
     },
     "execution_count": 15,
     "metadata": {},
     "output_type": "execute_result"
    }
   ],
   "source": [
    "import heapq\n",
    "events= [[1,7],[2,3],[1,2],[3,4],[1,2]]\n",
    "\n",
    "\n",
    "def sol(events):\n",
    "    events=sorted(events,key=lambda x : x[0])\n",
    "    last_end_day=max(j for i,j in events)\n",
    "    event_attended=0\n",
    "    ending=[]\n",
    "    counter=0\n",
    "    heapq.heapify(ending)\n",
    "    for current_day in range(1,last_end_day+1):\n",
    "        while(counter < len(events) and events[counter][0] == current_day):\n",
    "            heapq.heappush(ending,events[counter][1])\n",
    "            counter+=1\n",
    "        while(ending and ending[0] <current_day):\n",
    "            heapq.heappop(ending)\n",
    "        if ending:\n",
    "            heapq.heappop(ending)\n",
    "            event_attended+=1\n",
    "\n",
    "    return event_attended\n",
    "\n",
    "\n",
    "\n",
    "\n",
    "\n",
    "\n",
    "sol(events)"
   ]
  },
  {
   "cell_type": "code",
   "execution_count": null,
   "metadata": {},
   "outputs": [],
   "source": []
  }
 ],
 "metadata": {
  "interpreter": {
   "hash": "aee8b7b246df8f9039afb4144a1f6fd8d2ca17a180786b69acc140d282b71a49"
  },
  "kernelspec": {
   "display_name": "Python 3.9.7 64-bit",
   "language": "python",
   "name": "python3"
  },
  "language_info": {
   "codemirror_mode": {
    "name": "ipython",
    "version": 3
   },
   "file_extension": ".py",
   "mimetype": "text/x-python",
   "name": "python",
   "nbconvert_exporter": "python",
   "pygments_lexer": "ipython3",
   "version": "3.9.7"
  },
  "orig_nbformat": 4
 },
 "nbformat": 4,
 "nbformat_minor": 2
}
