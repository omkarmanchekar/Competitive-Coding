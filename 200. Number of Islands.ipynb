{
 "cells": [
  {
   "cell_type": "code",
   "execution_count": 22,
   "metadata": {},
   "outputs": [
    {
     "data": {
      "text/plain": [
       "1"
      ]
     },
     "execution_count": 22,
     "metadata": {},
     "output_type": "execute_result"
    }
   ],
   "source": [
    "grid = [\n",
    "  [\"1\",\"1\",\"1\",\"1\",\"0\"],\n",
    "  [\"1\",\"1\",\"0\",\"1\",\"0\"],\n",
    "  [\"1\",\"1\",\"0\",\"0\",\"0\"],\n",
    "  [\"0\",\"0\",\"0\",\"0\",\"0\"]\n",
    "]\n",
    "\n",
    "\n",
    "def sol(grid):\n",
    "    count=0\n",
    "    for i in range(len(grid)):\n",
    "        for j in range(len(grid[0])):\n",
    "            if(grid[i][j] == '1'):\n",
    "                j=track(i,j,grid)\n",
    "                count+=j\n",
    "        \n",
    "    return count\n",
    "                \n",
    "\n",
    "\n",
    "def track(i,j,grid):\n",
    "    grid[i][j]= '#'\n",
    "    for row,col in [(0,1),(1,0),(0,-1),(-1,0)]:\n",
    "        if(i+row>=0 and j+col>=0 and i+row<len(grid) and j+col < len(grid[0]) and grid[i+row][j+col] == \"1\"):\n",
    "            track(i+row,j+col,grid)\n",
    "\n",
    "    return 1\n",
    "\n",
    "\n",
    "\n",
    "\n",
    "sol(grid)"
   ]
  },
  {
   "cell_type": "code",
   "execution_count": null,
   "metadata": {},
   "outputs": [],
   "source": []
  }
 ],
 "metadata": {
  "interpreter": {
   "hash": "aee8b7b246df8f9039afb4144a1f6fd8d2ca17a180786b69acc140d282b71a49"
  },
  "kernelspec": {
   "display_name": "Python 3.9.7 64-bit",
   "language": "python",
   "name": "python3"
  },
  "language_info": {
   "codemirror_mode": {
    "name": "ipython",
    "version": 3
   },
   "file_extension": ".py",
   "mimetype": "text/x-python",
   "name": "python",
   "nbconvert_exporter": "python",
   "pygments_lexer": "ipython3",
   "version": "3.9.7"
  },
  "orig_nbformat": 4
 },
 "nbformat": 4,
 "nbformat_minor": 2
}
