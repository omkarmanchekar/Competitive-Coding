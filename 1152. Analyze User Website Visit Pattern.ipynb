{
 "cells": [
  {
   "cell_type": "code",
   "execution_count": 138,
   "metadata": {},
   "outputs": [
    {
     "name": "stdout",
     "output_type": "stream",
     "text": [
      "defaultdict(<class 'list'>, {'joe': [('home', 1), ('about', 2), ('career', 3)], 'james': [('home', 4), ('cart', 5), ('maps', 6), ('home', 7)], 'mary': [('home', 8), ('about', 9), ('career', 10)]})\n",
      "defaultdict(<class 'dict'>, {('home', 'about', 'career'): {'joe': 1, 'mary': 1}, ('home', 'cart', 'maps'): {'james': 1}, ('home', 'cart', 'home'): {'james': 1}, ('home', 'maps', 'home'): {'james': 1}, ('cart', 'maps', 'home'): {'james': 1}})\n",
      "2\n",
      "['home', 'about', 'career']\n"
     ]
    }
   ],
   "source": [
    "from collections import defaultdict\n",
    "from collections import Counter\n",
    "import itertools\n",
    "\n",
    "username = [\"joe\",\"joe\",\"joe\",\"james\",\"james\",\"james\",\"james\",\"mary\",\"mary\",\"mary\"]\n",
    "timestamp = [1,2,3,4,5,6,7,8,9,10]\n",
    "website = [\"home\",\"about\",\"career\",\"home\",\"cart\",\"maps\",\"home\",\"home\",\"about\",\"career\"]\n",
    "\n",
    "\n",
    "def sol(username,timestamp,website):\n",
    "    dic=defaultdict(list)\n",
    "    res=defaultdict(dict)\n",
    "    for user,time,web in zip(username,timestamp,website):\n",
    "        dic[user].append((web,time))\n",
    "\n",
    "    print(dic)\n",
    "\n",
    "    for i in dic:\n",
    "        if(dic[i] and len(dic[i])>=3):\n",
    "            dic[i].sort(key=lambda x:x[1])\n",
    "    \n",
    "    # print([place for place, t in dic[user]])\n",
    "        for j in itertools.combinations([web for web,time in dic[i]],3):\n",
    "            # print()\n",
    "            # print(i,j)\n",
    "            res[j][i]=1\n",
    "    print(res)\n",
    "    mostfreq= max(len(res[key]) for key in res)\n",
    "    print(mostfreq)\n",
    "    for key in res:\n",
    "        if(len(res[key]) == mostfreq):\n",
    "            print(list(key))\n",
    "sol(username,timestamp,website)"
   ]
  },
  {
   "cell_type": "code",
   "execution_count": 154,
   "metadata": {},
   "outputs": [
    {
     "name": "stdout",
     "output_type": "stream",
     "text": [
      "james 4 home\n",
      "james 5 cart\n",
      "james 6 home\n",
      "james 7 maps\n",
      "joe 1 home\n",
      "joe 2 about\n",
      "joe 3 career\n",
      "mary 8 home\n",
      "mary 9 about\n",
      "mary 10 career\n",
      "defaultdict(<class 'list'>, {'james': ['home', 'cart', 'home', 'maps'], 'joe': ['home', 'about', 'career'], 'mary': ['home', 'about', 'career']})\n",
      "Counter({('home', 'cart', 'maps'): 1, ('home', 'cart', 'home'): 1, ('home', 'home', 'maps'): 1, ('cart', 'home', 'maps'): 1})\n",
      "Counter({('home', 'about', 'career'): 1})\n",
      "Counter({('home', 'about', 'career'): 1})\n",
      "Counter()\n"
     ]
    }
   ],
   "source": [
    "from collections import defaultdict\n",
    "from collections import Counter\n",
    "import itertools\n",
    "\n",
    "username = [\"joe\",\"joe\",\"joe\",\"james\",\"james\",\"james\",\"james\",\"mary\",\"mary\",\"mary\"]\n",
    "timestamp = [1,2,3,4,5,7,6,8,9,10]\n",
    "website = [\"home\",\"about\",\"career\",\"home\",\"cart\",\"maps\",\"home\",\"home\",\"about\",\"career\"]\n",
    "\n",
    "\n",
    "def sol(username,timestamp,website):\n",
    "    dic=defaultdict(list)\n",
    "    res=defaultdict(dict)\n",
    "    for user,time,web in sorted(zip(username,timestamp,website)):\n",
    "        print(user,time,web)\n",
    "        dic[user].append(web)\n",
    "\n",
    "    print(dic)\n",
    "    patterns = Counter()  \t\n",
    "    for user, sites in dic.items():\n",
    "        print(Counter(set(itertools.combinations(sites, 3))))\n",
    "\n",
    "    print(patterns)\n",
    "\n",
    "    \n",
    "sol(username,timestamp,website)"
   ]
  },
  {
   "cell_type": "code",
   "execution_count": 157,
   "metadata": {},
   "outputs": [
    {
     "name": "stdout",
     "output_type": "stream",
     "text": [
      "3.4641016151377544\n"
     ]
    },
    {
     "data": {
      "text/plain": [
       "3"
      ]
     },
     "execution_count": 157,
     "metadata": {},
     "output_type": "execute_result"
    }
   ],
   "source": [
    "print(12**0.5)\n",
    "int(12**0.5)\n"
   ]
  },
  {
   "cell_type": "code",
   "execution_count": null,
   "metadata": {},
   "outputs": [],
   "source": []
  }
 ],
 "metadata": {
  "interpreter": {
   "hash": "aee8b7b246df8f9039afb4144a1f6fd8d2ca17a180786b69acc140d282b71a49"
  },
  "kernelspec": {
   "display_name": "Python 3.9.7 64-bit",
   "language": "python",
   "name": "python3"
  },
  "language_info": {
   "codemirror_mode": {
    "name": "ipython",
    "version": 3
   },
   "file_extension": ".py",
   "mimetype": "text/x-python",
   "name": "python",
   "nbconvert_exporter": "python",
   "pygments_lexer": "ipython3",
   "version": "3.9.7"
  },
  "orig_nbformat": 4
 },
 "nbformat": 4,
 "nbformat_minor": 2
}
