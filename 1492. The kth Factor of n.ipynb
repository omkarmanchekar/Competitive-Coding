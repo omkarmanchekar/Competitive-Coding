{
 "cells": [
  {
   "cell_type": "code",
   "execution_count": 18,
   "metadata": {},
   "outputs": [
    {
     "data": {
      "text/plain": [
       "-1"
      ]
     },
     "execution_count": 18,
     "metadata": {},
     "output_type": "execute_result"
    }
   ],
   "source": [
    "n = 4\n",
    "k =4\n",
    "\n",
    "def sol(n,k):\n",
    "    divisor=[]\n",
    "    \n",
    "    for i in range(1,int(n**0.5)+1):\n",
    "        if(n%i == 0):\n",
    "            divisor.append(i)\n",
    "            k-=1\n",
    "            if(k==0):\n",
    "                return i\n",
    "\n",
    "    if(int(n**0.5)*int(n**0.5) == n):\n",
    "        k+=1\n",
    "\n",
    "    if(k<=len(divisor)):\n",
    "        print(divisor,len(divisor)-k)\n",
    "        return n//divisor[len(divisor)-k]\n",
    "    else:\n",
    "        return -1\n",
    "\n",
    "    # print(divisor,k)\n",
    "\n",
    "\n",
    "sol(n,k)"
   ]
  },
  {
   "cell_type": "code",
   "execution_count": 22,
   "metadata": {},
   "outputs": [
    {
     "name": "stdout",
     "output_type": "stream",
     "text": [
      "[(3,), (1,), (2,), (4,)]\n",
      "[(3, 1), (3, 2), (3, 4), (1, 2), (1, 4), (2, 4)]\n",
      "[(3, 1, 2), (3, 1, 4), (3, 2, 4), (1, 2, 4)]\n"
     ]
    }
   ],
   "source": []
  },
  {
   "cell_type": "code",
   "execution_count": null,
   "metadata": {},
   "outputs": [],
   "source": []
  }
 ],
 "metadata": {
  "language_info": {
   "name": "python"
  },
  "orig_nbformat": 4
 },
 "nbformat": 4,
 "nbformat_minor": 2
}
