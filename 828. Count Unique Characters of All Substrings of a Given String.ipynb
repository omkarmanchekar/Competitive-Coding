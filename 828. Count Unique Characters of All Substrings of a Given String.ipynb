{
 "cells": [
  {
   "cell_type": "code",
   "execution_count": 11,
   "metadata": {},
   "outputs": [
    {
     "data": {
      "text/plain": [
       "92"
      ]
     },
     "execution_count": 11,
     "metadata": {},
     "output_type": "execute_result"
    }
   ],
   "source": [
    "from collections import Counter\n",
    "s = \"LEETCODE\"\n",
    "\n",
    "def uniquechar(s):\n",
    "    count=0\n",
    "    s=Counter(s)\n",
    "    for i in s:\n",
    "        if(s[i] == 1):\n",
    "            count+=1\n",
    "\n",
    "    return count\n",
    "\n",
    "def sol(s):\n",
    "    output=0\n",
    "    for i in range(len(s)):\n",
    "        for j in range(i,len(s)):\n",
    "            result=uniquechar(s[i:j+1])\n",
    "            # print(s[i:j+1],result)\n",
    "\n",
    "            output+=result\n",
    "\n",
    "    return output\n",
    "\n",
    "\n",
    "\n",
    "sol(s)"
   ]
  },
  {
   "cell_type": "code",
   "execution_count": 13,
   "metadata": {},
   "outputs": [
    {
     "data": {
      "text/plain": [
       "Counter({'a': 2,\n",
       "         'b': 2,\n",
       "         'c': 1,\n",
       "         'g': 1,\n",
       "         'h': 1,\n",
       "         'd': 1,\n",
       "         'i': 1,\n",
       "         'e': 1,\n",
       "         'f': 1,\n",
       "         'j': 1,\n",
       "         'o': 1})"
      ]
     },
     "execution_count": 13,
     "metadata": {},
     "output_type": "execute_result"
    }
   ],
   "source": [
    "import collections\n",
    "\n",
    "s='abcghdiefjoba'\n",
    "s=collections.Counter(s)\n",
    "\n",
    "s\n"
   ]
  },
  {
   "cell_type": "code",
   "execution_count": null,
   "metadata": {},
   "outputs": [],
   "source": []
  }
 ],
 "metadata": {
  "interpreter": {
   "hash": "aee8b7b246df8f9039afb4144a1f6fd8d2ca17a180786b69acc140d282b71a49"
  },
  "kernelspec": {
   "display_name": "Python 3.9.7 64-bit",
   "language": "python",
   "name": "python3"
  },
  "language_info": {
   "codemirror_mode": {
    "name": "ipython",
    "version": 3
   },
   "file_extension": ".py",
   "mimetype": "text/x-python",
   "name": "python",
   "nbconvert_exporter": "python",
   "pygments_lexer": "ipython3",
   "version": "3.9.7"
  },
  "orig_nbformat": 4
 },
 "nbformat": 4,
 "nbformat_minor": 2
}
