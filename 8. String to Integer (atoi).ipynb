{
 "cells": [
  {
   "cell_type": "code",
   "execution_count": 90,
   "metadata": {},
   "outputs": [
    {
     "data": {
      "text/plain": [
       "0"
      ]
     },
     "execution_count": 90,
     "metadata": {},
     "output_type": "execute_result"
    }
   ],
   "source": [
    "s = \" \"\n",
    "\n",
    "\n",
    "def atoi(s):\n",
    "    s=s.lstrip()\n",
    "    if s == \" \" or len(s) <=0:\n",
    "        return 0\n",
    "    flag=1\n",
    "    number = 0\n",
    "    counter = 0\n",
    "\n",
    "    if(len(s)>1 and s[0] == '-'):\n",
    "        flag=0\n",
    "        counter +=1\n",
    "    if(len(s)==1 and (s[0] == '-' or s[0] =='+')):\n",
    "        return 0\n",
    "    if(len(s)>1 and s[0] == \"+\"):\n",
    "        counter +=1\n",
    "    \n",
    "\n",
    "\n",
    "    if(ord('0') <= ord(s[counter]) <=ord('9')):\n",
    "        for i in range(counter,len(s)):\n",
    "                if(ord('0') <= ord(s[i]) <=ord('9')):\n",
    "                    number=number*10+(ord(s[i])-ord('0'))\n",
    "                else:\n",
    "                    break\n",
    "                \n",
    "        if(flag==0):\n",
    "            number = (-number)\n",
    "        if(number < -2**31):\n",
    "            number = -2**31\n",
    "        if(number > (2**31)-1):\n",
    "        \n",
    "            number = (2**31)-1\n",
    "\n",
    "\n",
    "    else:\n",
    "        number=0\n",
    "\n",
    "\n",
    "    return number\n",
    "\n",
    "atoi(s)\n",
    "\n",
    "\n",
    "\n",
    "    "
   ]
  },
  {
   "cell_type": "code",
   "execution_count": 21,
   "metadata": {},
   "outputs": [
    {
     "data": {
      "text/plain": [
       "'4193 with word'"
      ]
     },
     "execution_count": 21,
     "metadata": {},
     "output_type": "execute_result"
    }
   ],
   "source": [
    "s=\"  -4193 with words\"\n",
    "\n",
    "def sol(s):\n",
    "    s=s.strip()\n",
    "    isneg=False\n",
    "    counter=0\n",
    "    number='0'\n",
    "\n",
    "    if(s[0]==\"-\"):\n",
    "        isneg=True\n",
    "        counter+=1\n",
    "    if(s[0]==\"+\"):\n",
    "        counter+=1\n",
    "\n",
    "    if(s[counter].isdigit()):\n",
    "        for i in range(counter,len(s)):\n",
    "            if(s[i].isdigit() == False):\n",
    "                number = s[counter:i]\n",
    "    else:\n",
    "        number= 0\n",
    "    \n",
    "    return number\n",
    "\n",
    "\n",
    "sol(s)\n",
    "\n",
    "    \n",
    "    \n",
    "\n"
   ]
  },
  {
   "cell_type": "code",
   "execution_count": 22,
   "metadata": {},
   "outputs": [],
   "source": [
    "import sys\n",
    "# import numpy as np\n",
    "# import pandas as pd\n",
    "# from sklearn import ...\n",
    "\n",
    "for line in sys.stdin:\n",
    "    print(line, end=\"\")"
   ]
  },
  {
   "cell_type": "code",
   "execution_count": null,
   "metadata": {},
   "outputs": [],
   "source": []
  }
 ],
 "metadata": {
  "interpreter": {
   "hash": "aee8b7b246df8f9039afb4144a1f6fd8d2ca17a180786b69acc140d282b71a49"
  },
  "kernelspec": {
   "display_name": "Python 3.9.7 64-bit",
   "language": "python",
   "name": "python3"
  },
  "language_info": {
   "codemirror_mode": {
    "name": "ipython",
    "version": 3
   },
   "file_extension": ".py",
   "mimetype": "text/x-python",
   "name": "python",
   "nbconvert_exporter": "python",
   "pygments_lexer": "ipython3",
   "version": "3.9.7"
  },
  "orig_nbformat": 4
 },
 "nbformat": 4,
 "nbformat_minor": 2
}
