{
 "cells": [
  {
   "cell_type": "code",
   "execution_count": 15,
   "metadata": {},
   "outputs": [
    {
     "data": {
      "text/plain": [
       "'001223'"
      ]
     },
     "execution_count": 15,
     "metadata": {},
     "output_type": "execute_result"
    }
   ],
   "source": [
    "\"\"\"\n",
    "0=zero (z)\n",
    "1=one \n",
    "2=two (w)\n",
    "3=three\n",
    "4=four (u)\n",
    "5=five\n",
    "6=six (x)\n",
    "7=seven\n",
    "8=eight (g)\n",
    "9=nine\n",
    "\n",
    "\"\"\"\n",
    "\n",
    "from collections import Counter\n",
    "\n",
    "def sol(s):\n",
    "    given=Counter(s)\n",
    "    freq={}\n",
    "    freq[\"0\"]=given[\"z\"]\n",
    "    freq[\"2\"]=given[\"w\"]\n",
    "    freq[\"4\"]=given[\"u\"]\n",
    "    freq[\"6\"]=given[\"x\"]\n",
    "    freq[\"8\"]=given[\"g\"]\n",
    "    freq[\"3\"]=given[\"h\"]-freq[\"8\"]\n",
    "    freq[\"7\"]=given[\"s\"]-freq[\"6\"]\n",
    "    freq[\"5\"]=given[\"f\"]-freq[\"4\"]\n",
    "    freq[\"1\"]=given[\"o\"]-freq[\"0\"]-freq[\"2\"]-freq[\"4\"]\n",
    "    freq[\"9\"]=given[\"i\"]-freq[\"8\"]-freq[\"6\"]-freq[\"5\"]\n",
    "\n",
    "\n",
    "    \n",
    "    output=[i*freq[i] for i in sorted(freq.keys())]\n",
    "    return \"\".join(output)\n",
    "\n",
    "\n",
    "\n",
    "\n",
    "sol(\"owoztthreenezerooertwo\")\n",
    "\n"
   ]
  },
  {
   "cell_type": "code",
   "execution_count": null,
   "metadata": {},
   "outputs": [],
   "source": []
  }
 ],
 "metadata": {
  "interpreter": {
   "hash": "aee8b7b246df8f9039afb4144a1f6fd8d2ca17a180786b69acc140d282b71a49"
  },
  "kernelspec": {
   "display_name": "Python 3.9.7 64-bit",
   "language": "python",
   "name": "python3"
  },
  "language_info": {
   "codemirror_mode": {
    "name": "ipython",
    "version": 3
   },
   "file_extension": ".py",
   "mimetype": "text/x-python",
   "name": "python",
   "nbconvert_exporter": "python",
   "pygments_lexer": "ipython3",
   "version": "3.9.7"
  },
  "orig_nbformat": 4
 },
 "nbformat": 4,
 "nbformat_minor": 2
}
