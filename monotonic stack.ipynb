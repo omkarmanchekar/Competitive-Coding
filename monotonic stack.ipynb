{
 "cells": [
  {
   "cell_type": "code",
   "execution_count": 46,
   "metadata": {},
   "outputs": [
    {
     "data": {
      "text/plain": [
       "[6, 7, 5, 7, 7, 7, -1, -1]"
      ]
     },
     "execution_count": 46,
     "metadata": {},
     "output_type": "execute_result"
    }
   ],
   "source": [
    "from collections import deque\n",
    "from collections import defaultdict\n",
    "\n",
    "arr=[2,6,4,5,1,0,7,3]\n",
    "\n",
    "\n",
    "def sol(arr):\n",
    "    monostack=[]\n",
    "    m=[-1]*len(arr)\n",
    "    for i,v in enumerate(arr):\n",
    "        while(monostack and monostack[-1][0] < v):\n",
    "            m[monostack[-1][1]] = v\n",
    "            monostack.pop()\n",
    "        monostack.append((v,i))\n",
    "\n",
    "    return m\n",
    "\n",
    "sol(arr)"
   ]
  },
  {
   "cell_type": "code",
   "execution_count": null,
   "metadata": {},
   "outputs": [],
   "source": [
    "# time complexity is O(N) and not O(N^2) as each arr elemets goes once in stack is only poped once from  the stack \n"
   ]
  },
  {
   "cell_type": "code",
   "execution_count": 54,
   "metadata": {},
   "outputs": [
    {
     "data": {
      "text/plain": [
       "[1, 1, 4, 2, 1, 1, 0, 0]"
      ]
     },
     "execution_count": 54,
     "metadata": {},
     "output_type": "execute_result"
    }
   ],
   "source": [
    "#  rough code\n",
    "\n",
    "temperatures = [73,74,75,71,69,72,76,73]\n",
    "\n",
    "def sol(temp):\n",
    "    res=[0]*len(temp)\n",
    "    monostack=[]\n",
    "    for i,v in enumerate(temp):\n",
    "        while(monostack and v > monostack[-1][1]):\n",
    "            res[monostack[-1][0]] = i-monostack[-1][0]\n",
    "            monostack.pop()\n",
    "        monostack.append((i,v))\n",
    "\n",
    "    return res\n",
    "sol(temperatures)\n"
   ]
  },
  {
   "cell_type": "code",
   "execution_count": null,
   "metadata": {},
   "outputs": [],
   "source": []
  }
 ],
 "metadata": {
  "interpreter": {
   "hash": "aee8b7b246df8f9039afb4144a1f6fd8d2ca17a180786b69acc140d282b71a49"
  },
  "kernelspec": {
   "display_name": "Python 3.9.7 64-bit",
   "language": "python",
   "name": "python3"
  },
  "language_info": {
   "codemirror_mode": {
    "name": "ipython",
    "version": 3
   },
   "file_extension": ".py",
   "mimetype": "text/x-python",
   "name": "python",
   "nbconvert_exporter": "python",
   "pygments_lexer": "ipython3",
   "version": "3.9.7"
  },
  "orig_nbformat": 4
 },
 "nbformat": 4,
 "nbformat_minor": 2
}
