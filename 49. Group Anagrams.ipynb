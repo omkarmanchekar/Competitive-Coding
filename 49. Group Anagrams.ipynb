{
 "cells": [
  {
   "cell_type": "code",
   "execution_count": 19,
   "metadata": {},
   "outputs": [
    {
     "data": {
      "text/plain": [
       "defaultdict(list,\n",
       "            {('a', 'e', 't'): ['eat', 'tea', 'ate'],\n",
       "             ('a', 'n', 't'): ['tan', 'nat'],\n",
       "             ('a', 'b', 't'): ['bat']})"
      ]
     },
     "execution_count": 19,
     "metadata": {},
     "output_type": "execute_result"
    }
   ],
   "source": [
    "import collections\n",
    "strs = [\"eat\",\"tea\",\"tan\",\"ate\",\"nat\",\"bat\"]\n",
    "\n",
    "def anagrams(strs):\n",
    "    hash=collections.defaultdict(list)\n",
    "    for i in strs:\n",
    "        # if(tuple(sorted(i)) in hash):\n",
    "        hash[tuple(sorted(i))].append(i)\n",
    "        # hash[tuple(sorted(i))]=[i]\n",
    "        \n",
    "    return hash\n",
    "\n",
    "anagrams(strs)"
   ]
  },
  {
   "cell_type": "code",
   "execution_count": 37,
   "metadata": {},
   "outputs": [
    {
     "data": {
      "text/plain": [
       "dict_values([['eat', 'tea', 'ate'], ['tan', 'nat'], ['bat']])"
      ]
     },
     "execution_count": 37,
     "metadata": {},
     "output_type": "execute_result"
    }
   ],
   "source": [
    "import collections\n",
    "strs = [\"eat\",\"tea\",\"tan\",\"ate\",\"nat\",\"bat\"]\n",
    "\n",
    "def ana(strs):\n",
    "    hash=collections.defaultdict(list)\n",
    "    for i in strs:\n",
    "        count=[0]*26\n",
    "        for j in i:\n",
    "            count[ord(j)-ord('a')]+=1\n",
    "        hash[tuple(count)].append(i)\n",
    "    return hash.values()\n",
    "\n",
    "ana(strs)"
   ]
  },
  {
   "cell_type": "code",
   "execution_count": 25,
   "metadata": {},
   "outputs": [
    {
     "data": {
      "text/plain": [
       "[0, 0, 0, 0, 0, 0, 0, 0, 0, 0, 0, 0, 0, 0, 0, 0, 0, 0, 0, 0, 0, 0, 0, 0, 0, 0]"
      ]
     },
     "execution_count": 25,
     "metadata": {},
     "output_type": "execute_result"
    }
   ],
   "source": [
    "count=[0]*26\n",
    "count"
   ]
  },
  {
   "cell_type": "code",
   "execution_count": 41,
   "metadata": {},
   "outputs": [
    {
     "name": "stdout",
     "output_type": "stream",
     "text": [
      "['a', 'e', 't']\n",
      "['a', 'e', 't']\n",
      "['a', 'n', 't']\n",
      "['a', 'e', 't']\n",
      "['a', 'n', 't']\n",
      "['a', 'b', 't']\n",
      "defaultdict(<class 'list'>, {\"['a', 'e', 't']\": ['eat', 'tea', 'ate'], \"['a', 'n', 't']\": ['tan', 'nat'], \"['a', 'b', 't']\": ['bat']})\n",
      "[['eat', 'tea', 'ate'], ['tan', 'nat'], ['bat']]\n"
     ]
    }
   ],
   "source": [
    "anagrams = collections.defaultdict(list)\n",
    "for s in strs:\n",
    "    sorted_s = str(sorted(s))\n",
    "    print(sorted_s)\n",
    "    anagrams[sorted_s].append(s)\n",
    "print(anagrams)\n",
    "res = []\n",
    "for v in anagrams.values():\n",
    "    res.append(v)\n",
    "print(res)"
   ]
  },
  {
   "cell_type": "code",
   "execution_count": 45,
   "metadata": {},
   "outputs": [
    {
     "name": "stdout",
     "output_type": "stream",
     "text": [
      "aet\n",
      "aet\n",
      "ant\n",
      "aet\n",
      "ant\n",
      "abt\n"
     ]
    },
    {
     "data": {
      "text/plain": [
       "{'aet': ['eat', 'tea', 'ate'], 'ant': ['tan', 'nat'], 'abt': ['bat']}"
      ]
     },
     "execution_count": 45,
     "metadata": {},
     "output_type": "execute_result"
    }
   ],
   "source": [
    "dic = {}\n",
    "        \n",
    "for item in strs:\n",
    "    \n",
    "    s = \"\".join(sorted(item))\n",
    "    print(s)\n",
    "    if s not in dic:\n",
    "        dic[s] = [item]\n",
    "    \n",
    "    else:\n",
    "        \n",
    "        dic[s].append(item)\n",
    "\n",
    "dic\n",
    "    "
   ]
  },
  {
   "cell_type": "code",
   "execution_count": null,
   "metadata": {},
   "outputs": [],
   "source": []
  }
 ],
 "metadata": {
  "interpreter": {
   "hash": "aee8b7b246df8f9039afb4144a1f6fd8d2ca17a180786b69acc140d282b71a49"
  },
  "kernelspec": {
   "display_name": "Python 3.9.7 64-bit",
   "language": "python",
   "name": "python3"
  },
  "language_info": {
   "codemirror_mode": {
    "name": "ipython",
    "version": 3
   },
   "file_extension": ".py",
   "mimetype": "text/x-python",
   "name": "python",
   "nbconvert_exporter": "python",
   "pygments_lexer": "ipython3",
   "version": "3.9.7"
  },
  "orig_nbformat": 4
 },
 "nbformat": 4,
 "nbformat_minor": 2
}
