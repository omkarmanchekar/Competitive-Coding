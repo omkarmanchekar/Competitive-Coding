{
 "cells": [
  {
   "cell_type": "code",
   "execution_count": 110,
   "metadata": {},
   "outputs": [
    {
     "name": "stdout",
     "output_type": "stream",
     "text": [
      "[1, 2, 1, 3]\n",
      "[2, 1, 3]\n",
      "[1, 3, 4]\n"
     ]
    },
    {
     "data": {
      "text/plain": [
       "3"
      ]
     },
     "execution_count": 110,
     "metadata": {},
     "output_type": "execute_result"
    }
   ],
   "source": [
    "from collections import defaultdict\n",
    "nums = [1,2,1,3,4]\n",
    "k = 3\n",
    "\n",
    "\n",
    "def sol(nums,k):\n",
    "\n",
    "    track =defaultdict(int)\n",
    "    left,right =0,0\n",
    "    count=0\n",
    "    while right< len(nums):\n",
    "\n",
    "        if(len(track) < k):\n",
    "            track[nums[right]]+=1\n",
    "            right+=1\n",
    "            # print(\"1\",track.items())\n",
    "        else:\n",
    "            if(nums[right] in track):\n",
    "                track[nums[right]]+=1\n",
    "                right+=1\n",
    "                # print('2',track.items())\n",
    "                \n",
    "            else:\n",
    "                if(track[nums[left]] > 1):\n",
    "                    track[nums[left]]-=1\n",
    "                    left+=1\n",
    "                else:\n",
    "                    track.pop(nums[left])\n",
    "                    left+=1\n",
    "\n",
    "\n",
    "        if(len(track) >=k ):\n",
    "            print(nums[left:right])\n",
    "            count+=1\n",
    "            # print(\"count\",count)\n",
    "            # print(\"  \")\n",
    "\n",
    "    return count\n",
    "\n",
    "\n",
    "sol(nums,k)\n"
   ]
  },
  {
   "cell_type": "code",
   "execution_count": 99,
   "metadata": {},
   "outputs": [
    {
     "data": {
      "text/plain": [
       "5"
      ]
     },
     "execution_count": 99,
     "metadata": {},
     "output_type": "execute_result"
    }
   ],
   "source": [
    "def atMostK(nums, k):\n",
    "        n = len(nums)\n",
    "        left, right = 0, 0\n",
    "        res = 0\n",
    "        from collections import Counter\n",
    "        counter = Counter()\n",
    "        while right < n:\n",
    "            counter[nums[right]] += 1\n",
    "            while len(counter) > k:\n",
    "                counter[nums[left]] -= 1\n",
    "                if counter[nums[left]] == 0:\n",
    "                    del counter[nums[left]]\n",
    "                left += 1\n",
    "            res += right - left + 1\n",
    "            right += 1\n",
    "            # print(nums[left:right])\n",
    "        return res\n",
    "\n",
    "# atMostK([1,2,1,2,3],2)\n",
    "atMostK([1,2,1,2,3],1)\n",
    "\n"
   ]
  },
  {
   "cell_type": "code",
   "execution_count": 111,
   "metadata": {},
   "outputs": [
    {
     "name": "stdout",
     "output_type": "stream",
     "text": [
      "[1]\n",
      "[1, 2]\n",
      "[2]\n",
      "[1, 2, 1]\n",
      "[2, 1]\n",
      "[1]\n",
      "[1, 2, 1, 2]\n",
      "[2, 1, 2]\n",
      "[1, 2]\n",
      "[2]\n",
      "[1, 2, 1, 2, 3]\n",
      "[2, 1, 2, 3]\n",
      "[1, 2, 3]\n",
      "[2, 3]\n",
      "[3]\n"
     ]
    }
   ],
   "source": [
    "def sol(arr):\n",
    "    for i in range(len(arr)):\n",
    "        for j in range(i+1):\n",
    "            print(arr[j:i+1])\n",
    "\n",
    "sol([1,2,1,2,3])"
   ]
  },
  {
   "cell_type": "code",
   "execution_count": null,
   "metadata": {},
   "outputs": [],
   "source": []
  }
 ],
 "metadata": {
  "language_info": {
   "name": "python"
  },
  "orig_nbformat": 4
 },
 "nbformat": 4,
 "nbformat_minor": 2
}
