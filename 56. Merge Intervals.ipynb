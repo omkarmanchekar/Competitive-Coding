{
 "cells": [
  {
   "cell_type": "code",
   "execution_count": 40,
   "metadata": {},
   "outputs": [
    {
     "name": "stdout",
     "output_type": "stream",
     "text": [
      "[[1, 3], [2, 6], [8, 10], [15, 18]]\n"
     ]
    },
    {
     "data": {
      "text/plain": [
       "[[1, 6], [8, 10], [15, 18]]"
      ]
     },
     "execution_count": 40,
     "metadata": {},
     "output_type": "execute_result"
    }
   ],
   "source": [
    "intervals=[[1,3],[2,6],[8,10],[15,18]]\n",
    "\n",
    "\n",
    "intervals=sorted(intervals)\n",
    "print(intervals)\n",
    "x=[]\n",
    "for i in range(len(intervals)):\n",
    "    if(len(x)==0 or x[-1][1] < intervals[i][0]):\n",
    "        x.append(intervals[i])\n",
    "    else:\n",
    "        x[-1][1]=max(intervals[i][1],x[-1][1])\n",
    "x\n",
    "    \n",
    "\n",
    "    # time complexity is \n",
    "    # sorting O(nlogn) and for is O(n)\n",
    "    # there O(nlogn)\n",
    "\n",
    "    "
   ]
  },
  {
   "cell_type": "code",
   "execution_count": 42,
   "metadata": {},
   "outputs": [
    {
     "data": {
      "text/plain": [
       "[0]"
      ]
     },
     "execution_count": 42,
     "metadata": {},
     "output_type": "execute_result"
    }
   ],
   "source": [
    "list(range(0,2,2))"
   ]
  },
  {
   "cell_type": "code",
   "execution_count": null,
   "metadata": {},
   "outputs": [],
   "source": []
  }
 ],
 "metadata": {
  "interpreter": {
   "hash": "aee8b7b246df8f9039afb4144a1f6fd8d2ca17a180786b69acc140d282b71a49"
  },
  "kernelspec": {
   "display_name": "Python 3.9.7 64-bit",
   "language": "python",
   "name": "python3"
  },
  "language_info": {
   "codemirror_mode": {
    "name": "ipython",
    "version": 3
   },
   "file_extension": ".py",
   "mimetype": "text/x-python",
   "name": "python",
   "nbconvert_exporter": "python",
   "pygments_lexer": "ipython3",
   "version": "3.9.7"
  },
  "orig_nbformat": 4
 },
 "nbformat": 4,
 "nbformat_minor": 2
}
