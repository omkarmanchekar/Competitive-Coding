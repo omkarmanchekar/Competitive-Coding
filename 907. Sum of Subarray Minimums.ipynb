{
 "cells": [
  {
   "cell_type": "markdown",
   "metadata": {},
   "source": [
    "Incomplete didnt undertand \n"
   ]
  },
  {
   "cell_type": "code",
   "execution_count": 4,
   "metadata": {},
   "outputs": [
    {
     "data": {
      "text/plain": [
       "17"
      ]
     },
     "execution_count": 4,
     "metadata": {},
     "output_type": "execute_result"
    }
   ],
   "source": [
    "arr = [3,1,2,4]\n",
    "\n",
    "\n",
    "def sol(arr):\n",
    "    sum=0\n",
    "    for i in range(len(arr)):\n",
    "        for j in range(i+1,len(arr)+1):\n",
    "            sum+=min(arr[i:j])\n",
    "\n",
    "    return sum\n",
    "sol(arr)"
   ]
  },
  {
   "cell_type": "code",
   "execution_count": 17,
   "metadata": {},
   "outputs": [
    {
     "name": "stdout",
     "output_type": "stream",
     "text": [
      "[0, 3, 1, 2, 4, 0]\n",
      "=====\n",
      "0 0\n",
      "stack before  []\n",
      "stack after  [0]\n",
      "=====\n",
      "1 3\n",
      "stack before  [0]\n",
      "stack after  [0, 1]\n",
      "=====\n",
      "2 1\n",
      "stack before  [0, 1]\n",
      "i 2 j 1 k 0\n",
      "stack after  [0, 2]\n",
      "=====\n",
      "3 2\n",
      "stack before  [0, 2]\n",
      "stack after  [0, 2, 3]\n",
      "=====\n",
      "4 4\n",
      "stack before  [0, 2, 3]\n",
      "stack after  [0, 2, 3, 4]\n",
      "=====\n",
      "5 0\n",
      "stack before  [0, 2, 3, 4]\n",
      "i 5 j 4 k 3\n",
      "i 5 j 3 k 2\n",
      "i 5 j 2 k 0\n",
      "stack after  [0, 5]\n"
     ]
    },
    {
     "data": {
      "text/plain": [
       "17"
      ]
     },
     "execution_count": 17,
     "metadata": {},
     "output_type": "execute_result"
    }
   ],
   "source": [
    "def sol(A):\n",
    "    res = 0\n",
    "    s = []\n",
    "    A = [0] + A + [0]\n",
    "    print(A)\n",
    "    for i, x in enumerate(A):\n",
    "        print(\"=====\")\n",
    "        print(i,x)\n",
    "        print(\"stack before \",s)\n",
    "        while s and A[s[-1]] > x:\n",
    "            j = s.pop()\n",
    "            k = s[-1]\n",
    "            print(\"i\",i,\"j\",j,\"k\",k)\n",
    "            res += A[j] * (i - j) * (j - k)\n",
    "        s.append(i)\n",
    "        print(\"stack after \",s)\n",
    "    return res % (10**9 + 7)\n",
    "\n",
    "sol([3,1,2,4])"
   ]
  },
  {
   "cell_type": "code",
   "execution_count": null,
   "metadata": {},
   "outputs": [],
   "source": []
  }
 ],
 "metadata": {
  "interpreter": {
   "hash": "aee8b7b246df8f9039afb4144a1f6fd8d2ca17a180786b69acc140d282b71a49"
  },
  "kernelspec": {
   "display_name": "Python 3.9.7 64-bit",
   "language": "python",
   "name": "python3"
  },
  "language_info": {
   "codemirror_mode": {
    "name": "ipython",
    "version": 3
   },
   "file_extension": ".py",
   "mimetype": "text/x-python",
   "name": "python",
   "nbconvert_exporter": "python",
   "pygments_lexer": "ipython3",
   "version": "3.9.7"
  },
  "orig_nbformat": 4
 },
 "nbformat": 4,
 "nbformat_minor": 2
}
