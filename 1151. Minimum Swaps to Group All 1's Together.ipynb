{
 "cells": [
  {
   "cell_type": "code",
   "execution_count": 16,
   "metadata": {},
   "outputs": [
    {
     "name": "stdout",
     "output_type": "stream",
     "text": [
      "[1, 0, 0, 1] 2\n",
      "[0, 0, 1, 1] 2\n",
      "[0, 1, 1, 1] 3\n"
     ]
    },
    {
     "data": {
      "text/plain": [
       "1"
      ]
     },
     "execution_count": 16,
     "metadata": {},
     "output_type": "execute_result"
    }
   ],
   "source": [
    "def sol(data):\n",
    "    window = sum(data)\n",
    "    result=0\n",
    "    for i in range(len(data)-window+1):\n",
    "        if(i+window <= len(data)):\n",
    "            print(data[i:i+window],sum(data[i:i+window]))\n",
    "            result=max(result,sum(data[i:i+window]))\n",
    "\n",
    "    return window-result\n",
    "\n",
    "\n",
    "\n",
    "sol([1,0,0,1,1,1])"
   ]
  },
  {
   "cell_type": "code",
   "execution_count": 15,
   "metadata": {},
   "outputs": [
    {
     "data": {
      "text/plain": [
       "1"
      ]
     },
     "execution_count": 15,
     "metadata": {},
     "output_type": "execute_result"
    }
   ],
   "source": [
    "def sol(data):\n",
    "    window = sum(data)\n",
    "    result=0\n",
    "    left,right = 0,0\n",
    "    count_ones=0\n",
    "    while right < len(data):\n",
    "        count_ones+=data[right]\n",
    "        right+=1\n",
    "        if(right-left > window):\n",
    "            count_ones-=data[left]\n",
    "            left+=1\n",
    "\n",
    "        result=max(result,count_ones)\n",
    "\n",
    "    return window-result\n",
    "        \n",
    "\n",
    "sol([1,0,0,1,1,1])"
   ]
  },
  {
   "cell_type": "code",
   "execution_count": null,
   "metadata": {},
   "outputs": [],
   "source": []
  }
 ],
 "metadata": {
  "interpreter": {
   "hash": "aee8b7b246df8f9039afb4144a1f6fd8d2ca17a180786b69acc140d282b71a49"
  },
  "kernelspec": {
   "display_name": "Python 3.9.7 64-bit",
   "language": "python",
   "name": "python3"
  },
  "language_info": {
   "codemirror_mode": {
    "name": "ipython",
    "version": 3
   },
   "file_extension": ".py",
   "mimetype": "text/x-python",
   "name": "python",
   "nbconvert_exporter": "python",
   "pygments_lexer": "ipython3",
   "version": "3.9.7"
  },
  "orig_nbformat": 4
 },
 "nbformat": 4,
 "nbformat_minor": 2
}
