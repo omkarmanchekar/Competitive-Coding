{
 "cells": [
  {
   "cell_type": "markdown",
   "metadata": {},
   "source": [
    "You are given an array of integers a and two integers l and r. You task is to calculate a boolean array b, where b[i] = true if there exists an integer x, such that a[i] = (i + 1) * x and l ≤ x ≤ r. Otherwise, b[i] should be set to false.\n",
    "\n",
    "Example\n",
    "\n",
    "For a = [8, 5, 6, 16, 5], l = 1, and r = 3, the output should be solution(a, l, r) = [false, false, true, false, true].\n",
    "\n",
    "For a[0] = 8, we need to find a value of x such that 1 * x = 8, but the only value that would work is x = 8 which doesn't satisfy the boundaries 1 ≤ x ≤ 3, so b[0] = false.\n",
    "For a[1] = 5, we need to find a value of x such that 2 * x = 5, but there is no integer value that would satisfy this equation, so b[1] = false.\n",
    "For a[2] = 6, we can choose x = 2 because 3 * 2 = 6 and 1 ≤ 2 ≤ 3, so b[2] = true.\n",
    "For a[3] = 16, there is no an integer 1 ≤ x ≤ 3, such that 4 * x = 16, so b[3] = false.\n",
    "For a[4] = 5, we can choose x = 1 because 5 * 1 = 5 and 1 ≤ 1 ≤ 3, so b[4] = true.\n",
    "Input/Output\n",
    "\n",
    "[execution time limit] 4 seconds (py3)\n",
    "\n",
    "[input] array.integer a\n",
    "\n",
    "An array of integers.\n",
    "\n",
    "Guaranteed constraints:\n",
    "1 ≤ a.length ≤ 100,\n",
    "1 ≤ a[i] ≤ 106.\n",
    "\n",
    "[input] integer l\n",
    "\n",
    "An integer representing the lower bound for x.\n",
    "\n",
    "Guaranteed constraints:\n",
    "1 ≤ l ≤ 104.\n",
    "\n",
    "[input] integer r\n",
    "\n",
    "An integer representing the upper bound for x.\n",
    "\n",
    "Guaranteed constraints:\n",
    "1 ≤ r ≤ 104,\n",
    "l ≤ r.\n",
    "\n",
    "[output] array.boolean\n",
    "\n",
    "A boolean array.\n",
    "\n",
    "[Python 3] Syntax Tips\n",
    "\n",
    "# Prints help message to the console\n",
    "# Returns a string\n",
    "def helloWorld(name):\n",
    "    print(\"This prints to the console when you Run Tests\")\n",
    "    return \"Hello, \" + name\n"
   ]
  },
  {
   "cell_type": "code",
   "execution_count": null,
   "metadata": {},
   "outputs": [],
   "source": [
    "def solution(a, l, r):\n",
    "    b=[]\n",
    "    for i in range(len(a)):\n",
    "        # x=a[i]/(i+1)\n",
    "        if(l<=(a[i]/(i+1))<=r and (a[i]/(i+1)).is_integer()):\n",
    "            b.append(True)\n",
    "        else:\n",
    "            b.append(False)\n",
    "    return b"
   ]
  },
  {
   "cell_type": "code",
   "execution_count": 5,
   "metadata": {},
   "outputs": [
    {
     "name": "stdout",
     "output_type": "stream",
     "text": [
      "1\n",
      "2\n",
      "0\n"
     ]
    }
   ],
   "source": [
    "n=120\n",
    "n=str(n)\n",
    "for i in n:\n",
    "    print(i)"
   ]
  },
  {
   "cell_type": "markdown",
   "metadata": {},
   "source": [
    "You are given two integers, n and k. Consider the string representation of n, and find the number of distinct substrings of length k, such that n is divisible by the number formed by that substring. In other words, how many different numbers formed by k consecutive digits of n are factors of n?\n",
    "\n",
    "Note: The k-digit substrings may have leading zeros.\n",
    "\n",
    "Example\n",
    "\n",
    "For n = 120 and k = 2, the output should be solution(n, k) = 2.\n",
    "\n",
    "The divisor substrings are 12 and 20 (120 is divisible by both of these).\n",
    "\n",
    "For n = 555 and k = 1, the output should be solution(n, k) = 1.\n",
    "\n",
    "All the substrings of length 1 are equal to 5 which is a divisor of 555. The answer is not 3 since we're only counting distinct numbers.\n",
    "\n",
    "For n = 5341 and k = 2, the output should be solution(n, k) = 0.\n",
    "\n",
    "5341 is not divisible by 53, 34 nor 41, so the answer is 0.\n",
    "\n",
    "Input/Output\n",
    "\n",
    "[execution time limit] 4 seconds (py3)\n",
    "\n",
    "[input] integer n\n",
    "\n",
    "An integer representing the number we're trying to find the substring factors of.\n",
    "\n",
    "Guaranteed constraints:\n",
    "1 ≤ n ≤ 109.\n",
    "\n",
    "[input] integer k\n",
    "\n",
    "An integer representing how many digits long the substrings should be.\n",
    "\n",
    "Guaranteed constraints:\n",
    "1 ≤ k ≤ 10,\n",
    "10k - 1 ≤ n.\n",
    "\n",
    "[output] integer\n",
    "\n",
    "The number of distinct substrings of length k which are factors of n.\n",
    "\n",
    "[Python 3] Syntax Tips\n",
    "\n",
    "# Prints help message to the console\n",
    "# Returns a string\n",
    "def helloWorld(name):\n",
    "    print(\"This prints to the console when you Run Tests\")\n",
    "    return \"Hello, \" + name\n"
   ]
  },
  {
   "cell_type": "code",
   "execution_count": 11,
   "metadata": {},
   "outputs": [
    {
     "data": {
      "text/plain": [
       "0"
      ]
     },
     "execution_count": 11,
     "metadata": {},
     "output_type": "execute_result"
    }
   ],
   "source": [
    "def solution(n, k):\n",
    "    n=str(n)\n",
    "    count=0\n",
    "    pair=[]\n",
    "    for i in range(len(n)-k+1):\n",
    "        if(int(n[i:i+k]) not in pair):\n",
    "            pair.append(int(n[i:i+k]))\n",
    "    for i in pair:\n",
    "        if(int(n) % i ==0):\n",
    "            count+=1\n",
    "    return count\n",
    "\n",
    "solution(5341,2)"
   ]
  },
  {
   "cell_type": "markdown",
   "metadata": {},
   "source": [
    "Suppose you are creating a new programming language. This language will support OOP, and to make it special, you want some features of it to differ from the standard.\n",
    "\n",
    "In some languages (such as C or Java), class constructor names are forced to have the same name as the class. Here you want to weaken this restriction, and to allow constructor names to be acceptable as long as they're close to the class name. We will consider two strings close if one can be obtained from the other, using the following operations:\n",
    "\n",
    "swap any two symbols in one of the strings,\n",
    "swap occurrences of any two existing symbols in one of the strings (for example, if your string contains both as and bs, you can change all as to bs and all the bs to as).\n",
    "Now you want to write a method that finds out whether the given methodName is considered close to the given className, by the definition above.\n",
    "\n",
    "Hint: One of the possible ways to solve the task might be the following. For both methodName and className build a map with the numbers of occurrences of each symbol. Then check whether the sets of the keys of both maps, containing symbols of the names, are equal. Since all occurrences of any two existing symbols can be freely swapped, you can, finally, check whether the multisets of the values of both maps are also equal.\n",
    "\n",
    "Example\n",
    "\n",
    "For className = \"abbzccc\" and methodName = \"babzzcz\", the output should be\n",
    "solution(className, methodName) = true.\n",
    "\n",
    "One possible way to transform \"abbzccc\" to \"babzzcz\" is this:\n",
    "\n",
    "\"abbzccc\" (this string is className)\n",
    "\"babzccc\" (swap positions of the first two characters)\n",
    "\"babczzz\" (switch all c and z characters)\n",
    "\"babzzcz\" (swap positions of the characters at indices 3 and 5; this string is now methodName)\n",
    "For className = \"abcbdb\" and methodName = \"bbbcca\", the output should be solution(className, methodName) = false.\n",
    "\n",
    "Since className contains the character \"d\" but methodName doesn't, it won't be possible to make these strings equal through any series of swaps.\n",
    "\n",
    "Input/Output\n",
    "\n",
    "[execution time limit] 4 seconds (py3)\n",
    "\n",
    "[input] string className\n",
    "\n",
    "A string that contains only lowercase English letters.\n",
    "\n",
    "Guaranteed constraints:\n",
    "1 ≤ className.length ≤ 105.\n",
    "\n",
    "[input] string methodName\n",
    "\n",
    "A string that contains only lowercase English letters.\n",
    "\n",
    "Guaranteed constraints:\n",
    "1 ≤ methodName.length ≤ 105.\n",
    "\n",
    "[output] boolean\n",
    "\n",
    "Return true if the two names are considered close, and false otherwise.\n",
    "\n",
    "[Python 3] Syntax Tips\n",
    "\n",
    "# Prints help message to the console\n",
    "# Returns a string\n",
    "def helloWorld(name):\n",
    "    print(\"This prints to the console when you Run Tests\")\n",
    "    return \"Hello, \" + name\n"
   ]
  },
  {
   "cell_type": "code",
   "execution_count": 28,
   "metadata": {},
   "outputs": [
    {
     "data": {
      "text/plain": [
       "True"
      ]
     },
     "execution_count": 28,
     "metadata": {},
     "output_type": "execute_result"
    }
   ],
   "source": [
    "from collections import Counter\n",
    "def solution(className, methodName):\n",
    "    keys,values=False,False\n",
    "    hash_class=Counter(className)\n",
    "    hash_method=Counter(methodName)\n",
    "    if(hash_class.keys()==hash_method.keys()):\n",
    "        keys=True\n",
    "    if(sorted(hash_class.values())==sorted(hash_method.values())):\n",
    "        values=True\n",
    "    if(keys and values):\n",
    "        return True    \n",
    "solution('abbzccc',\"babzzcz\")"
   ]
  },
  {
   "cell_type": "code",
   "execution_count": null,
   "metadata": {},
   "outputs": [],
   "source": []
  },
  {
   "cell_type": "markdown",
   "metadata": {},
   "source": [
    "You are given an array of integers arr. Your task is to count the number of contiguous subarrays, such that each element of the subarray appears at least twice.\n",
    "\n",
    "Example\n",
    "\n",
    "For arr = [0, 0, 0], the output should be solution(arr) = 3.\n",
    "\n",
    "There are 3 subarrays that satisfy the criteria of containing only duplicate elements:\n",
    "\n",
    "arr[0..1] = [0, 0]\n",
    "arr[1..2] = [0, 0]\n",
    "arr[0..2] = [0, 0, 0]\n",
    "For arr = [1, 2, 1, 2, 3], the output should be solution(arr) = 1.\n",
    "\n",
    "There is only 1 applicable subarray: arr[0..3] = [1, 2, 1, 2].\n",
    "\n",
    "Input/Output\n",
    "\n",
    "[execution time limit] 4 seconds (py3)\n",
    "\n",
    "[input] array.integer arr\n",
    "\n",
    "An array of integers.\n",
    "\n",
    "Guaranteed constraints:\n",
    "3 ≤ arr.length ≤ 1800,\n",
    "0 ≤ arr[i] ≤ 104.\n",
    "\n",
    "[output] integer\n",
    "\n",
    "Return the number of contiguous subarrays in which each element occurs at least twice.\n",
    "\n",
    "[Python 3] Syntax Tips\n",
    "\n",
    "# Prints help message to the console\n",
    "# Returns a string\n",
    "def helloWorld(name):\n",
    "    print(\"This prints to the console when you Run Tests\")\n",
    "    return \"Hello, \" + name\n"
   ]
  },
  {
   "cell_type": "markdown",
   "metadata": {},
   "source": []
  }
 ],
 "metadata": {
  "interpreter": {
   "hash": "aee8b7b246df8f9039afb4144a1f6fd8d2ca17a180786b69acc140d282b71a49"
  },
  "kernelspec": {
   "display_name": "Python 3.9.7 64-bit",
   "language": "python",
   "name": "python3"
  },
  "language_info": {
   "codemirror_mode": {
    "name": "ipython",
    "version": 3
   },
   "file_extension": ".py",
   "mimetype": "text/x-python",
   "name": "python",
   "nbconvert_exporter": "python",
   "pygments_lexer": "ipython3",
   "version": "3.9.7"
  },
  "orig_nbformat": 4
 },
 "nbformat": 4,
 "nbformat_minor": 2
}
