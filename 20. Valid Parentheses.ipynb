{
 "cells": [
  {
   "cell_type": "code",
   "execution_count": 70,
   "metadata": {},
   "outputs": [
    {
     "name": "stdout",
     "output_type": "stream",
     "text": [
      "(\n",
      ")\n"
     ]
    },
    {
     "data": {
      "text/plain": [
       "True"
      ]
     },
     "execution_count": 70,
     "metadata": {},
     "output_type": "execute_result"
    }
   ],
   "source": [
    "\n",
    "hash={\"{\":\"}\",\"[\":\"]\",\"(\":\")\"}\n",
    "\n",
    "def valid(s):\n",
    "    if(len(s)%2 !=0 ):\n",
    "        return False\n",
    "\n",
    "    x=[]\n",
    "    for i in s:\n",
    "        if(i in hash):\n",
    "            x.append(i)\n",
    "        else:\n",
    "            if(len(x)==0):\n",
    "                return False\n",
    "            else:\n",
    "                if(hash[x[-1]]==i):\n",
    "                    x.pop(-1)\n",
    "                else:\n",
    "                    return False\n",
    "        \n",
    "    if(len(x)==0):\n",
    "        return True\n",
    "    else:\n",
    "        return False\n",
    "\n",
    "valid(\"()\")\n"
   ]
  },
  {
   "cell_type": "code",
   "execution_count": null,
   "metadata": {},
   "outputs": [],
   "source": []
  }
 ],
 "metadata": {
  "interpreter": {
   "hash": "aee8b7b246df8f9039afb4144a1f6fd8d2ca17a180786b69acc140d282b71a49"
  },
  "kernelspec": {
   "display_name": "Python 3.9.7 64-bit",
   "language": "python",
   "name": "python3"
  },
  "language_info": {
   "codemirror_mode": {
    "name": "ipython",
    "version": 3
   },
   "file_extension": ".py",
   "mimetype": "text/x-python",
   "name": "python",
   "nbconvert_exporter": "python",
   "pygments_lexer": "ipython3",
   "version": "3.9.7"
  },
  "orig_nbformat": 4
 },
 "nbformat": 4,
 "nbformat_minor": 2
}
