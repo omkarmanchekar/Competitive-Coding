{
 "cells": [
  {
   "cell_type": "code",
   "execution_count": 35,
   "metadata": {},
   "outputs": [
    {
     "name": "stdout",
     "output_type": "stream",
     "text": [
      "[(1, 0), (2, 1), (3, 2), (4, 3), (5, 4), (6, 5), (34, 6), (8, 7), (78, 8), (24, 9), (767, 10)]\n"
     ]
    }
   ],
   "source": [
    "nums=[1,2,4,3,1,2,1,2,3,78,24,34,5,4,6,5,767,8]\n",
    "target = 34\n",
    "\n",
    "\n",
    "\n",
    "def binarysearch(nums,target):\n",
    "    nums=list(set(sorted(nums)))\n",
    "    print(list(zip(nums,list(range(len(nums))))))\n",
    "    start=0\n",
    "    end=len(nums)-1\n",
    "    mid=(end+start)//2\n",
    "    while(start<end):\n",
    "        if(target == nums[mid]):\n",
    "            return (nums[mid],mid)\n",
    "        elif (target<=nums[mid]):\n",
    "            end=mid\n",
    "            mid=(start+end)//2\n",
    "        else:\n",
    "            start=mid+1\n",
    "            mid=(start+end)//2\n",
    "\n",
    "\n",
    "\n",
    "binarysearch(nums,target)\n",
    "\n"
   ]
  },
  {
   "cell_type": "code",
   "execution_count": 36,
   "metadata": {},
   "outputs": [
    {
     "data": {
      "text/plain": [
       "8"
      ]
     },
     "execution_count": 36,
     "metadata": {},
     "output_type": "execute_result"
    }
   ],
   "source": [
    "17//2"
   ]
  },
  {
   "cell_type": "code",
   "execution_count": 67,
   "metadata": {},
   "outputs": [
    {
     "ename": "TypeError",
     "evalue": "'int' object is not subscriptable",
     "output_type": "error",
     "traceback": [
      "\u001b[0;31m---------------------------------------------------------------------------\u001b[0m",
      "\u001b[0;31mTypeError\u001b[0m                                 Traceback (most recent call last)",
      "\u001b[0;32m/var/folders/2h/3hfmsdps1x3fnygx76hyh9pw0000gn/T/ipykernel_32053/257691024.py\u001b[0m in \u001b[0;36m<module>\u001b[0;34m\u001b[0m\n\u001b[1;32m      2\u001b[0m \u001b[0marr\u001b[0m\u001b[0;34m=\u001b[0m\u001b[0;34m\"101010101\"\u001b[0m\u001b[0;34m\u001b[0m\u001b[0;34m\u001b[0m\u001b[0m\n\u001b[1;32m      3\u001b[0m \u001b[0ma\u001b[0m\u001b[0;34m=\u001b[0m\u001b[0mCounter\u001b[0m\u001b[0;34m(\u001b[0m\u001b[0marr\u001b[0m\u001b[0;34m)\u001b[0m\u001b[0;34m\u001b[0m\u001b[0;34m\u001b[0m\u001b[0m\n\u001b[0;32m----> 4\u001b[0;31m \u001b[0ma\u001b[0m\u001b[0;34m[\u001b[0m\u001b[0;36m0\u001b[0m\u001b[0;34m]\u001b[0m\u001b[0;34m[\u001b[0m\u001b[0;36m1\u001b[0m\u001b[0;34m]\u001b[0m\u001b[0;34m\u001b[0m\u001b[0;34m\u001b[0m\u001b[0m\n\u001b[0m",
      "\u001b[0;31mTypeError\u001b[0m: 'int' object is not subscriptable"
     ]
    }
   ],
   "source": [
    "from collections import Counter\n",
    "arr=\"101010101\"\n",
    "a=Counter(arr)\n",
    "a."
   ]
  },
  {
   "cell_type": "code",
   "execution_count": 59,
   "metadata": {},
   "outputs": [
    {
     "data": {
      "text/plain": [
       "(['101', '1010', '0101', '101'], '101')"
      ]
     },
     "execution_count": 59,
     "metadata": {},
     "output_type": "execute_result"
    }
   ],
   "source": [
    "def count_ones(substr,k):\n",
    "    count=0\n",
    "    for i in range(len(substr)):\n",
    "        if(substr[i] == \"1\"):\n",
    "            count+=1\n",
    "    if(count == k):\n",
    "        return substr\n",
    "\n",
    "def getSubstring(input_str, k):\n",
    "    # Write your code here\n",
    "    subarray=[]\n",
    "    smallest=input_str\n",
    "    for i in range(len(input_str)):\n",
    "        for j in range(i+k-1,len(input_str)):\n",
    "            if(count_ones(input_str[i:j+1],k) != None):\n",
    "                subarray.append(input_str[i:j+1])\n",
    "            \n",
    "    for i in subarray:\n",
    "        if(len(i)<=len(smallest)):\n",
    "            smallest=i\n",
    "            \n",
    "    return subarray,smallest\n",
    "\n",
    "getSubstring(\"10101\",2)"
   ]
  },
  {
   "cell_type": "code",
   "execution_count": null,
   "metadata": {},
   "outputs": [],
   "source": []
  }
 ],
 "metadata": {
  "interpreter": {
   "hash": "aee8b7b246df8f9039afb4144a1f6fd8d2ca17a180786b69acc140d282b71a49"
  },
  "kernelspec": {
   "display_name": "Python 3.9.7 64-bit",
   "language": "python",
   "name": "python3"
  },
  "language_info": {
   "codemirror_mode": {
    "name": "ipython",
    "version": 3
   },
   "file_extension": ".py",
   "mimetype": "text/x-python",
   "name": "python",
   "nbconvert_exporter": "python",
   "pygments_lexer": "ipython3",
   "version": "3.9.7"
  },
  "orig_nbformat": 4
 },
 "nbformat": 4,
 "nbformat_minor": 2
}
