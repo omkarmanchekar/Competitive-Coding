{
 "cells": [
  {
   "cell_type": "code",
   "execution_count": 12,
   "metadata": {},
   "outputs": [
    {
     "data": {
      "text/plain": [
       "'XX'"
      ]
     },
     "execution_count": 12,
     "metadata": {},
     "output_type": "execute_result"
    }
   ],
   "source": [
    "# time complexity is O(n)\n",
    "\n",
    "\n",
    "roman=[(1000,\"M\"),(900,\"CM\"),(500,\"D\"),(400,\"CD\"),(100,\"C\"),(90,\"XC\"),(50,\"L\"),(40,\"XL\"),(10,'X'),(9,'IX'),(5,\"V\"),(4,\"IV\"),(1,\"I\")]\n",
    "\n",
    "def inttoroman(num):\n",
    "    ptr=0\n",
    "    romanString =\"\"\n",
    "    if(num>3999):\n",
    "        return 0\n",
    "    if(num == 0):\n",
    "        return 0\n",
    "    while(num>0):\n",
    "        if(num>=roman[ptr][0]):\n",
    "            romanString=romanString+roman[ptr][1]\n",
    "            num=num-roman[ptr][0]\n",
    "        else:\n",
    "            ptr+=1\n",
    "   \n",
    "    return romanString\n",
    "\n",
    "inttoroman(20)\n"
   ]
  },
  {
   "cell_type": "code",
   "execution_count": 17,
   "metadata": {},
   "outputs": [
    {
     "name": "stdout",
     "output_type": "stream",
     "text": [
      "10\n",
      "X 10\n",
      "10\n",
      "XX 0\n"
     ]
    },
    {
     "data": {
      "text/plain": [
       "'XX'"
      ]
     },
     "execution_count": 17,
     "metadata": {},
     "output_type": "execute_result"
    }
   ],
   "source": [
    "# time complexity O(n)\n",
    "\n",
    "roman={1000:\"M\",900:\"CM\",500:\"D\",400:\"CD\",100:\"C\",90:\"XC\",50:\"L\",40:\"XL\",10:\"X\",9:'IX',5:\"V\",4:\"IV\",1:\"I\"}\n",
    "\n",
    "def inttoroman(num):\n",
    "    ptr=0\n",
    "    romanString =\"\"\n",
    "    if(num>3999):\n",
    "        return 0\n",
    "    if(num == 0):\n",
    "        return 0\n",
    "    while(num>0):\n",
    "        for i in roman:\n",
    "            if(num >i or num == i):\n",
    "                print(i)\n",
    "                romanString=romanString+roman[i]\n",
    "                num=num-i\n",
    "                print(romanString,num)\n",
    "                break\n",
    "\n",
    "   \n",
    "    return romanString\n",
    "\n",
    "inttoroman(20)"
   ]
  },
  {
   "cell_type": "code",
   "execution_count": 16,
   "metadata": {},
   "outputs": [
    {
     "data": {
      "text/plain": [
       "'X'"
      ]
     },
     "execution_count": 16,
     "metadata": {},
     "output_type": "execute_result"
    }
   ],
   "source": [
    "roman[10]"
   ]
  },
  {
   "cell_type": "code",
   "execution_count": 64,
   "metadata": {},
   "outputs": [
    {
     "data": {
      "text/plain": [
       "'IX'"
      ]
     },
     "execution_count": 64,
     "metadata": {},
     "output_type": "execute_result"
    }
   ],
   "source": [
    "# complexity is O(1)\n",
    "\n",
    "\n",
    "M=[\"\",\"M\",\"MM\",\"MMM\"]\n",
    "C=[\"\",\"C\",\"CC\",\"CCC\",\"CD\",\"D\",\"DC\",\"DCC\",\"DCCC\",\"CM\"]\n",
    "X=[\"\",\"X\",\"XX\",\"XXX\",\"XL\",\"L\",\"LX\",\"LXX\",\"LXXX\",\"XC\"]\n",
    "I=[\"\",\"I\",\"II\",\"III\",\"IV\",\"V\",\"VI\",\"VII\",\"VIII\",\"IX\"]\n",
    "\n",
    "def inttoroman(nums):\n",
    "    if(nums ==0 or nums>3999):\n",
    "        return 0\n",
    "    return M[nums//1000]+C[(nums%1000)//100]+X[(nums%100)//10]+I[(nums%10)]\n",
    "\n",
    "inttoroman(9)"
   ]
  },
  {
   "cell_type": "code",
   "execution_count": 5,
   "metadata": {},
   "outputs": [
    {
     "data": {
      "text/plain": [
       "999"
      ]
     },
     "execution_count": 5,
     "metadata": {},
     "output_type": "execute_result"
    }
   ],
   "source": [
    "3999%1000\n"
   ]
  },
  {
   "cell_type": "code",
   "execution_count": null,
   "metadata": {},
   "outputs": [],
   "source": []
  }
 ],
 "metadata": {
  "interpreter": {
   "hash": "aee8b7b246df8f9039afb4144a1f6fd8d2ca17a180786b69acc140d282b71a49"
  },
  "kernelspec": {
   "display_name": "Python 3.9.7 64-bit",
   "language": "python",
   "name": "python3"
  },
  "language_info": {
   "codemirror_mode": {
    "name": "ipython",
    "version": 3
   },
   "file_extension": ".py",
   "mimetype": "text/x-python",
   "name": "python",
   "nbconvert_exporter": "python",
   "pygments_lexer": "ipython3",
   "version": "3.9.7"
  },
  "orig_nbformat": 4
 },
 "nbformat": 4,
 "nbformat_minor": 2
}
