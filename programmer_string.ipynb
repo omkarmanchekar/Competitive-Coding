{
 "cells": [
  {
   "cell_type": "code",
   "execution_count": 3,
   "metadata": {},
   "outputs": [
    {
     "name": "stdout",
     "output_type": "stream",
     "text": [
      "Counter({'r': 3, 'm': 2, 'p': 1, 'o': 1, 'g': 1, 'a': 1, 'e': 1})\n",
      "Counter({'r': 3, 'm': 2, 'p': 1, 'o': 1, 'd': 1, 'f': 1, 'g': 1, 'a': 1, 'z': 1, 'x': 1, 'e': 1})\n"
     ]
    }
   ],
   "source": [
    "from collections import Counter\n",
    "\n",
    "s=\"programmer\"\n",
    "j=\"prodfgrazxmmer\"\n",
    "\n",
    "\n",
    "s=Counter(s)\n",
    "j=Counter(j)\n",
    "print(s)\n",
    "print(j)\n",
    "\n"
   ]
  },
  {
   "cell_type": "code",
   "execution_count": 17,
   "metadata": {},
   "outputs": [
    {
     "data": {
      "text/plain": [
       "False"
      ]
     },
     "execution_count": 17,
     "metadata": {},
     "output_type": "execute_result"
    }
   ],
   "source": [
    "\n",
    "def fun(string):\n",
    "    hash={'r': 3, 'm': 2, 'p': 1, 'o': 1, 'g': 1, 'a': 1, 'e': 1}\n",
    "    count=0\n",
    "    for i in string:\n",
    "        if(i in hash and string[i] == hash[i]):\n",
    "            count+=1\n",
    "    \n",
    "    if(count>=len(hash)):\n",
    "        return True\n",
    "    else:\n",
    "        return False\n",
    "\n",
    "\n",
    "# def sol(s):\n",
    "\n",
    "    \n"
   ]
  },
  {
   "cell_type": "code",
   "execution_count": 18,
   "metadata": {},
   "outputs": [
    {
     "data": {
      "text/plain": [
       "10"
      ]
     },
     "execution_count": 18,
     "metadata": {},
     "output_type": "execute_result"
    }
   ],
   "source": [
    "j=\"programmer\"\n",
    "\n",
    "len(j)"
   ]
  },
  {
   "cell_type": "code",
   "execution_count": 20,
   "metadata": {},
   "outputs": [
    {
     "name": "stdout",
     "output_type": "stream",
     "text": [
      "programmer\n",
      "programmerx\n",
      "programmerxx\n",
      "programmerxxp\n",
      "programmerxxpr\n",
      "programmerxxpro\n",
      "programmerxxproz\n",
      "programmerxxprozm\n",
      "programmerxxprozme\n",
      "programmerxxprozmer\n",
      "programmerxxprozmerg\n",
      "programmerxxprozmergq\n",
      "programmerxxprozmergqr\n",
      "programmerxxprozmergqra\n",
      "rogrammerx\n",
      "rogrammerxx\n",
      "rogrammerxxp\n",
      "rogrammerxxpr\n",
      "rogrammerxxpro\n",
      "rogrammerxxproz\n",
      "rogrammerxxprozm\n",
      "rogrammerxxprozme\n",
      "rogrammerxxprozmer\n",
      "rogrammerxxprozmerg\n",
      "rogrammerxxprozmergq\n",
      "rogrammerxxprozmergqr\n",
      "rogrammerxxprozmergqra\n",
      "ogrammerxx\n",
      "ogrammerxxp\n",
      "ogrammerxxpr\n",
      "ogrammerxxpro\n",
      "ogrammerxxproz\n",
      "ogrammerxxprozm\n",
      "ogrammerxxprozme\n",
      "ogrammerxxprozmer\n",
      "ogrammerxxprozmerg\n",
      "ogrammerxxprozmergq\n",
      "ogrammerxxprozmergqr\n",
      "ogrammerxxprozmergqra\n",
      "grammerxxp\n",
      "grammerxxpr\n",
      "grammerxxpro\n",
      "grammerxxproz\n",
      "grammerxxprozm\n",
      "grammerxxprozme\n",
      "grammerxxprozmer\n",
      "grammerxxprozmerg\n",
      "grammerxxprozmergq\n",
      "grammerxxprozmergqr\n",
      "grammerxxprozmergqra\n",
      "rammerxxpr\n",
      "rammerxxpro\n",
      "rammerxxproz\n",
      "rammerxxprozm\n",
      "rammerxxprozme\n",
      "rammerxxprozmer\n",
      "rammerxxprozmerg\n",
      "rammerxxprozmergq\n",
      "rammerxxprozmergqr\n",
      "rammerxxprozmergqra\n",
      "ammerxxpro\n",
      "ammerxxproz\n",
      "ammerxxprozm\n",
      "ammerxxprozme\n",
      "ammerxxprozmer\n",
      "ammerxxprozmerg\n",
      "ammerxxprozmergq\n",
      "ammerxxprozmergqr\n",
      "ammerxxprozmergqra\n",
      "mmerxxproz\n",
      "mmerxxprozm\n",
      "mmerxxprozme\n",
      "mmerxxprozmer\n",
      "mmerxxprozmerg\n",
      "mmerxxprozmergq\n",
      "mmerxxprozmergqr\n",
      "mmerxxprozmergqra\n",
      "merxxprozm\n",
      "merxxprozme\n",
      "merxxprozmer\n",
      "merxxprozmerg\n",
      "merxxprozmergq\n",
      "merxxprozmergqr\n",
      "merxxprozmergqra\n",
      "erxxprozme\n",
      "erxxprozmer\n",
      "erxxprozmerg\n",
      "erxxprozmergq\n",
      "erxxprozmergqr\n",
      "erxxprozmergqra\n",
      "rxxprozmer\n",
      "rxxprozmerg\n",
      "rxxprozmergq\n",
      "rxxprozmergqr\n",
      "rxxprozmergqra\n",
      "xxprozmerg\n",
      "xxprozmergq\n",
      "xxprozmergqr\n",
      "xxprozmergqra\n",
      "xprozmergq\n",
      "xprozmergqr\n",
      "xprozmergqra\n",
      "prozmergqr\n",
      "prozmergqra\n",
      "rozmergqra\n"
     ]
    }
   ],
   "source": [
    "s=\"programmerxxprozmergqram\"\n",
    "\n",
    "\n",
    "hash={'r': 3, 'm': 2, 'p': 1, 'o': 1, 'g': 1, 'a': 1, 'e': 1}\n",
    "\n",
    "for i in range(0,len(s)-10):\n",
    "    for j in range(i+10,len(s)):\n",
    "        \n"
   ]
  },
  {
   "cell_type": "code",
   "execution_count": null,
   "metadata": {},
   "outputs": [],
   "source": []
  }
 ],
 "metadata": {
  "interpreter": {
   "hash": "aee8b7b246df8f9039afb4144a1f6fd8d2ca17a180786b69acc140d282b71a49"
  },
  "kernelspec": {
   "display_name": "Python 3.9.7 64-bit",
   "language": "python",
   "name": "python3"
  },
  "language_info": {
   "codemirror_mode": {
    "name": "ipython",
    "version": 3
   },
   "file_extension": ".py",
   "mimetype": "text/x-python",
   "name": "python",
   "nbconvert_exporter": "python",
   "pygments_lexer": "ipython3",
   "version": "3.9.7"
  },
  "orig_nbformat": 4
 },
 "nbformat": 4,
 "nbformat_minor": 2
}
