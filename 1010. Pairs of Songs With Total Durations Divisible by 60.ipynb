{
 "cells": [
  {
   "cell_type": "code",
   "execution_count": 2,
   "metadata": {},
   "outputs": [
    {
     "name": "stdout",
     "output_type": "stream",
     "text": [
      "{30: 150, 20: 20, 40: 40}\n"
     ]
    },
    {
     "data": {
      "text/plain": [
       "1"
      ]
     },
     "execution_count": 2,
     "metadata": {},
     "output_type": "execute_result"
    }
   ],
   "source": [
    "def solution(time):\n",
    "    hash={}\n",
    "    count=0\n",
    "    for i in time:\n",
    "        if i in hash:\n",
    "            count+=1\n",
    "        hash[i%60]=i\n",
    "    print(hash)\n",
    "    return count\n",
    "\n",
    "\n",
    "solution([30,20,150,100,40])\n",
    "        \n"
   ]
  },
  {
   "cell_type": "code",
   "execution_count": 4,
   "metadata": {},
   "outputs": [
    {
     "data": {
      "text/plain": [
       "[2]"
      ]
     },
     "execution_count": 4,
     "metadata": {},
     "output_type": "execute_result"
    }
   ],
   "source": [
    "import math\n",
    "def primefactors(n):\n",
    "   factors=[]\n",
    "   #even number divisible\n",
    "   while n % 2 == 0:\n",
    "      factors.append(2) \n",
    "      n = n / 2\n",
    "    \n",
    "   #n became odd\n",
    "   for i in range(3,int(math.sqrt(n))+1,2):\n",
    "      while (n % i == 0):\n",
    "         factors.appen(i)\n",
    "         n = n / i\n",
    "   return list(set(factors)) \n",
    "#    if n > 2:\n",
    "#       print (n)\n",
    " \n",
    "primefactors(4)"
   ]
  },
  {
   "cell_type": "code",
   "execution_count": 7,
   "metadata": {},
   "outputs": [
    {
     "name": "stderr",
     "output_type": "stream",
     "text": [
      "<>:1: SyntaxWarning: 'bool' object is not callable; perhaps you missed a comma?\n",
      "<>:1: SyntaxWarning: 'bool' object is not callable; perhaps you missed a comma?\n",
      "/var/folders/2h/3hfmsdps1x3fnygx76hyh9pw0000gn/T/ipykernel_20812/3521010490.py:1: SyntaxWarning: 'bool' object is not callable; perhaps you missed a comma?\n",
      "  False(1)\n"
     ]
    },
    {
     "ename": "TypeError",
     "evalue": "'bool' object is not callable",
     "output_type": "error",
     "traceback": [
      "\u001b[0;31m---------------------------------------------------------------------------\u001b[0m",
      "\u001b[0;31mTypeError\u001b[0m                                 Traceback (most recent call last)",
      "\u001b[0;32m/var/folders/2h/3hfmsdps1x3fnygx76hyh9pw0000gn/T/ipykernel_20812/3521010490.py\u001b[0m in \u001b[0;36m<module>\u001b[0;34m\u001b[0m\n\u001b[0;32m----> 1\u001b[0;31m \u001b[0;32mFalse\u001b[0m\u001b[0;34m(\u001b[0m\u001b[0;36m1\u001b[0m\u001b[0;34m)\u001b[0m\u001b[0;34m\u001b[0m\u001b[0;34m\u001b[0m\u001b[0m\n\u001b[0m",
      "\u001b[0;31mTypeError\u001b[0m: 'bool' object is not callable"
     ]
    }
   ],
   "source": []
  },
  {
   "cell_type": "code",
   "execution_count": 14,
   "metadata": {},
   "outputs": [
    {
     "name": "stdout",
     "output_type": "stream",
     "text": [
      "2\n",
      "5\n",
      "8\n"
     ]
    }
   ],
   "source": [
    "for i in range(3-1,10,3):\n",
    "    print(i)"
   ]
  },
  {
   "cell_type": "code",
   "execution_count": 44,
   "metadata": {},
   "outputs": [
    {
     "name": "stdout",
     "output_type": "stream",
     "text": [
      "[2]\n",
      "1\n",
      "3\n",
      "5\n",
      "[2]\n",
      "1\n",
      "3\n",
      "5\n",
      "[2]\n",
      "1\n",
      "3\n",
      "5\n",
      "[2]\n",
      "1\n",
      "3\n",
      "5\n",
      "[2, 3]\n",
      "1\n",
      "3\n",
      "5\n",
      "2\n",
      "5\n"
     ]
    },
    {
     "data": {
      "text/plain": [
       "[0, 1, 1, 1, 0, 0]"
      ]
     },
     "execution_count": 44,
     "metadata": {},
     "output_type": "execute_result"
    }
   ],
   "source": [
    "import math\n",
    "def primefact(num):\n",
    "    fact=[]\n",
    "    for i in range(2, num + 1):\n",
    "        if(num % i == 0):\n",
    "            isPrime = 1\n",
    "            for j in range(2, (i //2 + 1)):\n",
    "                if(i % j == 0):\n",
    "                    isPrime = 0\n",
    "                    break\n",
    "            if (isPrime == 1):\n",
    "                fact.append(i)\n",
    "    return fact\n",
    "        \n",
    "\n",
    "def lightBulbs(states, numbers):\n",
    "    l=len(states)\n",
    "    for next in numbers:\n",
    "        factors=primefact(next)\n",
    "        print(factors)\n",
    "        for i in factors:\n",
    "            # print(i)\n",
    "            for j in range(i-1,l,i):\n",
    "                print(j)\n",
    "                if(states[j]==1):\n",
    "                    states[j]=0\n",
    "                else:\n",
    "                    states[j]=1\n",
    "    return states\n",
    "\n",
    "\n",
    "\n",
    "lightBulbs([0,0,0,0,0,0],[4,2,4,2,6])"
   ]
  },
  {
   "cell_type": "code",
   "execution_count": 37,
   "metadata": {},
   "outputs": [
    {
     "data": {
      "text/plain": [
       "[2, 3]"
      ]
     },
     "execution_count": 37,
     "metadata": {},
     "output_type": "execute_result"
    }
   ],
   "source": [
    "def primef(num):\n",
    "    fact=[]\n",
    "    for i in range(2, num + 1):\n",
    "        if(num % i == 0):\n",
    "            isPrime = 1\n",
    "            for j in range(2, (i //2 + 1)):\n",
    "                if(i % j == 0):\n",
    "                    isPrime = 0\n",
    "                    break\n",
    "            if (isPrime == 1):\n",
    "                fact.append(i)\n",
    "    return fact\n",
    "\n",
    "primef(12)\n"
   ]
  },
  {
   "cell_type": "code",
   "execution_count": null,
   "metadata": {},
   "outputs": [],
   "source": []
  }
 ],
 "metadata": {
  "interpreter": {
   "hash": "aee8b7b246df8f9039afb4144a1f6fd8d2ca17a180786b69acc140d282b71a49"
  },
  "kernelspec": {
   "display_name": "Python 3.9.7 64-bit",
   "language": "python",
   "name": "python3"
  },
  "language_info": {
   "codemirror_mode": {
    "name": "ipython",
    "version": 3
   },
   "file_extension": ".py",
   "mimetype": "text/x-python",
   "name": "python",
   "nbconvert_exporter": "python",
   "pygments_lexer": "ipython3",
   "version": "3.9.7"
  },
  "orig_nbformat": 4
 },
 "nbformat": 4,
 "nbformat_minor": 2
}
