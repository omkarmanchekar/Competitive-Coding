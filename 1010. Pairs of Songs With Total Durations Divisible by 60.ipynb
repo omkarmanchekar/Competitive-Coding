{
 "cells": [
  {
   "cell_type": "code",
   "execution_count": 13,
   "metadata": {},
   "outputs": [
    {
     "data": {
      "text/plain": [
       "3"
      ]
     },
     "execution_count": 13,
     "metadata": {},
     "output_type": "execute_result"
    }
   ],
   "source": [
    "def solution(time):\n",
    "    hash=[0]*60\n",
    "    count=0\n",
    "    for i in time:\n",
    "        mod=i%60\n",
    "        if(mod == 0):\n",
    "            count+=hash[0]\n",
    "            hash[0]+=1\n",
    "        \n",
    "        else:\n",
    "            count+=hash[60-mod]\n",
    "            hash[mod]+=1\n",
    "    return count\n",
    "\n",
    "\n",
    "solution([60,60,60])\n",
    "        \n"
   ]
  },
  {
   "cell_type": "code",
   "execution_count": 15,
   "metadata": {},
   "outputs": [
    {
     "name": "stdout",
     "output_type": "stream",
     "text": [
      "defaultdict(<class 'int'>, {30: 1})\n",
      "defaultdict(<class 'int'>, {30: 1, 40: 0, 20: 1})\n",
      "defaultdict(<class 'int'>, {30: 2, 40: 0, 20: 1})\n",
      "defaultdict(<class 'int'>, {30: 2, 40: 1, 20: 1})\n",
      "defaultdict(<class 'int'>, {30: 2, 40: 2, 20: 1})\n"
     ]
    },
    {
     "data": {
      "text/plain": [
       "3"
      ]
     },
     "execution_count": 15,
     "metadata": {},
     "output_type": "execute_result"
    }
   ],
   "source": [
    "import collections\n",
    "def sol(time):\n",
    "    remainders = collections.defaultdict(int)\n",
    "    ret = 0\n",
    "    for t in time:\n",
    "        if t % 60 == 0: # check if a%60==0 && b%60==0\n",
    "            ret += remainders[0]\n",
    "        else: # check if a%60+b%60==60\n",
    "            ret += remainders[60-t%60]\n",
    "        remainders[t % 60] += 1 # remember to update the remainders\n",
    "        print(remainders)\n",
    "    return ret\n",
    "\n",
    "sol([30,20,150,100,40])"
   ]
  },
  {
   "cell_type": "code",
   "execution_count": 4,
   "metadata": {},
   "outputs": [
    {
     "data": {
      "text/plain": [
       "[2]"
      ]
     },
     "execution_count": 4,
     "metadata": {},
     "output_type": "execute_result"
    }
   ],
   "source": [
    "import math\n",
    "def primefactors(n):\n",
    "   factors=[]\n",
    "   #even number divisible\n",
    "   while n % 2 == 0:\n",
    "      factors.append(2) \n",
    "      n = n / 2\n",
    "    \n",
    "   #n became odd\n",
    "   for i in range(3,int(math.sqrt(n))+1,2):\n",
    "      while (n % i == 0):\n",
    "         factors.appen(i)\n",
    "         n = n / i\n",
    "   return list(set(factors)) \n",
    "#    if n > 2:\n",
    "#       print (n)\n",
    " \n",
    "primefactors(4)"
   ]
  },
  {
   "cell_type": "code",
   "execution_count": null,
   "metadata": {},
   "outputs": [],
   "source": []
  },
  {
   "cell_type": "code",
   "execution_count": null,
   "metadata": {},
   "outputs": [],
   "source": []
  },
  {
   "cell_type": "code",
   "execution_count": null,
   "metadata": {},
   "outputs": [],
   "source": []
  },
  {
   "cell_type": "code",
   "execution_count": 14,
   "metadata": {},
   "outputs": [
    {
     "name": "stdout",
     "output_type": "stream",
     "text": [
      "2\n",
      "5\n",
      "8\n"
     ]
    }
   ],
   "source": [
    "for i in range(3-1,10,3):\n",
    "    print(i)"
   ]
  },
  {
   "cell_type": "code",
   "execution_count": 44,
   "metadata": {},
   "outputs": [
    {
     "name": "stdout",
     "output_type": "stream",
     "text": [
      "[2]\n",
      "1\n",
      "3\n",
      "5\n",
      "[2]\n",
      "1\n",
      "3\n",
      "5\n",
      "[2]\n",
      "1\n",
      "3\n",
      "5\n",
      "[2]\n",
      "1\n",
      "3\n",
      "5\n",
      "[2, 3]\n",
      "1\n",
      "3\n",
      "5\n",
      "2\n",
      "5\n"
     ]
    },
    {
     "data": {
      "text/plain": [
       "[0, 1, 1, 1, 0, 0]"
      ]
     },
     "execution_count": 44,
     "metadata": {},
     "output_type": "execute_result"
    }
   ],
   "source": [
    "import math\n",
    "def primefact(num):\n",
    "    fact=[]\n",
    "    for i in range(2, num + 1):\n",
    "        if(num % i == 0):\n",
    "            isPrime = 1\n",
    "            for j in range(2, (i //2 + 1)):\n",
    "                if(i % j == 0):\n",
    "                    isPrime = 0\n",
    "                    break\n",
    "            if (isPrime == 1):\n",
    "                fact.append(i)\n",
    "    return fact\n",
    "        \n",
    "\n",
    "def lightBulbs(states, numbers):\n",
    "    l=len(states)\n",
    "    for next in numbers:\n",
    "        factors=primefact(next)\n",
    "        print(factors)\n",
    "        for i in factors:\n",
    "            # print(i)\n",
    "            for j in range(i-1,l,i):\n",
    "                print(j)\n",
    "                if(states[j]==1):\n",
    "                    states[j]=0\n",
    "                else:\n",
    "                    states[j]=1\n",
    "    return states\n",
    "\n",
    "\n",
    "\n",
    "lightBulbs([0,0,0,0,0,0],[4,2,4,2,6])"
   ]
  },
  {
   "cell_type": "code",
   "execution_count": 37,
   "metadata": {},
   "outputs": [
    {
     "data": {
      "text/plain": [
       "[2, 3]"
      ]
     },
     "execution_count": 37,
     "metadata": {},
     "output_type": "execute_result"
    }
   ],
   "source": [
    "def primef(num):\n",
    "    fact=[]\n",
    "    for i in range(2, num + 1):\n",
    "        if(num % i == 0):\n",
    "            isPrime = 1\n",
    "            for j in range(2, (i //2 + 1)):\n",
    "                if(i % j == 0):\n",
    "                    isPrime = 0\n",
    "                    break\n",
    "            if (isPrime == 1):\n",
    "                fact.append(i)\n",
    "    return fact\n",
    "\n",
    "primef(12)\n"
   ]
  },
  {
   "cell_type": "code",
   "execution_count": null,
   "metadata": {},
   "outputs": [],
   "source": []
  }
 ],
 "metadata": {
  "interpreter": {
   "hash": "aee8b7b246df8f9039afb4144a1f6fd8d2ca17a180786b69acc140d282b71a49"
  },
  "kernelspec": {
   "display_name": "Python 3.9.7 64-bit",
   "language": "python",
   "name": "python3"
  },
  "language_info": {
   "codemirror_mode": {
    "name": "ipython",
    "version": 3
   },
   "file_extension": ".py",
   "mimetype": "text/x-python",
   "name": "python",
   "nbconvert_exporter": "python",
   "pygments_lexer": "ipython3",
   "version": "3.9.7"
  },
  "orig_nbformat": 4
 },
 "nbformat": 4,
 "nbformat_minor": 2
}
