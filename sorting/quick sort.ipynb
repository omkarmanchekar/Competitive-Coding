{
 "cells": [
  {
   "cell_type": "code",
   "execution_count": 183,
   "metadata": {},
   "outputs": [
    {
     "data": {
      "text/plain": [
       "[17, 20, 26, 31, 44, 54, 55, 77, 93, 100]"
      ]
     },
     "execution_count": 183,
     "metadata": {},
     "output_type": "execute_result"
    }
   ],
   "source": [
    "# time complexity is O(nLogN)\n",
    "# worst when already sorted that is the last pivot is the largest O(N^2)\n",
    "\n",
    "# there is one more way to do it \n",
    "\n",
    "\n",
    "nums=[54, 26, 93, 17, 77, 31, 44, 55, 20,100]\n",
    "\n",
    "\n",
    "def particiton(start,end,nums):\n",
    "    left=start\n",
    "    right=end-1\n",
    "    pivot =end\n",
    "    while(left<right):\n",
    "        while(left<pivot and nums[left]<=nums[pivot]):\n",
    "            left=left+1\n",
    "        while(nums[right]>nums[pivot]):\n",
    "            right=right-1\n",
    "        if(nums[left]>nums[right] and left<right): # only swap when i and j have not yet crossed \n",
    "            nums[left],nums[right] = nums[right],nums[left]\n",
    "    if(left!=right):       ##if i and j becomes same that it swaps to restrict that (ie whenn they cross i,_,j and we move i and j by one )\n",
    "        nums[left],nums[pivot]=nums[pivot],nums[left]\n",
    "    return left\n",
    "\n",
    "\n",
    "\n",
    "def quicksort(start,end,nums):\n",
    "    if(start<end):\n",
    "        p=particiton(start,end,nums)\n",
    "        quicksort(start,p-1,nums)\n",
    "        quicksort(p+1,end,nums)\n",
    "        \n",
    "    return nums\n",
    "\n",
    "\n",
    "\n",
    "quicksort(0,len(nums)-1,nums)\n",
    "\n"
   ]
  },
  {
   "cell_type": "code",
   "execution_count": null,
   "metadata": {},
   "outputs": [],
   "source": []
  }
 ],
 "metadata": {
  "interpreter": {
   "hash": "aee8b7b246df8f9039afb4144a1f6fd8d2ca17a180786b69acc140d282b71a49"
  },
  "kernelspec": {
   "display_name": "Python 3.9.7 64-bit",
   "language": "python",
   "name": "python3"
  },
  "language_info": {
   "name": "python",
   "version": "3.9.7"
  },
  "orig_nbformat": 4
 },
 "nbformat": 4,
 "nbformat_minor": 2
}
