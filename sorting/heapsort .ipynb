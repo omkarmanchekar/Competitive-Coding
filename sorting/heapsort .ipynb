{
 "cells": [
  {
   "cell_type": "code",
   "execution_count": null,
   "metadata": {},
   "outputs": [],
   "source": [
    "class Node:\n",
    "    def __init__(self,value):\n",
    "        self.left=None\n",
    "        self.right=None\n",
    "        self.value=value\n",
    "\n",
    "root=Node(1)\n",
    "\n",
    "root.left=Node(2)\n",
    "root.right=Node(3)\n",
    "\n",
    "\n",
    "root.left.left=Node(4)\n",
    "\n",
    "\n",
    "# output below"
   ]
  },
  {
   "cell_type": "markdown",
   "metadata": {},
   "source": [
    "        1\n",
    "       / \\\n",
    "      2   3\n",
    "     /\n",
    "    4"
   ]
  },
  {
   "cell_type": "code",
   "execution_count": 5,
   "metadata": {},
   "outputs": [
    {
     "name": "stdout",
     "output_type": "stream",
     "text": [
      "0\n",
      "[12, 1, 9, 5, 6, 10]\n",
      "1\n",
      "[12, 6, 9, 1, 5, 10]\n",
      "2\n",
      "[12, 6, 10, 1, 5, 9]\n",
      "0\n",
      "[10, 6, 9, 1, 5]\n",
      "1\n",
      "[10, 6, 9, 1, 5]\n",
      "0\n",
      "[9, 5, 6, 1]\n",
      "1\n",
      "[9, 5, 6, 1]\n",
      "0\n",
      "[6, 1, 5]\n",
      "0\n",
      "[5, 1]\n"
     ]
    },
    {
     "data": {
      "text/plain": [
       "[1, 5, 6, 9, 10, 12]"
      ]
     },
     "execution_count": 5,
     "metadata": {},
     "output_type": "execute_result"
    }
   ],
   "source": [
    "def Heapify(arr):\n",
    "    heaplen=len(arr)//2-1\n",
    "    for i in range(heaplen+1):\n",
    "        print(i)\n",
    "        largest=i\n",
    "        left=2*i+1\n",
    "        right=2*i+2\n",
    "        if(left< len(arr) and arr[largest]<arr[left]):\n",
    "            arr[largest],arr[left]=arr[left],arr[largest]\n",
    "        if(right< len(arr) and arr[largest]<arr[right]):\n",
    "            arr[largest],arr[right]=arr[right],arr[largest]\n",
    "        print(arr)\n",
    "        \n",
    "    return arr\n",
    "\n",
    "# Heapify([1,12,9,5,6,10])\n",
    "\n",
    "\n",
    "def Heapsort(arr):\n",
    "    reu=[]\n",
    "    arr=Heapify(arr)\n",
    "    i=len(arr)-1\n",
    "    while(i>=0):\n",
    "        arr[0],arr[i]=arr[i],arr[0]\n",
    "        reu.insert(0,arr[i])\n",
    "        arr=Heapify(arr[:i])\n",
    "        i-=1\n",
    "    return reu\n",
    "\n",
    "Heapsort([1,12,9,5,6,10])\n"
   ]
  },
  {
   "cell_type": "code",
   "execution_count": null,
   "metadata": {},
   "outputs": [],
   "source": []
  }
 ],
 "metadata": {
  "interpreter": {
   "hash": "aee8b7b246df8f9039afb4144a1f6fd8d2ca17a180786b69acc140d282b71a49"
  },
  "kernelspec": {
   "display_name": "Python 3.9.7 64-bit",
   "language": "python",
   "name": "python3"
  },
  "language_info": {
   "codemirror_mode": {
    "name": "ipython",
    "version": 3
   },
   "file_extension": ".py",
   "mimetype": "text/x-python",
   "name": "python",
   "nbconvert_exporter": "python",
   "pygments_lexer": "ipython3",
   "version": "3.9.7"
  },
  "orig_nbformat": 4
 },
 "nbformat": 4,
 "nbformat_minor": 2
}
