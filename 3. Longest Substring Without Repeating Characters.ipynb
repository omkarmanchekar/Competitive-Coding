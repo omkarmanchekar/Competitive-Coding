{
 "cells": [
  {
   "cell_type": "code",
   "execution_count": 21,
   "metadata": {},
   "outputs": [
    {
     "data": {
      "text/plain": [
       "3"
      ]
     },
     "execution_count": 21,
     "metadata": {},
     "output_type": "execute_result"
    }
   ],
   "source": [
    "# O(N^3)\n",
    "\n",
    "\n",
    "from collections import Counter\n",
    "s = \"pwwkew\"\n",
    "\n",
    "\n",
    "def allunique(s):\n",
    "    s=list(Counter(s).values())\n",
    "    check=[1]*len(s)\n",
    "    if(s==check):\n",
    "        return True\n",
    "    else:\n",
    "        return False\n",
    "\n",
    "\n",
    "def sol(s):\n",
    "    longest=1\n",
    "    for i in range(len(s)):\n",
    "        for j in range(i+1,len(s)+1):\n",
    "            if(allunique(s[i:j]) and len(s[i:j]) > longest):\n",
    "                longest=len(s[i:j])\n",
    "    return longest\n",
    "\n",
    "\n",
    "\n",
    "\n",
    "sol(s)"
   ]
  },
  {
   "cell_type": "code",
   "execution_count": 90,
   "metadata": {},
   "outputs": [
    {
     "name": "stdout",
     "output_type": "stream",
     "text": [
      "0 1\n"
     ]
    },
    {
     "data": {
      "text/plain": [
       "1"
      ]
     },
     "execution_count": 90,
     "metadata": {},
     "output_type": "execute_result"
    }
   ],
   "source": [
    "s = \"  \"\n",
    "\n",
    "def sol(s):\n",
    "    hash=[0]*128\n",
    "    longest=0\n",
    "    for i in range(len(s)-1):\n",
    "        left=i\n",
    "        hash[ord(s[left])]+=1\n",
    "        right=left+1\n",
    "        while(hash[ord(s[right])]<1):\n",
    "            hash[ord(s[right])]+=1\n",
    "            right+=1\n",
    "        print(left,right)\n",
    "\n",
    "        longest=max(longest,right-left)\n",
    "        hash[ord(s[left])]-=1\n",
    "\n",
    "\n",
    "    return longest\n",
    "        # print(hash)\n",
    "        \n",
    "        # print(\"longest\",longest)\n",
    "\n",
    "\n",
    "sol(s)"
   ]
  },
  {
   "cell_type": "code",
   "execution_count": 78,
   "metadata": {},
   "outputs": [
    {
     "data": {
      "text/plain": [
       "False"
      ]
     },
     "execution_count": 78,
     "metadata": {},
     "output_type": "execute_result"
    }
   ],
   "source": [
    "\" \" == \"  \""
   ]
  },
  {
   "cell_type": "code",
   "execution_count": null,
   "metadata": {},
   "outputs": [],
   "source": []
  }
 ],
 "metadata": {
  "interpreter": {
   "hash": "aee8b7b246df8f9039afb4144a1f6fd8d2ca17a180786b69acc140d282b71a49"
  },
  "kernelspec": {
   "display_name": "Python 3.9.7 64-bit",
   "language": "python",
   "name": "python3"
  },
  "language_info": {
   "codemirror_mode": {
    "name": "ipython",
    "version": 3
   },
   "file_extension": ".py",
   "mimetype": "text/x-python",
   "name": "python",
   "nbconvert_exporter": "python",
   "pygments_lexer": "ipython3",
   "version": "3.9.7"
  },
  "orig_nbformat": 4
 },
 "nbformat": 4,
 "nbformat_minor": 2
}
