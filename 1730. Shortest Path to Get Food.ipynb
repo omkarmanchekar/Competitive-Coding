{
 "cells": [
  {
   "cell_type": "code",
   "execution_count": 139,
   "metadata": {},
   "outputs": [
    {
     "name": "stdout",
     "output_type": "stream",
     "text": [
      "quehe [(1, 1, 0)]\n",
      "quehe [(2, 1, 1)]\n"
     ]
    },
    {
     "data": {
      "text/plain": [
       "-1"
      ]
     },
     "execution_count": 139,
     "metadata": {},
     "output_type": "execute_result"
    }
   ],
   "source": [
    "# noob method\n",
    "\n",
    "grid = [[\"X\",\"X\",\"X\",\"X\",\"X\"],[\"X\",\"*\",\"X\",\"O\",\"X\"],[\"X\",\"O\",\"X\",\"#\",\"X\"],[\"X\",\"X\",\"X\",\"X\",\"X\"]]\n",
    "\n",
    "def initial(grid):\n",
    "    for i in range(len(grid)):\n",
    "        for j in range(len(grid[0])):\n",
    "            if(grid[i][j]==\"*\"):\n",
    "                return (i,j)\n",
    "\n",
    "def BFs(grid,track,queue,row,col):\n",
    "    # print(row,col)\n",
    "    trackbfs=[]\n",
    "    trackbbb=[]\n",
    "    for rowOff,colOff in [(0,1),(1,0),(-1,0),(0,-1)]:\n",
    "        if(row+rowOff in range(len(grid)) and col+colOff in range(len(grid[0])) and grid[row+rowOff][col+colOff] != \"X\" and track[row+rowOff][col+colOff] == False):\n",
    "            queue.append((row+rowOff,col+colOff,queue[0][2]+1))\n",
    "            track[row+rowOff][col+colOff]=True\n",
    "            # return (grid[row+rowOff][col+colOff],row+rowOff,colOff)\n",
    "            # print(\"return\",grid[row+rowOff][col+colOff],row+rowOff,col+colOff)\n",
    "            trackbfs.append(grid[row+rowOff][col+colOff])\n",
    "            trackbbb.append((row+rowOff,col+colOff))\n",
    "            # if(grid[row+rowOff][col+colOff] == \"#\"):\n",
    "            #     return (1,trackbfs,True)\n",
    "    if(trackbfs):\n",
    "        return (1,trackbfs,trackbbb)\n",
    "    else:\n",
    "        return (0,trackbfs,trackbbb)\n",
    "\n",
    "\n",
    "\n",
    "def sol(grid):\n",
    "    queue=[]\n",
    "    track=[]\n",
    "    count=0\n",
    "\n",
    "\n",
    "    for i in range(len(grid)):\n",
    "        track.append([False]*len(grid[0]))\n",
    "\n",
    "\n",
    "    human=initial(grid)\n",
    "    queue.append((human[0],human[1],0))\n",
    "    track[human[0]][human[1]]=True\n",
    "    \n",
    "\n",
    "\n",
    "    for i in range(len(grid)):\n",
    "        for j in range(len(grid[0])):\n",
    "            if(grid[i][j] ==\"X\"):\n",
    "                track[i][j]=True\n",
    "\n",
    "    # print(track)\n",
    "\n",
    "    while(queue):\n",
    "        print(\"quehe\",queue)\n",
    "        bfs=BFs(grid,track,queue,queue[0][0],queue[0][1])\n",
    "        if '#' in bfs[1]:\n",
    "            return queue[-1][2]\n",
    "        else:\n",
    "            queue.pop(0)\n",
    "\n",
    "    return -1\n",
    "\n",
    "    # next=BFs(count,grid,track,queue,queue[0][0],queue[0][1])\n",
    "    # print(next)\n",
    "    # print(human)\n",
    "    # print(queue)\n",
    "    # print(track)\n",
    "    # print(count)\n",
    "\n",
    "\n",
    "\n",
    "\n",
    "\n",
    "    \n",
    "\n",
    "sol(grid)"
   ]
  },
  {
   "cell_type": "code",
   "execution_count": 16,
   "metadata": {},
   "outputs": [
    {
     "name": "stdout",
     "output_type": "stream",
     "text": [
      "1 1\n",
      "[(1, 1), (-1, -1)]\n",
      "bfs ['O', 'O']\n",
      "[(-1, -1), (1, 2), (2, 1)]\n",
      "[(1, 2), (2, 1), (-1, -1)]\n",
      "bfs ['O', 'O']\n",
      "[(2, 1), (-1, -1), (1, 3), (2, 2)]\n",
      "bfs []\n",
      "[(-1, -1), (1, 3), (2, 2)]\n",
      "[(1, 3), (2, 2), (-1, -1)]\n",
      "bfs ['O', '#']\n"
     ]
    },
    {
     "data": {
      "text/plain": [
       "3"
      ]
     },
     "execution_count": 16,
     "metadata": {},
     "output_type": "execute_result"
    }
   ],
   "source": [
    "grid = [[\"X\",\"X\",\"X\",\"X\",\"X\",\"X\"],[\"X\",\"*\",\"O\",\"O\",\"O\",\"X\"],[\"X\",\"O\",\"O\",\"#\",\"O\",\"X\"],[\"X\",\"X\",\"X\",\"X\",\"X\",\"X\"]]\n",
    "\n",
    "\n",
    "def BFS(grid,visited,queue,row,col):\n",
    "    track=[]\n",
    "    for rowOff,colOff in [(0,1),(1,0),(0,-1),(-1,0)]:\n",
    "        if(row+rowOff in range(len(grid)) and col+colOff in range(len(grid[0])) and grid[row+rowOff][col+colOff] != \"X\" and (row+rowOff,col+colOff) not in visited):\n",
    "            queue.append((row+rowOff,col+colOff))\n",
    "            visited.append((row+rowOff,col+colOff))\n",
    "            track.append(grid[row+rowOff][col+colOff])\n",
    "    \n",
    "    return track\n",
    "\n",
    "\n",
    "def sol(grid):\n",
    "    visited=[]\n",
    "    queue=[]\n",
    "    count=0\n",
    "\n",
    "    for i in range(len(grid)):\n",
    "        for j in range(len(grid[0])):\n",
    "            if(grid[i][j] == \"*\"):\n",
    "                visited.append((i,j))\n",
    "                queue.append((i,j))\n",
    "\n",
    "\n",
    "\n",
    "    queue.append((-1,-1))\n",
    "\n",
    "    while(queue):\n",
    "        r,c=queue.pop(0)\n",
    "        if(r==-1 and c==-1):\n",
    "            count+=1\n",
    "            if(len(queue)):\n",
    "                queue.append((-1,-1))\n",
    "        else:\n",
    "            bfs=BFS(grid,visited,queue,r,c)\n",
    "            if(\"#\" in bfs):\n",
    "                return count+1\n",
    "                \n",
    "    return -1\n",
    "\n",
    "\n",
    "sol(grid)\n"
   ]
  },
  {
   "cell_type": "code",
   "execution_count": null,
   "metadata": {},
   "outputs": [],
   "source": []
  }
 ],
 "metadata": {
  "interpreter": {
   "hash": "aee8b7b246df8f9039afb4144a1f6fd8d2ca17a180786b69acc140d282b71a49"
  },
  "kernelspec": {
   "display_name": "Python 3.9.7 64-bit",
   "language": "python",
   "name": "python3"
  },
  "language_info": {
   "codemirror_mode": {
    "name": "ipython",
    "version": 3
   },
   "file_extension": ".py",
   "mimetype": "text/x-python",
   "name": "python",
   "nbconvert_exporter": "python",
   "pygments_lexer": "ipython3",
   "version": "3.9.7"
  },
  "orig_nbformat": 4
 },
 "nbformat": 4,
 "nbformat_minor": 2
}
