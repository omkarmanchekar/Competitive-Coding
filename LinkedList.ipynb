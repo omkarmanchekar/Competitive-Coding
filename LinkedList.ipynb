{
 "cells": [
  {
   "cell_type": "code",
   "execution_count": null,
   "metadata": {},
   "outputs": [],
   "source": [
    "# Create Linked List \n",
    "\n",
    "class Node:\n",
    "    def __init__(self,data):\n",
    "        self.data=data\n",
    "        self.next=None\n",
    "class LinkedList:\n",
    "    def __init__(self):\n",
    "        self.head= None\n",
    "\n",
    "llist=LinkedList()\n",
    "llist.head=Node(1)\n",
    "n2=Node(2)\n",
    "n3= Node(3)\n",
    "\n",
    "llist.head.next=n2\n",
    "n2.next=n3\n",
    "\n"
   ]
  },
  {
   "cell_type": "code",
   "execution_count": 7,
   "metadata": {},
   "outputs": [
    {
     "name": "stdout",
     "output_type": "stream",
     "text": [
      "1\n",
      "2\n",
      "3\n"
     ]
    }
   ],
   "source": [
    "# Print/Traverse Linked List \n",
    "\n",
    "class Node:\n",
    "    def __init__(self,data):\n",
    "        self.data=data\n",
    "        self.next=None\n",
    "class LinkedList:\n",
    "    def __init__(self):\n",
    "        self.head= None\n",
    "\n",
    "    def printlist(self):\n",
    "        temp=self.head\n",
    "        while(temp):\n",
    "            print(temp.data)\n",
    "            temp = temp.next\n",
    "\n",
    "llist=LinkedList()\n",
    "llist.head=Node(1)\n",
    "n2=Node(2)\n",
    "n3= Node(3)\n",
    "\n",
    "llist.head.next=n2\n",
    "n2.next=n3\n",
    "\n",
    "llist.printlist()\n"
   ]
  },
  {
   "cell_type": "code",
   "execution_count": 31,
   "metadata": {},
   "outputs": [
    {
     "name": "stdout",
     "output_type": "stream",
     "text": [
      "Mon\n",
      "Tue\n",
      "wed\n",
      "Sun\n"
     ]
    }
   ],
   "source": [
    "# Add at the begin\n",
    "\n",
    "class Node:\n",
    "    def __init__(self,data):\n",
    "        self.data=data\n",
    "        self.next=None\n",
    "\n",
    "class LinkedList:\n",
    "    def __init__(self):\n",
    "        self.head=None\n",
    "    def printlist(self):\n",
    "        temp=self.head\n",
    "        while(temp):\n",
    "            print(temp.data)\n",
    "            temp=temp.next\n",
    "\n",
    "    def AddAtStart(self,new_data):\n",
    "        NewNode=Node(new_data)\n",
    "        NewNode.next=self.head\n",
    "        self.head=NewNode\n",
    "    \n",
    "    def AddAnyWhere(self,new_data,prev_data):\n",
    "        NewNode = Node(new_data)\n",
    "        if prev_data is None:\n",
    "            print(\"Not in list\")\n",
    "            return\n",
    "        NewNode.next=prev_data.next\n",
    "        prev_data.next=NewNode\n",
    "\n",
    "    \n",
    "l=LinkedList()\n",
    "l.head=Node(\"Mon\")\n",
    "Node2=Node(\"Tue\")\n",
    "Node3=Node(\"wed\")\n",
    "\n",
    "l.head.next=Node2\n",
    "Node2.next=Node3\n",
    "\n",
    "# l.printlist()\n",
    "l.AddAnyWhere(\"Sun\",Node3)\n",
    "l.printlist()\n",
    "\n"
   ]
  },
  {
   "cell_type": "code",
   "execution_count": 9,
   "metadata": {},
   "outputs": [
    {
     "name": "stdout",
     "output_type": "stream",
     "text": [
      "A\n",
      "B\n",
      "C\n",
      "D\n",
      "E\n",
      "F\n",
      "G\n",
      "H\n",
      "I\n",
      "J\n",
      "K\n",
      "L\n",
      "M\n",
      "N\n",
      "O\n",
      "P\n",
      "Q\n",
      "R\n",
      "S\n",
      "T\n",
      "U\n",
      "V\n",
      "W\n",
      "X\n",
      "Y\n",
      "Z\n"
     ]
    }
   ],
   "source": [
    "for i in range(ord(\"A\"),ord(\"Z\")+1):\n",
    "    print(chr(i))"
   ]
  },
  {
   "cell_type": "code",
   "execution_count": 126,
   "metadata": {},
   "outputs": [
    {
     "ename": "AttributeError",
     "evalue": "'int' object has no attribute 'data'",
     "output_type": "error",
     "traceback": [
      "\u001b[0;31m---------------------------------------------------------------------------\u001b[0m",
      "\u001b[0;31mAttributeError\u001b[0m                            Traceback (most recent call last)",
      "\u001b[0;32m/var/folders/2h/3hfmsdps1x3fnygx76hyh9pw0000gn/T/ipykernel_47211/1546475755.py\u001b[0m in \u001b[0;36m<module>\u001b[0;34m\u001b[0m\n\u001b[1;32m     73\u001b[0m \u001b[0;34m\u001b[0m\u001b[0m\n\u001b[1;32m     74\u001b[0m \u001b[0;34m\u001b[0m\u001b[0m\n\u001b[0;32m---> 75\u001b[0;31m \u001b[0mcreateLinkedList\u001b[0m\u001b[0;34m(\u001b[0m\u001b[0;34m[\u001b[0m\u001b[0;36m1\u001b[0m\u001b[0;34m,\u001b[0m\u001b[0;36m4\u001b[0m\u001b[0;34m,\u001b[0m\u001b[0;36m5\u001b[0m\u001b[0;34m]\u001b[0m\u001b[0;34m,\u001b[0m\u001b[0;34m[\u001b[0m\u001b[0;36m2\u001b[0m\u001b[0;34m,\u001b[0m\u001b[0;36m3\u001b[0m\u001b[0;34m]\u001b[0m\u001b[0;34m)\u001b[0m\u001b[0;34m\u001b[0m\u001b[0;34m\u001b[0m\u001b[0m\n\u001b[0m",
      "\u001b[0;32m/var/folders/2h/3hfmsdps1x3fnygx76hyh9pw0000gn/T/ipykernel_47211/1546475755.py\u001b[0m in \u001b[0;36mcreateLinkedList\u001b[0;34m(l1, l2)\u001b[0m\n\u001b[1;32m     52\u001b[0m         \u001b[0mLinkedList3\u001b[0m\u001b[0;34m.\u001b[0m\u001b[0mhead\u001b[0m\u001b[0;34m=\u001b[0m\u001b[0mLinkedList1\u001b[0m\u001b[0;34m.\u001b[0m\u001b[0mhead\u001b[0m\u001b[0;34m.\u001b[0m\u001b[0mdata\u001b[0m\u001b[0;34m\u001b[0m\u001b[0;34m\u001b[0m\u001b[0m\n\u001b[1;32m     53\u001b[0m         \u001b[0mLinkedList1\u001b[0m\u001b[0;34m.\u001b[0m\u001b[0mnext\u001b[0m\u001b[0;34m=\u001b[0m\u001b[0mLinkedList1\u001b[0m\u001b[0;34m.\u001b[0m\u001b[0mhead\u001b[0m\u001b[0;34m\u001b[0m\u001b[0;34m\u001b[0m\u001b[0m\n\u001b[0;32m---> 54\u001b[0;31m         \u001b[0mLinkedList3\u001b[0m\u001b[0;34m.\u001b[0m\u001b[0mprintList\u001b[0m\u001b[0;34m(\u001b[0m\u001b[0;34m)\u001b[0m\u001b[0;34m\u001b[0m\u001b[0;34m\u001b[0m\u001b[0m\n\u001b[0m\u001b[1;32m     55\u001b[0m \u001b[0;34m\u001b[0m\u001b[0m\n\u001b[1;32m     56\u001b[0m     \u001b[0;32melse\u001b[0m\u001b[0;34m:\u001b[0m\u001b[0;34m\u001b[0m\u001b[0;34m\u001b[0m\u001b[0m\n",
      "\u001b[0;32m/var/folders/2h/3hfmsdps1x3fnygx76hyh9pw0000gn/T/ipykernel_47211/1546475755.py\u001b[0m in \u001b[0;36mprintList\u001b[0;34m(self)\u001b[0m\n\u001b[1;32m     12\u001b[0m         \u001b[0mtemp\u001b[0m\u001b[0;34m=\u001b[0m\u001b[0mself\u001b[0m\u001b[0;34m.\u001b[0m\u001b[0mhead\u001b[0m\u001b[0;34m\u001b[0m\u001b[0;34m\u001b[0m\u001b[0m\n\u001b[1;32m     13\u001b[0m         \u001b[0;32mwhile\u001b[0m \u001b[0mtemp\u001b[0m\u001b[0;34m:\u001b[0m\u001b[0;34m\u001b[0m\u001b[0;34m\u001b[0m\u001b[0m\n\u001b[0;32m---> 14\u001b[0;31m             \u001b[0mprint\u001b[0m\u001b[0;34m(\u001b[0m\u001b[0mtemp\u001b[0m\u001b[0;34m.\u001b[0m\u001b[0mdata\u001b[0m\u001b[0;34m)\u001b[0m\u001b[0;34m\u001b[0m\u001b[0;34m\u001b[0m\u001b[0m\n\u001b[0m\u001b[1;32m     15\u001b[0m             \u001b[0mtemp\u001b[0m\u001b[0;34m=\u001b[0m\u001b[0mtemp\u001b[0m\u001b[0;34m.\u001b[0m\u001b[0mnext\u001b[0m\u001b[0;34m\u001b[0m\u001b[0;34m\u001b[0m\u001b[0m\n\u001b[1;32m     16\u001b[0m \u001b[0;34m\u001b[0m\u001b[0m\n",
      "\u001b[0;31mAttributeError\u001b[0m: 'int' object has no attribute 'data'"
     ]
    }
   ],
   "source": [
    "class Node:\n",
    "    def __init__(self,data):\n",
    "        self.next=None\n",
    "        self.data=data\n",
    "\n",
    "class LinkedList:\n",
    "    def __init__(self):\n",
    "        self.head=None\n",
    "        self.next=None\n",
    "\n",
    "    def printList(self):\n",
    "        temp=self.head\n",
    "        while temp:\n",
    "            print(temp.data)\n",
    "            temp=temp.next\n",
    "    \n",
    "    def addtoList(self,newData):\n",
    "        # print(len(newData))\n",
    "        for i in range(len(newData)):\n",
    "            # print(newData[i])\n",
    "            newNode = Node(newData[i])\n",
    "            if(self.head==None):\n",
    "                self.head=newNode\n",
    "            else:\n",
    "                temp=self.head\n",
    "                while temp.next:\n",
    "                    temp=temp.next\n",
    "                temp.next=newNode\n",
    "       \n",
    "\n",
    "\n",
    "\n",
    "\n",
    "def createLinkedList(l1,l2):\n",
    "    LinkedList1=LinkedList()\n",
    "    LinkedList1.addtoList(l1)\n",
    "    # LinkedList1.printList()\n",
    "    LinkedList2=LinkedList()\n",
    "    LinkedList2.addtoList(l2)\n",
    "    # LinkedList2.printList()\n",
    "    LinkedList3=LinkedList()\n",
    "\n",
    "    # if(LinkedList1.head or LinkedList2.head == None):\n",
    "    if LinkedList1.head == None:\n",
    "       LinkedList3.head= LinkedList2.head\n",
    "       return LinkedList3.printList()\n",
    "    if LinkedList2.head == None:\n",
    "       LinkedList3.head= LinkedList1.head\n",
    "       return LinkedList3.printList()\n",
    "    # else:\n",
    "    if(LinkedList1.head.data <= LinkedList2.head.data):\n",
    "        LinkedList3.head=LinkedList1.head\n",
    "        LinkedList1.next=LinkedList1.head\n",
    "        LinkedList3.printList()\n",
    "        \n",
    "    else:\n",
    "        LinkedList3.head=LinkedList2\n",
    "        LinkedList2.next=LinkedList2\n",
    "        print('ad')\n",
    "    # while(LinkedList1.next is not None and LinkedList2.next is not None):\n",
    "    #     if(LinkedList1.head.data <= LinkedList2.head.data):\n",
    "    #         LinkedList3.next = LinkedList1.head\n",
    "    #         LinkedList1.next = LinkedList1\n",
    "    #     if(LinkedList2.head.data <= LinkedList1.head.data):\n",
    "    #         LinkedList3.next = LinkedList2.head\n",
    "    #         LinkedList2.next= LinkedList2\n",
    "    # if(LinkedList1.next == None):\n",
    "    #     LinkedList3.next = LinkedList2\n",
    "    # if(LinkedList2.next == None):\n",
    "    #     LinkedList3.next = LinkedList1\n",
    "    \n",
    "    \n",
    "    \n",
    "\n",
    "createLinkedList([1,4,5],[2,3])\n"
   ]
  },
  {
   "cell_type": "code",
   "execution_count": 95,
   "metadata": {},
   "outputs": [
    {
     "name": "stdout",
     "output_type": "stream",
     "text": [
      "None\n",
      "1\n",
      "2\n",
      "3\n",
      "1\n",
      "2\n",
      "3\n"
     ]
    }
   ],
   "source": [
    "nl= LinkedList()\n",
    "print(nl.head)\n",
    "\n",
    "\n",
    "nnl=LinkedList()\n",
    "nnl.addtoList([1,2,3])\n",
    "\n",
    "nnl.printList()\n",
    "\n",
    "nl.head = nnl.head\n",
    "nl.printList()\n",
    "\n"
   ]
  },
  {
   "cell_type": "code",
   "execution_count": 144,
   "metadata": {},
   "outputs": [
    {
     "name": "stdout",
     "output_type": "stream",
     "text": [
      "======\n",
      "0 2\n",
      "7 0\n",
      "======\n",
      "1 7\n",
      "[1, 0]\n",
      "2 1\n",
      "======\n",
      "2 11\n",
      "-2 2\n",
      "======\n",
      "3 15\n",
      "-6 3\n"
     ]
    }
   ],
   "source": [
    "nums=[2,7,11,15]\n",
    "target=9\n",
    "\n",
    "\n",
    "\n",
    "d={}\n",
    "for ind,val in enumerate(nums):\n",
    "    print(\"======\")\n",
    "    print(ind,val)\n",
    "    if val in d:\n",
    "        print( [ind, d[val]])\n",
    "    print(target-val,ind)\n",
    "    d[target-val] = ind\n",
    "    \n"
   ]
  },
  {
   "cell_type": "code",
   "execution_count": 148,
   "metadata": {},
   "outputs": [
    {
     "data": {
      "text/plain": [
       "1"
      ]
     },
     "execution_count": 148,
     "metadata": {},
     "output_type": "execute_result"
    }
   ],
   "source": [
    "3//2"
   ]
  },
  {
   "cell_type": "code",
   "execution_count": 149,
   "metadata": {},
   "outputs": [
    {
     "data": {
      "text/plain": [
       "range(0, 5)"
      ]
     },
     "execution_count": 149,
     "metadata": {},
     "output_type": "execute_result"
    }
   ],
   "source": [
    "range(5)"
   ]
  },
  {
   "cell_type": "code",
   "execution_count": 3,
   "metadata": {},
   "outputs": [
    {
     "name": "stdout",
     "output_type": "stream",
     "text": [
      "[]\n"
     ]
    }
   ],
   "source": [
    "a=[]\n",
    "print(a)"
   ]
  },
  {
   "cell_type": "code",
   "execution_count": 113,
   "metadata": {},
   "outputs": [
    {
     "name": "stdout",
     "output_type": "stream",
     "text": [
      "1==\n",
      "0\n",
      "<__main__.Node object at 0x110fb1640>\n",
      "4==\n",
      "1\n",
      "3==\n",
      "2\n",
      "3==\n",
      "3\n",
      "<__main__.Node object at 0x110fb1640>\n",
      "0\n",
      "<__main__.Node object at 0x110fb16a0>\n"
     ]
    }
   ],
   "source": [
    "class Node:\n",
    "    def __init__(self,value):\n",
    "        self.value=value\n",
    "        self.next=None\n",
    "\n",
    "class LinkedList:\n",
    "    def __init__(self):\n",
    "        self.head=None\n",
    "\n",
    "    def print(self):\n",
    "        temp=self.head\n",
    "        while(temp):\n",
    "            print(temp.value)\n",
    "            print(temp.next)\n",
    "            temp=temp.next\n",
    "\n",
    "def mergelinkedlist(l1,l2):\n",
    "    if(l1.head==None):\n",
    "        return l2.print()\n",
    "    if(l2.head==None):\n",
    "        return l1.print()\n",
    "\n",
    "    list1=l1.head\n",
    "    list2=l2.head\n",
    "\n",
    "    list3=LinkedList()\n",
    "    temp=list3.head\n",
    "\n",
    "    while(list1 and list2):\n",
    "        if(temp == None):\n",
    "            if(list1.value<=list2.value):\n",
    "                print(\"1==\")\n",
    "                print(list1.value)\n",
    "                temp=Node(list1.value)\n",
    "                list1=list1.next\n",
    "                list3.print()\n",
    "            else:\n",
    "                print(\"2==\")\n",
    "                print(list2.value)\n",
    "                temp=Node(list2.value)\n",
    "                list2=list2.next\n",
    "                list3.print()\n",
    "        else:\n",
    "            if(list1.value<=list2.value):\n",
    "                print(\"3==\")\n",
    "                print(list1.value)\n",
    "                temp.next=Node(list1.value)\n",
    "                list1=list1.next\n",
    "            else:\n",
    "                print(\"4==\")\n",
    "                print(list2.value)\n",
    "                temp.next=Node(list2.value)\n",
    "                list2=list2.next\n",
    "\n",
    "    print(temp)\n",
    "    print(temp.value)\n",
    "    print(temp.next)\n",
    "\n",
    "    if(list1==None and list2!=None):\n",
    "        temp.next=list2\n",
    "        # print(list3.head)\n",
    "        a=list3.head\n",
    "        while(a):\n",
    "            print(a.value)\n",
    "            a=a.next\n",
    "    if(list2==None and list1!=None):\n",
    "        temp.next=list1\n",
    "        a=list3.head\n",
    "        while(a):\n",
    "            print(a.value)\n",
    "            a=a.next\n",
    "\n",
    "\n",
    "    # if(list2==None):\n",
    "    #     print(\"lidt2 emp\")\n",
    "        # temp2=list1.head\n",
    "        # while(temp2):\n",
    "        #     print(temp.value)\n",
    "        #     temp2=list1.next\n",
    "        # else:\n",
    "        \n",
    "        \n",
    "    # l1=l1.head\n",
    "    # l2=l2.head\n",
    "    # new_linkedList=LinkedList()\n",
    "    # temp=new_linkedList.head\n",
    "    # while(l1 and l2):\n",
    "    #     if(new_linkedList.head == None):\n",
    "    #         print(\"none\")\n",
    "    #         if(l1.value<l2.value):\n",
    "    #             print(l1.value)\n",
    "    #             temp=Node(l1.value)\n",
    "    #             l1=l1.next\n",
    "    #         if(l1.value>l2.value):\n",
    "    #             print(l2.value)\n",
    "    #             temp=Node(l2.value)\n",
    "    #             l2=l2.next\n",
    "    #     if(new_linkedList.head !=None):\n",
    "    #         print(\"nont none\")\n",
    "    #         if(l1.value<=l2.value):\n",
    "    #             new_node=Node(l1.value)\n",
    "    #             temp.next=new_node\n",
    "    #             l1=l1.next\n",
    "    #         if(l1.value>l2.value):\n",
    "    #             new_node=Node(l2.value)\n",
    "    #             temp.next=new_node\n",
    "    #             l2=l2.next\n",
    "\n",
    "    # if(l1 or l2 == None and l1 or l2 !=None):\n",
    "    #     if(l1==None):\n",
    "    #         while(l2):\n",
    "    #             new_node=Node(l2.value)\n",
    "    #             temp.next=new_node\n",
    "    #             # l1=l1.next\n",
    "    #     else:\n",
    "    #         while(l1):\n",
    "    #             new_node=Node(l1.value)\n",
    "    #             temp.next=new_node\n",
    "    #             # l1=l1.next\n",
    "    # new_linkedList.print()\n",
    "\n",
    "\n",
    "    \n",
    "l1=LinkedList()\n",
    "l1.head=Node(0)\n",
    "node1=Node(2)\n",
    "node2=Node(3)\n",
    "l1.head.next=node1\n",
    "node1.next=node2\n",
    "\n",
    "l2=LinkedList()\n",
    "l2.head=Node(1)\n",
    "node1=Node(4)\n",
    "node2=Node(5)\n",
    "l2.head.next=node1\n",
    "node1.next=node2\n",
    "\n",
    "mergelinkedlist(l1,l2)\n",
    "# l1.print()\n",
    "\n"
   ]
  },
  {
   "cell_type": "code",
   "execution_count": 13,
   "metadata": {},
   "outputs": [
    {
     "name": "stdout",
     "output_type": "stream",
     "text": [
      "0\n",
      "2\n",
      "3\n"
     ]
    }
   ],
   "source": []
  },
  {
   "cell_type": "code",
   "execution_count": 21,
   "metadata": {},
   "outputs": [
    {
     "name": "stdout",
     "output_type": "stream",
     "text": [
      "0\n"
     ]
    }
   ],
   "source": []
  },
  {
   "cell_type": "code",
   "execution_count": 50,
   "metadata": {},
   "outputs": [
    {
     "ename": "TypeError",
     "evalue": "'<' not supported between instances of 'NoneType' and 'int'",
     "output_type": "error",
     "traceback": [
      "\u001b[0;31m---------------------------------------------------------------------------\u001b[0m",
      "\u001b[0;31mTypeError\u001b[0m                                 Traceback (most recent call last)",
      "\u001b[0;32m/var/folders/2h/3hfmsdps1x3fnygx76hyh9pw0000gn/T/ipykernel_13254/2491696105.py\u001b[0m in \u001b[0;36m<module>\u001b[0;34m\u001b[0m\n\u001b[0;32m----> 1\u001b[0;31m \u001b[0mbool\u001b[0m\u001b[0;34m(\u001b[0m\u001b[0;32mNone\u001b[0m\u001b[0;34m<\u001b[0m\u001b[0;36m2\u001b[0m\u001b[0;34m)\u001b[0m\u001b[0;34m\u001b[0m\u001b[0;34m\u001b[0m\u001b[0m\n\u001b[0m",
      "\u001b[0;31mTypeError\u001b[0m: '<' not supported between instances of 'NoneType' and 'int'"
     ]
    }
   ],
   "source": [
    "\n"
   ]
  },
  {
   "cell_type": "code",
   "execution_count": 32,
   "metadata": {},
   "outputs": [
    {
     "name": "stdout",
     "output_type": "stream",
     "text": [
      "<__main__.LinkedList object at 0x110ecca60>\n"
     ]
    }
   ],
   "source": []
  },
  {
   "cell_type": "code",
   "execution_count": 146,
   "metadata": {},
   "outputs": [
    {
     "name": "stdout",
     "output_type": "stream",
     "text": [
      "0\n",
      "0\n"
     ]
    }
   ],
   "source": [
    "class ListNode:\n",
    "    def __init__(self, val=0, next=None):\n",
    "        self.val = val\n",
    "        self.next = next\n",
    "\n",
    "def addtoList(list):\n",
    "    if(len(list)==0):\n",
    "        return 0\n",
    "\n",
    "    temp=ListNode(-1)\n",
    "    prev=temp\n",
    "    for i in range(len(list)):\n",
    "        new=ListNode(list[i])\n",
    "        prev.next=new\n",
    "        prev=new\n",
    "    \n",
    "    return temp.next\n",
    "    \n",
    "          \n",
    "\n",
    "def p(node):\n",
    "    temp=node\n",
    "    while(temp):\n",
    "        print(temp.val)\n",
    "        print(temp.next)\n",
    "        temp=temp.next\n",
    "\n",
    "l=(addtoList([]))\n",
    "print(l)\n",
    "p(l)\n",
    "print(l)\n",
    "\n",
    "\n"
   ]
  },
  {
   "cell_type": "code",
   "execution_count": null,
   "metadata": {},
   "outputs": [],
   "source": []
  }
 ],
 "metadata": {
  "interpreter": {
   "hash": "aee8b7b246df8f9039afb4144a1f6fd8d2ca17a180786b69acc140d282b71a49"
  },
  "kernelspec": {
   "display_name": "Python 3.9.7 64-bit",
   "language": "python",
   "name": "python3"
  },
  "language_info": {
   "codemirror_mode": {
    "name": "ipython",
    "version": 3
   },
   "file_extension": ".py",
   "mimetype": "text/x-python",
   "name": "python",
   "nbconvert_exporter": "python",
   "pygments_lexer": "ipython3",
   "version": "3.9.7"
  },
  "orig_nbformat": 4
 },
 "nbformat": 4,
 "nbformat_minor": 2
}
