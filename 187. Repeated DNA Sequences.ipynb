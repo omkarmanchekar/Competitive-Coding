{
 "cells": [
  {
   "cell_type": "code",
   "execution_count": 27,
   "metadata": {},
   "outputs": [
    {
     "name": "stdout",
     "output_type": "stream",
     "text": [
      "[('A', 0), ('A', 1), ('A', 2), ('A', 3), ('A', 4), ('A', 5), ('A', 6), ('A', 7), ('A', 8), ('A', 9), ('A', 10)]\n"
     ]
    }
   ],
   "source": [
    "import collections\n",
    "s = \"AAAAAAAAAAA\"\n",
    "\n",
    "def sol(s):\n",
    "    arr=[]\n",
    "    for i in range(0,len(s)-10+1):\n",
    "        arr.append(s[i:i+10])\n",
    "    print(arr)\n",
    "    count=collections.Counter(arr)\n",
    "    print(count)\n",
    "    new_arr=[]\n",
    "    for i in count:\n",
    "        if(count[i]>1):\n",
    "            new_arr.append(i)\n",
    "    return new_arr\n",
    "sol(s)\n",
    "\n",
    "\n",
    "# print(list(zip(s,list(range(len(s))))))\n",
    "    \n",
    "\n",
    "\n"
   ]
  }
 ],
 "metadata": {
  "interpreter": {
   "hash": "aee8b7b246df8f9039afb4144a1f6fd8d2ca17a180786b69acc140d282b71a49"
  },
  "kernelspec": {
   "display_name": "Python 3.9.7 64-bit",
   "language": "python",
   "name": "python3"
  },
  "language_info": {
   "codemirror_mode": {
    "name": "ipython",
    "version": 3
   },
   "file_extension": ".py",
   "mimetype": "text/x-python",
   "name": "python",
   "nbconvert_exporter": "python",
   "pygments_lexer": "ipython3",
   "version": "3.9.7"
  },
  "orig_nbformat": 4
 },
 "nbformat": 4,
 "nbformat_minor": 2
}
