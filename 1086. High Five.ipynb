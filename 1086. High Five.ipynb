{
 "cells": [
  {
   "cell_type": "code",
   "execution_count": 19,
   "metadata": {},
   "outputs": [
    {
     "name": "stdout",
     "output_type": "stream",
     "text": [
      "[[2, 100], [2, 97], [2, 93], [2, 77], [2, 76], [1, 100], [1, 92], [1, 91], [1, 87], [1, 65], [1, 60]]\n"
     ]
    },
    {
     "data": {
      "text/plain": [
       "[[1, 87], [2, 88]]"
      ]
     },
     "execution_count": 19,
     "metadata": {},
     "output_type": "execute_result"
    }
   ],
   "source": [
    "items=[[1,91],[1,92],[2,93],[2,97],[1,60],[2,77],[1,65],[1,87],[1,100],[2,100],[2,76]]\n",
    "\n",
    "\n",
    "def highfive(items):\n",
    "    items=sorted(items,reverse=True)\n",
    "    result=[]\n",
    "    n=len(items)\n",
    "    i=0\n",
    "    while(i<n):\n",
    "        id=items[i][0]\n",
    "        sum=0\n",
    "        for j in range(i,i+5):\n",
    "            sum+=items[j][1]\n",
    "            i+=1\n",
    "        result.append([id,sum//5])\n",
    "        while(i<n and items[i][0] == id):\n",
    "            i+=1\n",
    "        \n",
    "    return sorted(result)\n",
    "            \n",
    "highfive(items)"
   ]
  },
  {
   "cell_type": "code",
   "execution_count": null,
   "metadata": {},
   "outputs": [],
   "source": []
  }
 ],
 "metadata": {
  "interpreter": {
   "hash": "aee8b7b246df8f9039afb4144a1f6fd8d2ca17a180786b69acc140d282b71a49"
  },
  "kernelspec": {
   "display_name": "Python 3.9.7 64-bit",
   "language": "python",
   "name": "python3"
  },
  "language_info": {
   "codemirror_mode": {
    "name": "ipython",
    "version": 3
   },
   "file_extension": ".py",
   "mimetype": "text/x-python",
   "name": "python",
   "nbconvert_exporter": "python",
   "pygments_lexer": "ipython3",
   "version": "3.9.7"
  },
  "orig_nbformat": 4
 },
 "nbformat": 4,
 "nbformat_minor": 2
}
