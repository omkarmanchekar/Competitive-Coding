{
 "cells": [
  {
   "cell_type": "markdown",
   "metadata": {},
   "source": [
    "<h1>Pallindrom #5</h1>"
   ]
  },
  {
   "cell_type": "code",
   "execution_count": 191,
   "metadata": {},
   "outputs": [
    {
     "name": "stdout",
     "output_type": "stream",
     "text": [
      "fklkf\n"
     ]
    }
   ],
   "source": [
    "# N^3 time complexity \n",
    "\n",
    "s= 'ibvjkmpyzsifuxcabqqpahjdeuzaybqsrsmbfplxycsafogotliyvhxjtkrbzqxlyfwujzhkdafhebvsdhkkdbhlhmaoxmbkqiwiusngkbdhlvxdyvnjrzvxmukvdfobzlmvnbnilnsyrgoygfdzjlymhprcpxsnxpcafctikxxybcusgjwmfklkffehbvlhvxfiddznwumxosomfbgxoruoqrhezgsgidgcfzbtdftjxeahriirqgxbhicoxavquhbkaomrroghdnfkknyigsluqebaqrtcwgmlnvmxoagisdmsokeznjsnwpxygjjptvyjjkbmkxvlivinmpnpxgmmorkasebngirckqcawgevljplkkgextudqaodwqmfljljhrujoerycoojwwgtklypicgkyaboqjfivbeqdlonxeidgxsyzugkntoevwfuxovazcyayvwbcqswzhytlmtmrtwpikgacnpkbwgfmpavzyjoxughwhvlsxsgttbcyrlkaarngeoaldsdtjncivhcfsaohmdhgbwkuemcembmlwbwquxfaiukoqvzmgoeppieztdacvwngbkcxknbytvztodbfnjhbtwpjlzuajnlzfmmujhcggpdcwdquutdiubgcvnxvgspmfumeqrofewynizvynavjzkbpkuxxvkjujectdyfwygnfsukvzflcuxxzvxzravzznpxttduajhbsyiywpqunnarabcroljwcbdydagachbobkcvudkoddldaucwruobfylfhyvjuynjrosxczgjwudpxaqwnboxgxybnngxxhibesiaxkicinikzzmonftqkcudlzfzutplbycejmkpxcygsafzkgudy'\n",
    "\n",
    "def pal(s):\n",
    "    start=0\n",
    "    max=0\n",
    "\n",
    "    for i in range(len(s)):\n",
    "        for j in range(i,len(s)):\n",
    "            flag=1\n",
    "            # print(s[i:j+1])\n",
    "            for k in range(0,(j-i)//2+1):\n",
    "                if(s[i+k] != s[j-k]):\n",
    "                    flag=0\n",
    "            if(flag==1 and ((j+1)-i)>max-start):\n",
    "                start=i\n",
    "                max=j+1\n",
    "            \n",
    "    print(s[start:max])\n",
    "\n",
    "pal(s)"
   ]
  },
  {
   "cell_type": "code",
   "execution_count": 9,
   "metadata": {},
   "outputs": [
    {
     "name": "stdout",
     "output_type": "stream",
     "text": [
      "aa\n",
      "aaa\n",
      "aaa\n",
      "aaa\n",
      "aaa\n",
      "aaa\n",
      "codedoc\n",
      "codedoc\n",
      "codedoc\n",
      "codedoc\n"
     ]
    },
    {
     "data": {
      "text/plain": [
       "'codedoc'"
      ]
     },
     "execution_count": 9,
     "metadata": {},
     "output_type": "execute_result"
    }
   ],
   "source": [
    "# N^2 time complexity \n",
    "\n",
    "\n",
    "s=\"aaacodedoc\"\n",
    "def expand(s,start,end):\n",
    "    while(start >= 0 and end <= len(s)-1 and s[start] == s[end]):\n",
    "        start -=1\n",
    "        end +=1\n",
    "    return(s[start+1:end])\n",
    "\n",
    "def pal(s):\n",
    "    if(len(s)) == 1:\n",
    "        return s\n",
    "    longest= s[0:1]\n",
    "    for i in range(len(s)):\n",
    "        temp = expand(s,i,i)\n",
    "        if(len(temp)>len(longest)):\n",
    "            longest=temp\n",
    "        temp = expand(s,i,i+1)\n",
    "        if(len(temp)>len(longest)):\n",
    "            longest=temp\n",
    "        print(longest)\n",
    "    return longest\n",
    "\n",
    "pal(s)\n",
    "    \n",
    "\n"
   ]
  },
  {
   "cell_type": "code",
   "execution_count": 4,
   "metadata": {},
   "outputs": [
    {
     "data": {
      "text/plain": [
       "'o'"
      ]
     },
     "execution_count": 4,
     "metadata": {},
     "output_type": "execute_result"
    }
   ],
   "source": [
    "s=\"omkar\"\n",
    "s[0:1]"
   ]
  },
  {
   "cell_type": "code",
   "execution_count": 3,
   "metadata": {},
   "outputs": [
    {
     "data": {
      "text/plain": [
       "'aaacodedoc'"
      ]
     },
     "execution_count": 3,
     "metadata": {},
     "output_type": "execute_result"
    }
   ],
   "source": [
    "def expand(s,left,right):\n",
    "    while(left>=0 and right<len(s) and s[left]==s[right]):\n",
    "        left-=1\n",
    "        right+=1\n",
    "    return s[left+1:right],left+1,right-1\n",
    "    \n",
    "\n",
    "def solution(s):\n",
    "    if(len(s)==0):\n",
    "        return s\n",
    "    longest=s[0]\n",
    "    left=0\n",
    "    right=1\n",
    "    array=[]\n",
    "    for i in range(len(s)):\n",
    "        array.append(s[0:i+1])\n",
    "    # print(array)\n",
    "    for i in array:\n",
    "        for j in range(len(i)):\n",
    "            temp,left,right=expand(i,j,j)\n",
    "            if(len(temp)>len(longest)):\n",
    "                longest=temp\n",
    "                # print(longest)\n",
    "                left=left\n",
    "                right=right+1\n",
    "            temp,left,right=expand(i,j,j+1)\n",
    "            if(len(temp)>len(longest)):\n",
    "                longest=temp\n",
    "                # print(longest)\n",
    "                left=left\n",
    "                right=right+1\n",
    "            # print(longest)\n",
    "            if(len(longest)>1):\n",
    "                s=s[right:]\n",
    "                solution(s)\n",
    "            else:\n",
    "                return s\n",
    "        \n",
    "solution(\"aaacodedoc\")"
   ]
  },
  {
   "cell_type": "code",
   "execution_count": 17,
   "metadata": {},
   "outputs": [
    {
     "name": "stdout",
     "output_type": "stream",
     "text": [
      "====\n",
      "0\n",
      "0 0 ('a', 2)\n",
      "0 1 ('aa', 2)\n",
      "====\n",
      "1\n",
      "1 1 ('a', 2)\n",
      "1 2 ('', 2)\n",
      "====\n",
      "2\n",
      "2 2 ('aabaa', 2)\n",
      "2 3 ('', 2)\n",
      "====\n",
      "3\n",
      "3 3 ('a', 2)\n",
      "3 4 ('aa', 2)\n",
      "====\n",
      "4\n",
      "4 4 ('a', 2)\n",
      "4 5 ('', 2)\n"
     ]
    },
    {
     "data": {
      "text/plain": [
       "4"
      ]
     },
     "execution_count": 17,
     "metadata": {},
     "output_type": "execute_result"
    }
   ],
   "source": [
    "def expand(s,start,end):\n",
    "    count=1\n",
    "    while(start>=0 and end<=len(s)-1 and s[start]==s[end]):\n",
    "        start-=1\n",
    "        end+=1\n",
    "    count+=1\n",
    "    return(s[start+1:end],count)\n",
    "    \n",
    "def palindrome(s):\n",
    "    # Write your code here\n",
    "    hash={}\n",
    "    count=0\n",
    "    for i in range(len(s)):\n",
    "        print(\"====\")\n",
    "        print(i)\n",
    "        temp=expand(s,i,i)\n",
    "        print(i,i,temp)\n",
    "        hash[temp]=i\n",
    "        temp=expand(s,i,i+1)\n",
    "        hash[temp]=i\n",
    "        print(i,i+1,temp)\n",
    "    for i in hash:\n",
    "        count+=1\n",
    "\n",
    "    return count\n",
    "\n",
    "palindrome(\"aabaa\")"
   ]
  },
  {
   "cell_type": "code",
   "execution_count": 21,
   "metadata": {},
   "outputs": [
    {
     "data": {
      "text/plain": [
       "3"
      ]
     },
     "execution_count": 21,
     "metadata": {},
     "output_type": "execute_result"
    }
   ],
   "source": [
    "def solution(a):\n",
    "    count=0\n",
    "    power=[]\n",
    "    for i in range(30):\n",
    "        power.append(2**i)\n",
    "    for i in range(len(a)):\n",
    "        for j in range(i+1,len(a)):\n",
    "            if(a[i]+a[j] in power):\n",
    "                count+=1\n",
    "    return count\n",
    "                \n",
    "solution([1, -1, 2, 3])"
   ]
  },
  {
   "cell_type": "code",
   "execution_count": null,
   "metadata": {},
   "outputs": [],
   "source": [
    "Given an array of distinct integers a, your task is to find the number of pairs of indices (i, j) such that i ≤ j and the sum a[i] + a[j] is equal to some power of two.\n",
    "\n",
    "Note: numbers 20 = 1, 21 = 2, 22 = 4, 23 = 8, etc. are considered to be powers of two.\n",
    "\n",
    "Example\n",
    "\n",
    "For a = [1, -1, 2, 3], the output should be solution(a) = 5.\n",
    "There is one pair of indices where the corresponding elements sum up to 20 = 1:\n",
    "(1, 2): a[1] + a[2] = -1 + 2 = 1.\n",
    "There are two pairs of indices where the corresponding elements sum up to 21 = 2:\n",
    "(0, 0): a[0] + a[0] = 1 + 1 = 2;\n",
    "(1, 3): a[1] + a[3] = -1 + 3 = 2.\n",
    "There are two pairs of indices where the corresponding elements sum up to 22 = 4:\n",
    "(0, 3): a[0] + a[3] = 1 + 3 = 4;\n",
    "(2, 2): a[2] + a[2] = 2 + 2 = 4;\n",
    "In total, there are 1 + 2 + 2 = 5 pairs summing up to powers of two.\n",
    "For a = [2], the output should be solution(a) = 1.\n",
    "The only pair of indices is (0, 0) and the sum of corresponding elements is equal to 22 = 4. So the answer is 1.\n",
    "For a = [-2, -1, 0, 1, 2], the output should be solution(a) = 5.\n",
    "There are two pairs of indices where the corresponding elements sum up to 20 = 1: (2, 3) and (1, 4).\n",
    "There are two pairs of indices where the corresponding elements sum up to 21 = 2: (2, 4) and (3, 3).\n",
    "There is one pair of indices where the corresponding elements sum up to 22 = 4: (4, 4).\n",
    "In total, there are 2 + 2 + 1 = 5 pairs summing up to powers of two.\n",
    "Input/Output\n",
    "\n",
    "[execution time limit] 6 seconds (py3)\n",
    "\n",
    "[input] array.integer a\n",
    "\n",
    "An array of distinct integers.\n",
    "\n",
    "Guaranteed constraints:\n",
    "1 ≤ a.length ≤ 105,\n",
    "-106 ≤ a[i] ≤ 106.\n",
    "\n",
    "[output] integer\n",
    "\n",
    "The number of pairs of indices (i, j) such that i ≤ j and the sum of the corresponding elements is equal to some power of two.\n",
    "\n",
    "[Python 3] Syntax Tips\n",
    "\n",
    "# Prints help message to the console\n",
    "# Returns a string\n",
    "def helloWorld(name):\n",
    "    print(\"This prints to the console when you Run Tests\")\n",
    "    return \"Hello, \" + name\n"
   ]
  },
  {
   "cell_type": "markdown",
   "metadata": {},
   "source": [
    "You are given a string s. Consider the following algorithm applied to this string:\n",
    "\n",
    "Take all the prefixes of the string, and choose the longest palindrome between them.\n",
    "If this chosen prefix contains at least two characters, cut this prefix from s and go back to the first step with the updated string. Otherwise, end the algorithm with the current string s as a result.\n",
    "Your task is to implement the above algorithm and return its result when applied to string s.\n",
    "\n",
    "Note: you can click on the prefixes and palindrome words to see the definition of the terms if you're not familiar with them.\n",
    "\n",
    "Example\n",
    "\n",
    "For s = \"aaacodedoc\", the output should be solution(s) = \"\".\n",
    "\n",
    "The initial string s = \"aaacodedoc\" contains only three prefixes which are also palindromes - \"a\", \"aa\", \"aaa\". The longest one between them is \"aaa\", so we cut if from s.\n",
    "Now we have string \"codedoc\". It contains two prefixes which are also palindromes - \"c\" and \"codedoc\". The longest one between them is \"codedoc\", so we cut if from the current string and obtain the empty string.\n",
    "Finally the algorithm ends on the empty string, so the answer is \"\".\n",
    "For s = \"codesignal\", the output should be solution(s) = \"codesignal\".\n",
    "The initial string s = \"codesignal\" contains the only prefix, which is also palindrome - \"c\". This prefix is the longest, but doesn't contain two characters, so the algorithm ends with string \"codesignal\" as a result.\n",
    "\n",
    "For s = \"\", the output should be solution(s) = \"\".\n",
    "\n",
    "Input/Output\n",
    "\n",
    "[execution time limit] 4 seconds (py3)\n",
    "\n",
    "[input] string s\n",
    "\n",
    "A string consisting of English lowercase letters.\n",
    "\n",
    "Guaranteed constraints:\n",
    "0 ≤ s.length ≤ 1000.\n",
    "\n",
    "[output] string\n",
    "\n",
    "The result of the described algorithm.\n",
    "\n",
    "[Python 3] Syntax Tips\n",
    "\n",
    "# Prints help message to the console\n",
    "# Returns a string\n",
    "def helloWorld(name):\n",
    "    print(\"This prints to the console when you Run Tests\")\n",
    "    return \"Hello, \" + name\n"
   ]
  },
  {
   "cell_type": "code",
   "execution_count": 58,
   "metadata": {},
   "outputs": [
    {
     "name": "stdout",
     "output_type": "stream",
     "text": [
      "3\n",
      "codedoc\n",
      "7\n",
      "\n"
     ]
    }
   ],
   "source": [
    "def solution(s):\n",
    "    if(len(s)==0):\n",
    "        return \"\"\n",
    "    array=[]\n",
    "    for i in range(len(s)):\n",
    "        array.append(s[0:i+1])\n",
    "    # print(array)\n",
    "    end=1\n",
    "    longest=s[0]\n",
    "    for i in range(len(array)):\n",
    "        if(array[i]==array[i][::-1]):\n",
    "            end=i+1\n",
    "            longest=array[i]\n",
    "    if(len(longest)>1):\n",
    "        print(end)\n",
    "        s=s[end:]\n",
    "        print(s)\n",
    "        solution(s)\n",
    "    else:\n",
    "        return s\n",
    "\n",
    "\n",
    "solution(\"aaacodedoc\")"
   ]
  },
  {
   "cell_type": "code",
   "execution_count": 33,
   "metadata": {},
   "outputs": [
    {
     "data": {
      "text/plain": [
       "'codedocaaa'"
      ]
     },
     "execution_count": 33,
     "metadata": {},
     "output_type": "execute_result"
    }
   ],
   "source": []
  },
  {
   "cell_type": "code",
   "execution_count": 1,
   "metadata": {},
   "outputs": [
    {
     "data": {
      "text/plain": [
       "5"
      ]
     },
     "execution_count": 1,
     "metadata": {},
     "output_type": "execute_result"
    }
   ],
   "source": [
    "import math\n",
    "\n",
    "def log(n):\n",
    "    if(n<1):\n",
    "        return False\n",
    "    x=math.log10(n)/math.log10(2)\n",
    "    return(math.ceil(x)==math.floor(x))\n",
    "\n",
    "\n",
    "def solution(a):\n",
    "    count=0\n",
    "    for i in range(len(a)):\n",
    "        for j in range(i,len(a)):\n",
    "            if(log(a[i]+a[j])):\n",
    "                count+=1\n",
    "    return count\n",
    "\n",
    "\n",
    "solution([1, -1, 2, 3])\n"
   ]
  },
  {
   "cell_type": "code",
   "execution_count": null,
   "metadata": {},
   "outputs": [],
   "source": []
  }
 ],
 "metadata": {
  "interpreter": {
   "hash": "aee8b7b246df8f9039afb4144a1f6fd8d2ca17a180786b69acc140d282b71a49"
  },
  "kernelspec": {
   "display_name": "Python 3.9.7 64-bit",
   "language": "python",
   "name": "python3"
  },
  "language_info": {
   "codemirror_mode": {
    "name": "ipython",
    "version": 3
   },
   "file_extension": ".py",
   "mimetype": "text/x-python",
   "name": "python",
   "nbconvert_exporter": "python",
   "pygments_lexer": "ipython3",
   "version": "3.9.7"
  },
  "orig_nbformat": 4
 },
 "nbformat": 4,
 "nbformat_minor": 2
}
