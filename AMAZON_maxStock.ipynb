{
 "cells": [
  {
   "cell_type": "code",
   "execution_count": 67,
   "metadata": {},
   "outputs": [
    {
     "data": {
      "text/plain": [
       "10"
      ]
     },
     "execution_count": 67,
     "metadata": {},
     "output_type": "execute_result"
    }
   ],
   "source": [
    "from collections import defaultdict\n",
    "stockPrice=[7,1,2,3,1,3,5,5]\n",
    "k=3\n",
    "\n",
    "\n",
    "def sol(stockPrice,k):\n",
    "    track=defaultdict(int)\n",
    "    result=0\n",
    "    l,r=0,0\n",
    "\n",
    "\n",
    "    presum=[stockPrice[0]]\n",
    "    for i in range(1,len(stockPrice)):\n",
    "        presum.append(presum[-1]+stockPrice[i])\n",
    "\n",
    "    # print(presum)\n",
    "        \n",
    "\n",
    "\n",
    "    \n",
    "    while r < len(stockPrice):\n",
    "        # print(sum(track.values()),track)\n",
    "        if(sum(track.values()) < k and stockPrice[r] not in track):\n",
    "            track[stockPrice[r]] +=1\n",
    "            r+=1\n",
    "        else:\n",
    "            if(track[stockPrice[l]] > 1):\n",
    "                track[stockPrice[l]]-=1\n",
    "            else:\n",
    "\n",
    "                track.pop(stockPrice[l])\n",
    "            l+=1\n",
    "            track[stockPrice[r]]+=1\n",
    "            r+=1\n",
    "\n",
    "\n",
    "        # if(len(track) == k ):\n",
    "        #     # print(stockPrice[l:r])\n",
    "        #     result=max(result,sum(stockPrice[l:r]))\n",
    "        #     print(l,r)\n",
    "\n",
    "        result=max(result,presum[r-1]-presum[l])\n",
    "\n",
    "    return result\n",
    "sol(stockPrice,k)"
   ]
  },
  {
   "cell_type": "code",
   "execution_count": 36,
   "metadata": {},
   "outputs": [],
   "source": [
    "stockPrice=[1,2,7,7,4,3,6]"
   ]
  }
 ],
 "metadata": {
  "interpreter": {
   "hash": "aee8b7b246df8f9039afb4144a1f6fd8d2ca17a180786b69acc140d282b71a49"
  },
  "kernelspec": {
   "display_name": "Python 3.9.7 64-bit",
   "language": "python",
   "name": "python3"
  },
  "language_info": {
   "codemirror_mode": {
    "name": "ipython",
    "version": 3
   },
   "file_extension": ".py",
   "mimetype": "text/x-python",
   "name": "python",
   "nbconvert_exporter": "python",
   "pygments_lexer": "ipython3",
   "version": "3.9.7"
  },
  "orig_nbformat": 4
 },
 "nbformat": 4,
 "nbformat_minor": 2
}
