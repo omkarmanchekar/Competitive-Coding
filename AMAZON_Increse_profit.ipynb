{
 "cells": [
  {
   "cell_type": "code",
   "execution_count": 15,
   "metadata": {},
   "outputs": [
    {
     "name": "stdout",
     "output_type": "stream",
     "text": [
      "[1, 2, 3]\n",
      "[2, 3, 4]\n",
      "[5, 8, 9]\n",
      "[8, 9, 10]\n",
      "[9, 10, 12]\n"
     ]
    },
    {
     "data": {
      "text/plain": [
       "5"
      ]
     },
     "execution_count": 15,
     "metadata": {},
     "output_type": "execute_result"
    }
   ],
   "source": [
    "def sol(arr,k):\n",
    "    stack=[arr[0]]\n",
    "    count=0\n",
    "    for i in arr:\n",
    "        if(not(stack)):\n",
    "            stack.append(i)\n",
    "        else:\n",
    "            if(i > stack[-1] and len(stack) < k):\n",
    "                stack.append(i)\n",
    "        if(len(stack) == k):\n",
    "            print(stack)\n",
    "            stack.pop(0)\n",
    "            count+=1\n",
    "        if(i < stack[-1]):\n",
    "            stack.clear()\n",
    "\n",
    "    return count\n",
    "\n",
    "\n",
    "sol([1,2,3,4,1,4,2,5,8,9,10,12,1,13],3)"
   ]
  },
  {
   "cell_type": "code",
   "execution_count": 8,
   "metadata": {},
   "outputs": [
    {
     "name": "stdout",
     "output_type": "stream",
     "text": [
      "[5]\n"
     ]
    }
   ],
   "source": []
  },
  {
   "cell_type": "code",
   "execution_count": null,
   "metadata": {},
   "outputs": [],
   "source": []
  }
 ],
 "metadata": {
  "interpreter": {
   "hash": "aee8b7b246df8f9039afb4144a1f6fd8d2ca17a180786b69acc140d282b71a49"
  },
  "kernelspec": {
   "display_name": "Python 3.9.7 64-bit",
   "language": "python",
   "name": "python3"
  },
  "language_info": {
   "codemirror_mode": {
    "name": "ipython",
    "version": 3
   },
   "file_extension": ".py",
   "mimetype": "text/x-python",
   "name": "python",
   "nbconvert_exporter": "python",
   "pygments_lexer": "ipython3",
   "version": "3.9.7"
  },
  "orig_nbformat": 4
 },
 "nbformat": 4,
 "nbformat_minor": 2
}
