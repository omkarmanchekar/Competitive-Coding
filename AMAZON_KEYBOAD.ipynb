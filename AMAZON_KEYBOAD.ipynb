{
 "cells": [
  {
   "cell_type": "code",
   "execution_count": 72,
   "metadata": {},
   "outputs": [
    {
     "data": {
      "text/plain": [
       "57"
      ]
     },
     "execution_count": 72,
     "metadata": {},
     "output_type": "execute_result"
    }
   ],
   "source": [
    "from collections import Counter\n",
    "\n",
    "s='dyluacvrayggwnpnzijdifyervjaoalcgxovldqf'\n",
    "\n",
    "def sol(s):\n",
    "    counter=Counter(s)\n",
    "    arr=sorted(counter.items(),key = lambda  x:x[1],reverse=True)\n",
    "    multiplier=0\n",
    "    result=0\n",
    "    for i in range(len(arr)):\n",
    "        if(i%9 == 0):\n",
    "            multiplier+=1\n",
    "        result=result+arr[i][1]*multiplier\n",
    "\n",
    "    return(result)\n",
    "\n",
    "\n",
    "    \n",
    "        \n",
    "\n",
    "sol(s)"
   ]
  },
  {
   "cell_type": "code",
   "execution_count": null,
   "metadata": {},
   "outputs": [],
   "source": []
  }
 ],
 "metadata": {
  "interpreter": {
   "hash": "aee8b7b246df8f9039afb4144a1f6fd8d2ca17a180786b69acc140d282b71a49"
  },
  "kernelspec": {
   "display_name": "Python 3.9.7 64-bit",
   "language": "python",
   "name": "python3"
  },
  "language_info": {
   "codemirror_mode": {
    "name": "ipython",
    "version": 3
   },
   "file_extension": ".py",
   "mimetype": "text/x-python",
   "name": "python",
   "nbconvert_exporter": "python",
   "pygments_lexer": "ipython3",
   "version": "3.9.7"
  },
  "orig_nbformat": 4
 },
 "nbformat": 4,
 "nbformat_minor": 2
}
