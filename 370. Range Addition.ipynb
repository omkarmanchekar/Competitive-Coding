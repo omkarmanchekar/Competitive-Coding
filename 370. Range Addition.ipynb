{
 "cells": [
  {
   "cell_type": "code",
   "execution_count": 12,
   "metadata": {},
   "outputs": [
    {
     "data": {
      "text/plain": [
       "[-2, 0, 3, 5, 3]"
      ]
     },
     "execution_count": 12,
     "metadata": {},
     "output_type": "execute_result"
    }
   ],
   "source": [
    "length=5\n",
    "updates=[[1,3,2],[2,4,3],[0,2,-2]]\n",
    "\n",
    "def sol(length,updates):\n",
    "    arr=[0]*length\n",
    "    for start, end, inc in updates:\n",
    "        arr[start] += inc\n",
    "        if end + 1 < length:\n",
    "            arr[end + 1] -= inc\n",
    "\n",
    "    for i in range(1,len(arr)):\n",
    "        arr[i]+=arr[i-1]\n",
    "    return arr\n",
    "\n",
    "\n",
    "\n",
    "sol(length,updates)"
   ]
  },
  {
   "cell_type": "code",
   "execution_count": null,
   "metadata": {},
   "outputs": [],
   "source": []
  }
 ],
 "metadata": {
  "interpreter": {
   "hash": "aee8b7b246df8f9039afb4144a1f6fd8d2ca17a180786b69acc140d282b71a49"
  },
  "kernelspec": {
   "display_name": "Python 3.9.7 64-bit",
   "language": "python",
   "name": "python3"
  },
  "language_info": {
   "codemirror_mode": {
    "name": "ipython",
    "version": 3
   },
   "file_extension": ".py",
   "mimetype": "text/x-python",
   "name": "python",
   "nbconvert_exporter": "python",
   "pygments_lexer": "ipython3",
   "version": "3.9.7"
  },
  "orig_nbformat": 4
 },
 "nbformat": 4,
 "nbformat_minor": 2
}
