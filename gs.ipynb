{
 "cells": [
  {
   "cell_type": "code",
   "execution_count": 31,
   "metadata": {},
   "outputs": [
    {
     "name": "stdout",
     "output_type": "stream",
     "text": [
      "0\n"
     ]
    }
   ],
   "source": [
    "nums=[10,10,10]\n",
    "k=5\n",
    "\n",
    "first = 0\n",
    "second = 0\n",
    "product = 0\n",
    "longest=0\n",
    "\n",
    "for second in range(len(nums)):\n",
    "    # add second to product\n",
    "    product += nums[second]\n",
    "    # print(product)\n",
    "    # move first, till product is less than k\n",
    "    while product > k and first <= second:\n",
    "        product -= nums[first]\n",
    "        first += 1\n",
    "        longest=max(longest,len(nums[first:second+1]))\n",
    "    # count combos. Note that first is one place beyond the starting range, so add +1\n",
    "    longest=max(longest,len(nums[first:second+1]))\n",
    "            \n",
    "print(longest)"
   ]
  },
  {
   "cell_type": "code",
   "execution_count": 40,
   "metadata": {},
   "outputs": [
    {
     "name": "stdout",
     "output_type": "stream",
     "text": [
      "1 3\n",
      "5 7\n",
      "16\n"
     ]
    }
   ],
   "source": [
    "profit=[1,5,1,3,7,-3]\n",
    "k=2\n",
    "\n",
    "n=len(profit)//2\n",
    "\n",
    "sum =0\n",
    "for i in range(k):\n",
    "    print(profit[i],profit[i+n])\n",
    "    sum+=profit[i]+profit[i+n]\n",
    "output=sum\n",
    "\n",
    "for i in range(1,n):\n",
    "    sum+=profit[(i+k-1)%n]-profit[i-1]+profit[(i+k-1)%n+n]-profit[i+n-1]\n",
    "    output=max(sum,output)\n",
    "\n",
    "\n",
    "print(output)"
   ]
  },
  {
   "cell_type": "code",
   "execution_count": null,
   "metadata": {},
   "outputs": [],
   "source": []
  }
 ],
 "metadata": {
  "interpreter": {
   "hash": "aee8b7b246df8f9039afb4144a1f6fd8d2ca17a180786b69acc140d282b71a49"
  },
  "kernelspec": {
   "display_name": "Python 3.9.7 64-bit",
   "language": "python",
   "name": "python3"
  },
  "language_info": {
   "codemirror_mode": {
    "name": "ipython",
    "version": 3
   },
   "file_extension": ".py",
   "mimetype": "text/x-python",
   "name": "python",
   "nbconvert_exporter": "python",
   "pygments_lexer": "ipython3",
   "version": "3.9.7"
  },
  "orig_nbformat": 4
 },
 "nbformat": 4,
 "nbformat_minor": 2
}
