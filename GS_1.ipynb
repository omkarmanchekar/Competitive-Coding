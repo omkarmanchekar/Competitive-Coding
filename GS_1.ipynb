{
 "cells": [
  {
   "cell_type": "code",
   "execution_count": 8,
   "metadata": {},
   "outputs": [
    {
     "name": "stdout",
     "output_type": "stream",
     "text": [
      "1 1\n",
      "4 1 0\n",
      "2 0\n",
      "2 1 0\n"
     ]
    }
   ],
   "source": [
    "# def bactrack():\n",
    "\n",
    "\n",
    "def mincost(rows,col,initR,initC,finalR,finalC,costRow,costCol):\n",
    "    prev_row=initR\n",
    "    prev_col=initC\n",
    "    for rowoff,coloff in [(0,1),(1,0),(-1,0),(0,-1)]:\n",
    "        if(prev_row+rowoff <= rows-1 and prev_col+coloff<col and prev_col+coloff>=0 and prev_row+rowoff>=0 and prev_row+rowoff<=finalR and prev_row+rowoff>=initR and prev_col+coloff<=finalC and prev_col+coloff>=initC):\n",
    "            print(prev_row+rowoff,prev_col+coloff)\n",
    "            if(rowoff):\n",
    "                print(costRow[prev_row+rowoff-1],prev_row,prev_col)\n",
    "            if(coloff):\n",
    "                print(costCol[prev_col+coloff-1],prev_row,prev_col)\n",
    "        \n",
    "\n",
    "mincost(3,3,1,0,2,3,[1,2,3],[4,5,6])\n",
    "\n",
    "\n"
   ]
  },
  {
   "cell_type": "code",
   "execution_count": 18,
   "metadata": {},
   "outputs": [
    {
     "data": {
      "text/plain": [
       "['mouse 2', 'notebook 2', 'keyboard 1']"
      ]
     },
     "execution_count": 18,
     "metadata": {},
     "output_type": "execute_result"
    }
   ],
   "source": [
    "from collections import Counter\n",
    "transactions=['notebook','notebook','mouse','keyboard','mouse']\n",
    "\n",
    "def sol(transactions):\n",
    "    new_array=[]\n",
    "    counts=Counter(transactions)\n",
    "    for i in sorted(counts,key=lambda x:(-counts[x],x)):\n",
    "        new_array.append(\" \".join([i,str(counts[i])]))\n",
    "    return new_array\n",
    "\n",
    "\n",
    "sol(transactions)\n",
    "\n"
   ]
  },
  {
   "cell_type": "code",
   "execution_count": 13,
   "metadata": {},
   "outputs": [
    {
     "data": {
      "text/plain": [
       "dict_items([('notebook', 2), ('mouse', 2), ('keyboard', 1)])"
      ]
     },
     "execution_count": 13,
     "metadata": {},
     "output_type": "execute_result"
    }
   ],
   "source": [
    "lst=['notebook','notebook','mouse','keyboard','mouse']\n",
    "\n",
    "def get_trans(lst):\n",
    "    ans = {}\n",
    "    for i in lst:\n",
    "        ans[i] = ans.get(i, 0) + 1\n",
    "    return ans.items()\n",
    "    \n",
    "\n",
    "\n",
    "get_trans(lst)"
   ]
  },
  {
   "cell_type": "code",
   "execution_count": 25,
   "metadata": {},
   "outputs": [
    {
     "name": "stdout",
     "output_type": "stream",
     "text": [
      "[8, 2]\n",
      "2\n",
      "[2, 4]\n",
      "2\n",
      "[4, 6]\n",
      "4\n"
     ]
    },
    {
     "data": {
      "text/plain": [
       "4"
      ]
     },
     "execution_count": 25,
     "metadata": {},
     "output_type": "execute_result"
    }
   ],
   "source": [
    "def sol(x,space):\n",
    "    output=0\n",
    "    for  i in range(len(space)-x+1):\n",
    "        if(min(space[i:i+x])>=output):\n",
    "            output=min(space[i:i+x])\n",
    "    return output\n",
    "\n",
    "sol(2,[8,2,4,6])\n"
   ]
  },
  {
   "cell_type": "code",
   "execution_count": 19,
   "metadata": {},
   "outputs": [
    {
     "data": {
      "text/plain": [
       "1"
      ]
     },
     "execution_count": 19,
     "metadata": {},
     "output_type": "execute_result"
    }
   ],
   "source": [
    "min([1,2,3])"
   ]
  },
  {
   "cell_type": "code",
   "execution_count": 42,
   "metadata": {},
   "outputs": [
    {
     "name": "stdout",
     "output_type": "stream",
     "text": [
      "[-1, -1, -1, -1, -1]\n",
      "[4, 4, 4, 4, 4]\n",
      "======\n",
      "[-1, -1, 1, 2, -1]\n",
      "[1, 0]\n",
      "[1, 4, 4, 4, 4]\n",
      "[0, 8, 4, 2, 2]\n",
      "8 4 2 2 "
     ]
    }
   ],
   "source": [
    "def printMaxOfMin(arr, n):\n",
    "    \n",
    "    s = [] # Used to find previous \n",
    "           # and next smaller \n",
    "\n",
    "    # Arrays to store previous and next \n",
    "    # smaller. Initialize elements of \n",
    "    # left[] and right[]\n",
    "    left = [-1] * (n + 1) \n",
    "    print(left)\n",
    "    right = [n] * (n + 1) \n",
    "    print(right)\n",
    "    print(\"======\")\n",
    "\n",
    "    # Fill elements of left[] using logic discussed on \n",
    "    # https:#www.geeksforgeeks.org/next-greater-element\n",
    "    for i in range(n):\n",
    "        while (len(s) != 0 and \n",
    "               arr[s[-1]] >= arr[i]): \n",
    "            s.pop() \n",
    "\n",
    "        if (len(s) != 0):\n",
    "            left[i] = s[-1]\n",
    "\n",
    "        s.append(i)\n",
    "    \n",
    "    while (len(s) != 0):\n",
    "        s.pop()\n",
    "\n",
    "    # Fill elements of right[] using same logic\n",
    "    for i in range(n - 1, -1, -1):\n",
    "        while (len(s) != 0 and arr[s[-1]] >= arr[i]): \n",
    "            s.pop() \n",
    "\n",
    "        if(len(s) != 0): \n",
    "            right[i] = s[-1] \n",
    "\n",
    "        s.append(i)\n",
    "\n",
    "    \n",
    "    print(left)\n",
    "    print(s)\n",
    "    print(right)\n",
    "\n",
    "    ans = [0] * (n + 1)\n",
    "    for i in range(n + 1):\n",
    "        ans[i] = 0\n",
    "\n",
    "    for i in range(n):\n",
    "        \n",
    "        # Length of the interval \n",
    "        Len = right[i] - left[i] - 1\n",
    "\n",
    "        # arr[i] is a possible answer for this\n",
    "        #  Length 'Len' interval, check if arr[i] \n",
    "        # is more than max for 'Len' \n",
    "        ans[Len] = max(ans[Len], arr[i])\n",
    "\n",
    "\n",
    "    for i in range(n - 1, 0, -1):\n",
    "        ans[i] = max(ans[i], ans[i + 1]) \n",
    "\n",
    "\n",
    "    print(ans)\n",
    "\n",
    "\n",
    "    for i in range(1, n + 1):\n",
    "        print(ans[i], end = \" \")\n",
    "\n",
    "\n",
    "printMaxOfMin([8,2,4,6],4)"
   ]
  },
  {
   "cell_type": "code",
   "execution_count": null,
   "metadata": {},
   "outputs": [],
   "source": []
  }
 ],
 "metadata": {
  "interpreter": {
   "hash": "aee8b7b246df8f9039afb4144a1f6fd8d2ca17a180786b69acc140d282b71a49"
  },
  "kernelspec": {
   "display_name": "Python 3.9.7 64-bit",
   "language": "python",
   "name": "python3"
  },
  "language_info": {
   "codemirror_mode": {
    "name": "ipython",
    "version": 3
   },
   "file_extension": ".py",
   "mimetype": "text/x-python",
   "name": "python",
   "nbconvert_exporter": "python",
   "pygments_lexer": "ipython3",
   "version": "3.9.7"
  },
  "orig_nbformat": 4
 },
 "nbformat": 4,
 "nbformat_minor": 2
}
